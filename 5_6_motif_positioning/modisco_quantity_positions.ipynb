{
 "cells": [
  {
   "cell_type": "code",
   "execution_count": 9,
   "metadata": {},
   "outputs": [],
   "source": [
    "import joblib\n",
    "import pandas as pd\n",
    "import seaborn as sns\n",
    "import os\n",
    "import matplotlib.pyplot as plt\n",
    "from matplotlib import cm, colors\n",
    "from scipy.stats import mode, gaussian_kde\n",
    "import numpy as np\n",
    "from matplotlib.colors import LinearSegmentedColormap\n",
    "\n",
    "prop_cycle = plt.rcParams[\"axes.prop_cycle\"]\n",
    "colors = prop_cycle.by_key()[\"color\"]"
   ]
  },
  {
   "cell_type": "code",
   "execution_count": 10,
   "metadata": {},
   "outputs": [],
   "source": [
    "def get_counts(arr, fill_values=range(-200, 200)):\n",
    "    counts = {i: list(arr).count(i) for i in arr if i in fill_values}\n",
    "    for i in fill_values:\n",
    "        if i not in counts:\n",
    "            counts[i] = 0\n",
    "    return pd.DataFrame(pd.Series(counts).sort_index()).T"
   ]
  },
  {
   "cell_type": "code",
   "execution_count": 11,
   "metadata": {},
   "outputs": [
    {
     "name": "stdout",
     "output_type": "stream",
     "text": [
      "scp cbsu:/home2/ayh8/attribution_scores/all/mean_across_folds_all_sum_node_modisco_relative_pos.joblib.gz /Users/adamhe/github/scratch/\n"
     ]
    }
   ],
   "source": [
    "server = \"cbsu\"\n",
    "modisco_path = \"/home2/ayh8/attribution_scores/all\"\n",
    "modisco_fp = \"mean_across_folds_all_sum_node_modisco_relative_pos.joblib.gz\"\n",
    "workdir = \"/Users/adamhe/github/scratch/\"\n",
    "\n",
    "print(f\"scp {server}:{os.path.join(modisco_path, modisco_fp)} {workdir}\")"
   ]
  },
  {
   "cell_type": "code",
   "execution_count": 12,
   "metadata": {},
   "outputs": [],
   "source": [
    "pos = joblib.load(os.path.join(workdir, modisco_fp))[\"pos\"]\n",
    "neg = joblib.load(os.path.join(workdir, modisco_fp))[\"neg\"]\n",
    "#predictions = joblib.load(\"/Users/adamhe/github/scratch/random_tss_windows_reference_seq_oriented_predictions.joblib.gz\")\n",
    "#expt = pd.read_csv(\"/Users/adamhe/github/scratch/random_tss_windows_procap_mean_oriented.csv.gz\", header=None, index_col=0).to_numpy()\n",
    "#shap = np.load(\"/Users/adamhe/github/scratch/rnn_v9_dinuc_quantity_random_sum_node_oriented.npz\")[\"arr_0\"]\n",
    "#expt_mean = expt[:, np.r_[250:750, 1250:1750]].mean(axis=1)"
   ]
  },
  {
   "cell_type": "code",
   "execution_count": 13,
   "metadata": {},
   "outputs": [
    {
     "data": {
      "text/plain": [
       "(array([-200, -100,  -50,    0,   50,  100,  200]),\n",
       " [Text(-200, 0, '−200'),\n",
       "  Text(-100, 0, '−100'),\n",
       "  Text(-50, 0, '−50'),\n",
       "  Text(0, 0, '0'),\n",
       "  Text(50, 0, '50'),\n",
       "  Text(100, 0, '100'),\n",
       "  Text(200, 0, '200')])"
      ]
     },
     "execution_count": 13,
     "metadata": {},
     "output_type": "execute_result"
    },
    {
     "data": {
      "image/png": "[encoded data removed]",
      "text/plain": [
       "<Figure size 500x100 with 1 Axes>"
      ]
     },
     "metadata": {},
     "output_type": "display_data"
    }
   ],
   "source": [
    "fig, d = plt.subplots()\n",
    "sns.kdeplot(pos[0])\n",
    "sns.kdeplot(pos[1])\n",
    "sns.kdeplot(pos[2])\n",
    "sns.kdeplot(pos[3])\n",
    "plt.axvline(np.median(pos[0]), 0, 1, color=colors[0], linestyle=\"--\")\n",
    "#plt.axvline(mode(pos[1])[0], 0, 1, color=colors[1], linestyle=\"--\")\n",
    "#plt.axvline(mode(pos[2])[0], 0, 1, color=colors[2], linestyle=\"--\")\n",
    "#plt.axvline(mode(pos[7])[0], 0, 1, color=colors[8], linestyle=\"--\")\n",
    "xticks = [-200, -100, -50, 0, 50, 100, 200]\n",
    "d.set_xticks(xticks)\n",
    "#d.set_xticklabels([\"\"] * len(xticks))\n",
    "plt.xticks(rotation=90)"
   ]
  },
  {
   "cell_type": "code",
   "execution_count": 14,
   "metadata": {},
   "outputs": [],
   "source": [
    "plots = \"./quantity_modisco_position_plots\"\n",
    "os.makedirs(plots, exist_ok=True)"
   ]
  },
  {
   "cell_type": "code",
   "execution_count": null,
   "metadata": {},
   "outputs": [],
   "source": []
  },
  {
   "cell_type": "code",
   "execution_count": 25,
   "metadata": {},
   "outputs": [
    {
     "data": {
      "image/png": "[encoded data removed]",
      "text/plain": [
       "<Figure size 500x100 with 1 Axes>"
      ]
     },
     "metadata": {},
     "output_type": "display_data"
    }
   ],
   "source": [
    "plt.rcParams[\"figure.figsize\"] = 5,1\n",
    "fig, (ax) = plt.subplots(nrows = 1, sharex = True)\n",
    "\n",
    "# 2000\n",
    "i = 0\n",
    "sns.histplot(pos[i], binwidth=10)\n",
    "ax.set_xlim(-250, 250)\n",
    "ax.set_xticks(xticks)\n",
    "ax.set_xticklabels([])\n",
    "#ax.set_yticklabels([])\n",
    "ax.set_ylabel(\"\")\n",
    "plt.axvline(np.median(pos[i]), 0, 1, color=colors[0], linestyle=\"--\")\n",
    "plt.savefig(\"quantity_modisco_position_plots/ETS_hist.pdf\", bbox_inches=\"tight\")"
   ]
  },
  {
   "cell_type": "code",
   "execution_count": 35,
   "metadata": {},
   "outputs": [
    {
     "data": {
      "image/png": "[encoded data removed]",
      "text/plain": [
       "<Figure size 500x100 with 1 Axes>"
      ]
     },
     "metadata": {},
     "output_type": "display_data"
    }
   ],
   "source": [
    "plt.rcParams[\"figure.figsize\"] = 5,1\n",
    "fig, (ax) = plt.subplots(nrows = 1, sharex = True)\n",
    "\n",
    "# 1000\n",
    "i = 1\n",
    "sns.histplot(pos[i], binwidth=10)\n",
    "ax.set_xlim(-250, 250)\n",
    "ax.set_xticks(xticks)\n",
    "ax.set_xticklabels([])\n",
    "ax.set_yticklabels([])\n",
    "ax.set_ylabel(\"\")\n",
    "plt.axvline(np.median(pos[i]), 0, 1, color=colors[0], linestyle=\"--\")\n",
    "plt.savefig(\"quantity_modisco_position_plots/SP_hist.pdf\", bbox_inches=\"tight\")"
   ]
  },
  {
   "cell_type": "code",
   "execution_count": 39,
   "metadata": {},
   "outputs": [
    {
     "data": {
      "image/png": "[encoded data removed]",
      "text/plain": [
       "<Figure size 500x100 with 1 Axes>"
      ]
     },
     "metadata": {},
     "output_type": "display_data"
    }
   ],
   "source": [
    "plt.rcParams[\"figure.figsize\"] = 5,1\n",
    "fig, (ax) = plt.subplots(nrows = 1, sharex = True)\n",
    "\n",
    "# 500\n",
    "i = 2\n",
    "sns.histplot(pos[i], binwidth=10)\n",
    "ax.set_xlim(-250, 250)\n",
    "ax.set_xticks(xticks)\n",
    "ax.set_xticklabels([])\n",
    "ax.set_yticklabels([])\n",
    "ax.set_ylabel(\"\")\n",
    "plt.axvline(np.median(pos[i]), 0, 1, color=colors[0], linestyle=\"--\")\n",
    "plt.savefig(\"quantity_modisco_position_plots/NFY_hist.pdf\", bbox_inches=\"tight\")"
   ]
  },
  {
   "cell_type": "code",
   "execution_count": 28,
   "metadata": {},
   "outputs": [
    {
     "data": {
      "image/png": "[encoded data removed]",
      "text/plain": [
       "<Figure size 500x100 with 1 Axes>"
      ]
     },
     "metadata": {},
     "output_type": "display_data"
    }
   ],
   "source": [
    "plt.rcParams[\"figure.figsize\"] = 5,1\n",
    "fig, (ax) = plt.subplots(nrows = 1, sharex = True)\n",
    "\n",
    "# 500\n",
    "i = 3\n",
    "sns.histplot(pos[i], binwidth=10)\n",
    "ax.set_xlim(-250, 250)\n",
    "ax.set_xticks(xticks)\n",
    "ax.set_xticklabels([])\n",
    "ax.set_yticklabels([])\n",
    "ax.set_ylabel(\"\")\n",
    "plt.axvline(np.median(pos[i]), 0, 1, color=colors[0], linestyle=\"--\")\n",
    "plt.savefig(\"quantity_modisco_position_plots/NRF1_hist.pdf\", bbox_inches=\"tight\")"
   ]
  },
  {
   "cell_type": "code",
   "execution_count": 23,
   "metadata": {},
   "outputs": [
    {
     "data": {
      "image/png": "[encoded data removed]",
      "text/plain": [
       "<Figure size 500x100 with 1 Axes>"
      ]
     },
     "metadata": {},
     "output_type": "display_data"
    }
   ],
   "source": [
    "plt.rcParams[\"figure.figsize\"] = 5,1\n",
    "fig, (ax) = plt.subplots(nrows = 1, sharex = True)\n",
    "\n",
    "# 500\n",
    "i = 4\n",
    "sns.histplot(pos[i], binwidth=10)\n",
    "ax.set_xlim(-250, 250)\n",
    "ax.set_xticks(xticks)\n",
    "ax.set_xticklabels([])\n",
    "ax.set_yticklabels([])\n",
    "ax.set_ylabel(\"\")\n",
    "plt.axvline(np.median(pos[i]), 0, 1, color=colors[0], linestyle=\"--\")\n",
    "plt.savefig(\"quantity_modisco_position_plots/YY1_hist.pdf\", bbox_inches=\"tight\")"
   ]
  },
  {
   "cell_type": "code",
   "execution_count": 30,
   "metadata": {},
   "outputs": [
    {
     "data": {
      "image/png": "[encoded data removed]",
      "text/plain": [
       "<Figure size 500x100 with 1 Axes>"
      ]
     },
     "metadata": {},
     "output_type": "display_data"
    }
   ],
   "source": [
    "plt.rcParams[\"figure.figsize\"] = 5,1\n",
    "fig, (ax) = plt.subplots(nrows = 1, sharex = True)\n",
    "\n",
    "# 200\n",
    "i = 5\n",
    "sns.histplot(pos[i], binwidth=10)\n",
    "ax.set_xlim(-250, 250)\n",
    "ax.set_xticks(xticks)\n",
    "ax.set_xticklabels([])\n",
    "ax.set_yticklabels([])\n",
    "ax.set_ylabel(\"\")\n",
    "plt.axvline(np.median(pos[i]), 0, 1, color=colors[0], linestyle=\"--\")\n",
    "plt.savefig(\"quantity_modisco_position_plots/CREB_hist.pdf\", bbox_inches=\"tight\")"
   ]
  },
  {
   "cell_type": "code",
   "execution_count": 54,
   "metadata": {},
   "outputs": [
    {
     "data": {
      "image/png": "[encoded data removed]",
      "text/plain": [
       "<Figure size 500x100 with 1 Axes>"
      ]
     },
     "metadata": {},
     "output_type": "display_data"
    }
   ],
   "source": [
    "plt.rcParams[\"figure.figsize\"] = 5,1\n",
    "fig, (ax) = plt.subplots(nrows = 1, sharex = True)\n",
    "\n",
    "# 1000\n",
    "i = 6\n",
    "sns.histplot(pos[i], binwidth=10)\n",
    "ax.set_xlim(-250, 250)\n",
    "ax.set_xticks(xticks)\n",
    "ax.set_xticklabels([])\n",
    "ax.set_yticklabels([])\n",
    "ax.set_ylabel(\"\")\n",
    "plt.axvline(np.median(pos[i]), 0, 1, color=colors[0], linestyle=\"--\")\n",
    "plt.savefig(\"quantity_modisco_position_plots/CA_T_Inr_hist.pdf\", bbox_inches=\"tight\")"
   ]
  },
  {
   "cell_type": "code",
   "execution_count": 26,
   "metadata": {},
   "outputs": [
    {
     "data": {
      "text/plain": [
       "<matplotlib.lines.Line2D at 0x140fc42c0>"
      ]
     },
     "execution_count": 26,
     "metadata": {},
     "output_type": "execute_result"
    },
    {
     "data": {
      "image/png": "[encoded data removed]",
      "text/plain": [
       "<Figure size 500x100 with 1 Axes>"
      ]
     },
     "metadata": {},
     "output_type": "display_data"
    }
   ],
   "source": [
    "plt.rcParams[\"figure.figsize\"] = 5,1\n",
    "fig, (ax) = plt.subplots(nrows = 1, sharex = True)\n",
    "\n",
    "# 200\n",
    "i = 7\n",
    "sns.histplot(pos[i], binwidth=10)\n",
    "ax.set_xlim(-250, 250)\n",
    "ax.set_xticks(xticks)\n",
    "ax.set_xticklabels([])\n",
    "#ax.set_yticklabels([])\n",
    "ax.set_ylabel(\"\")\n",
    "plt.axvline(np.median(pos[i]), 0, 1, color=colors[0], linestyle=\"--\")\n",
    "#plt.savefig(\"quantity_modisco_position_plots/IRF_hist.pdf\", bbox_inches=\"tight\")"
   ]
  },
  {
   "cell_type": "code",
   "execution_count": 56,
   "metadata": {},
   "outputs": [
    {
     "data": {
      "image/png": "[encoded data removed]",
      "text/plain": [
       "<Figure size 500x100 with 1 Axes>"
      ]
     },
     "metadata": {},
     "output_type": "display_data"
    }
   ],
   "source": [
    "plt.rcParams[\"figure.figsize\"] = 5,1\n",
    "fig, (ax) = plt.subplots(nrows = 1, sharex = True)\n",
    "\n",
    "# 100\n",
    "i = 8\n",
    "sns.histplot(pos[i], binwidth=10)\n",
    "ax.set_xlim(-250, 250)\n",
    "ax.set_xticks(xticks)\n",
    "ax.set_xticklabels([])\n",
    "ax.set_yticklabels([])\n",
    "ax.set_ylabel(\"\")\n",
    "plt.axvline(np.median(pos[i]), 0, 1, color=colors[0], linestyle=\"--\")\n",
    "plt.savefig(\"quantity_modisco_position_plots/DPR8_hist.pdf\", bbox_inches=\"tight\")"
   ]
  },
  {
   "cell_type": "code",
   "execution_count": 37,
   "metadata": {},
   "outputs": [
    {
     "data": {
      "image/png": "[encoded data removed]",
      "text/plain": [
       "<Figure size 500x100 with 1 Axes>"
      ]
     },
     "metadata": {},
     "output_type": "display_data"
    }
   ],
   "source": [
    "plt.rcParams[\"figure.figsize\"] = 5,1\n",
    "fig, (ax) = plt.subplots(nrows = 1, sharex = True)\n",
    "\n",
    "# 200\n",
    "i = 9\n",
    "sns.histplot(pos[i], binwidth=10)\n",
    "ax.set_xlim(-250, 250)\n",
    "ax.set_xticks(xticks)\n",
    "ax.set_xticklabels([])\n",
    "ax.set_yticklabels([])\n",
    "ax.set_ylabel(\"\")\n",
    "plt.axvline(np.median(pos[i]), 0, 1, color=colors[0], linestyle=\"--\")\n",
    "plt.savefig(\"quantity_modisco_position_plots/CTCF_hist.pdf\", bbox_inches=\"tight\")"
   ]
  },
  {
   "cell_type": "code",
   "execution_count": 58,
   "metadata": {},
   "outputs": [
    {
     "data": {
      "image/png": "[encoded data removed]",
      "text/plain": [
       "<Figure size 500x100 with 1 Axes>"
      ]
     },
     "metadata": {},
     "output_type": "display_data"
    }
   ],
   "source": [
    "plt.rcParams[\"figure.figsize\"] = 5,1\n",
    "fig, (ax) = plt.subplots(nrows = 1, sharex = True)\n",
    "\n",
    "# 1000\n",
    "i = 10\n",
    "sns.histplot(pos[i], binwidth=10)\n",
    "ax.set_xlim(-250, 250)\n",
    "ax.set_xticks(xticks)\n",
    "ax.set_xticklabels([])\n",
    "ax.set_yticklabels([])\n",
    "ax.set_ylabel(\"\")\n",
    "plt.axvline(np.median(pos[i]), 0, 1, color=colors[0], linestyle=\"--\")\n",
    "plt.savefig(\"quantity_modisco_position_plots/CA_A_Inr_hist.pdf\", bbox_inches=\"tight\")"
   ]
  },
  {
   "cell_type": "code",
   "execution_count": 60,
   "metadata": {},
   "outputs": [
    {
     "data": {
      "image/png": "[encoded data removed]",
      "text/plain": [
       "<Figure size 500x100 with 1 Axes>"
      ]
     },
     "metadata": {},
     "output_type": "display_data"
    }
   ],
   "source": [
    "plt.rcParams[\"figure.figsize\"] = 5,1\n",
    "fig, (ax) = plt.subplots(nrows = 1, sharex = True)\n",
    "\n",
    "# 200\n",
    "i = 11\n",
    "sns.histplot(pos[i], binwidth=10)\n",
    "ax.set_xlim(-250, 250)\n",
    "ax.set_xticks(xticks)\n",
    "ax.set_xticklabels([])\n",
    "ax.set_yticklabels([])\n",
    "ax.set_ylabel(\"\")\n",
    "plt.axvline(np.median(pos[i]), 0, 1, color=colors[0], linestyle=\"--\")\n",
    "plt.savefig(\"quantity_modisco_position_plots/Arntl_hist.pdf\", bbox_inches=\"tight\")"
   ]
  },
  {
   "cell_type": "code",
   "execution_count": 32,
   "metadata": {},
   "outputs": [
    {
     "data": {
      "image/png": "[encoded data removed]",
      "text/plain": [
       "<Figure size 500x100 with 1 Axes>"
      ]
     },
     "metadata": {},
     "output_type": "display_data"
    }
   ],
   "source": [
    "plt.rcParams[\"figure.figsize\"] = 5,1\n",
    "fig, (ax) = plt.subplots(nrows = 1, sharex = True)\n",
    "\n",
    "# 100\n",
    "i = 14\n",
    "sns.histplot(pos[i], binwidth=10)\n",
    "ax.set_xlim(-250, 250)\n",
    "ax.set_xticks(xticks)\n",
    "ax.set_xticklabels([])\n",
    "ax.set_yticklabels([])\n",
    "ax.set_ylabel(\"\")\n",
    "plt.axvline(np.median(pos[i]), 0, 1, color=colors[0], linestyle=\"--\")\n",
    "plt.savefig(\"quantity_modisco_position_plots/THAP_hist.pdf\", bbox_inches=\"tight\")"
   ]
  },
  {
   "cell_type": "code",
   "execution_count": 65,
   "metadata": {},
   "outputs": [
    {
     "data": {
      "image/png": "[encoded data removed]",
      "text/plain": [
       "<Figure size 500x100 with 1 Axes>"
      ]
     },
     "metadata": {},
     "output_type": "display_data"
    }
   ],
   "source": [
    "plt.rcParams[\"figure.figsize\"] = 5,1\n",
    "fig, (ax) = plt.subplots(nrows = 1, sharex = True)\n",
    "\n",
    "# 500\n",
    "i = 16\n",
    "sns.histplot(pos[i], binwidth=10)\n",
    "ax.set_xlim(-250, 250)\n",
    "ax.set_xticks(xticks)\n",
    "ax.set_xticklabels([])\n",
    "ax.set_yticklabels([])\n",
    "ax.set_ylabel(\"\")\n",
    "plt.axvline(np.median(pos[i]), 0, 1, color=colors[0], linestyle=\"--\")\n",
    "plt.savefig(\"quantity_modisco_position_plots/TATA_hist.pdf\", bbox_inches=\"tight\")"
   ]
  },
  {
   "cell_type": "code",
   "execution_count": 70,
   "metadata": {},
   "outputs": [
    {
     "data": {
      "image/png": "[encoded data removed]",
      "text/plain": [
       "<Figure size 500x100 with 1 Axes>"
      ]
     },
     "metadata": {},
     "output_type": "display_data"
    }
   ],
   "source": [
    "plt.rcParams[\"figure.figsize\"] = 5,1\n",
    "fig, (ax) = plt.subplots(nrows = 1, sharex = True)\n",
    "\n",
    "# 100\n",
    "i = 17\n",
    "sns.histplot(pos[i], binwidth=10)\n",
    "ax.set_xlim(-250, 250)\n",
    "ax.set_xticks(xticks)\n",
    "ax.set_xticklabels([])\n",
    "ax.set_yticklabels([])\n",
    "ax.set_ylabel(\"\")\n",
    "plt.axvline(np.median(pos[i]), 0, 1, color=colors[0], linestyle=\"--\")\n",
    "plt.savefig(\"quantity_modisco_position_plots/ZBTB33_hist.pdf\", bbox_inches=\"tight\")"
   ]
  },
  {
   "cell_type": "code",
   "execution_count": 72,
   "metadata": {},
   "outputs": [
    {
     "data": {
      "image/png": "[encoded data removed]",
      "text/plain": [
       "<Figure size 500x100 with 1 Axes>"
      ]
     },
     "metadata": {},
     "output_type": "display_data"
    }
   ],
   "source": [
    "plt.rcParams[\"figure.figsize\"] = 5,1\n",
    "fig, (ax) = plt.subplots(nrows = 1, sharex = True)\n",
    "\n",
    "# 100\n",
    "i = 27\n",
    "sns.histplot(pos[i], binwidth=10)\n",
    "ax.set_xlim(-250, 250)\n",
    "ax.set_xticks(xticks)\n",
    "ax.set_xticklabels([])\n",
    "ax.set_yticklabels([])\n",
    "ax.set_ylabel(\"\")\n",
    "plt.axvline(np.median(pos[i]), 0, 1, color=colors[0], linestyle=\"--\")\n",
    "plt.savefig(\"quantity_modisco_position_plots/TATA27_hist.pdf\", bbox_inches=\"tight\")"
   ]
  },
  {
   "cell_type": "code",
   "execution_count": 74,
   "metadata": {},
   "outputs": [
    {
     "data": {
      "image/png": "[encoded data removed]",
      "text/plain": [
       "<Figure size 500x100 with 1 Axes>"
      ]
     },
     "metadata": {},
     "output_type": "display_data"
    }
   ],
   "source": [
    "plt.rcParams[\"figure.figsize\"] = 5,1\n",
    "fig, (ax) = plt.subplots(nrows = 1, sharex = True)\n",
    "\n",
    "# 100\n",
    "i = 33\n",
    "sns.histplot(pos[i], binwidth=10)\n",
    "ax.set_xlim(-250, 250)\n",
    "ax.set_xticks(xticks)\n",
    "ax.set_xticklabels([])\n",
    "ax.set_yticklabels([])\n",
    "ax.set_ylabel(\"\")\n",
    "plt.axvline(np.median(pos[i]), 0, 1, color=colors[0], linestyle=\"--\")\n",
    "plt.savefig(\"quantity_modisco_position_plots/CA_Inr_hist.pdf\", bbox_inches=\"tight\")"
   ]
  },
  {
   "cell_type": "code",
   "execution_count": 75,
   "metadata": {},
   "outputs": [
    {
     "data": {
      "text/plain": [
       "<matplotlib.lines.Line2D at 0x154727650>"
      ]
     },
     "execution_count": 75,
     "metadata": {},
     "output_type": "execute_result"
    },
    {
     "data": {
      "image/png": "[encoded data removed]",
      "text/plain": [
       "<Figure size 500x100 with 1 Axes>"
      ]
     },
     "metadata": {},
     "output_type": "display_data"
    }
   ],
   "source": [
    "plt.rcParams[\"figure.figsize\"] = 5,1\n",
    "fig, (ax) = plt.subplots(nrows = 1, sharex = True)\n",
    "\n",
    "# 100\n",
    "i = 38\n",
    "sns.histplot(pos[i], binwidth=10)\n",
    "ax.set_xlim(-250, 250)\n",
    "ax.set_xticks(xticks)\n",
    "ax.set_xticklabels([])\n",
    "ax.set_yticklabels([])\n",
    "ax.set_ylabel(\"\")\n",
    "plt.axvline(np.median(pos[i]), 0, 1, color=colors[0], linestyle=\"--\")\n",
    "#plt.savefig(\"quantity_modisco_position_plots/CA_Inr_hist.pdf\", bbox_inches=\"tight\")"
   ]
  },
  {
   "cell_type": "code",
   "execution_count": 12,
   "metadata": {},
   "outputs": [
    {
     "ename": "NameError",
     "evalue": "name 'xticks' is not defined",
     "output_type": "error",
     "traceback": [
      "\u001b[0;31m---------------------------------------------------------------------------\u001b[0m",
      "\u001b[0;31mNameError\u001b[0m                                 Traceback (most recent call last)",
      "\u001b[1;32m/Users/adamhe/github/clipnet_plotting/plotting/modisco/modisco_quantity_positions.ipynb Cell 26\u001b[0m line \u001b[0;36m8\n\u001b[1;32m      <a href='vscode-notebook-cell:/Users/adamhe/github/clipnet_plotting/plotting/modisco/modisco_quantity_positions.ipynb#X34sZmlsZQ%3D%3D?line=5'>6</a>\u001b[0m sns\u001b[39m.\u001b[39mhistplot(pos[i], binwidth\u001b[39m=\u001b[39m\u001b[39m10\u001b[39m)\n\u001b[1;32m      <a href='vscode-notebook-cell:/Users/adamhe/github/clipnet_plotting/plotting/modisco/modisco_quantity_positions.ipynb#X34sZmlsZQ%3D%3D?line=6'>7</a>\u001b[0m ax\u001b[39m.\u001b[39mset_xlim(\u001b[39m-\u001b[39m\u001b[39m250\u001b[39m, \u001b[39m250\u001b[39m)\n\u001b[0;32m----> <a href='vscode-notebook-cell:/Users/adamhe/github/clipnet_plotting/plotting/modisco/modisco_quantity_positions.ipynb#X34sZmlsZQ%3D%3D?line=7'>8</a>\u001b[0m ax\u001b[39m.\u001b[39mset_xticks(xticks)\n\u001b[1;32m      <a href='vscode-notebook-cell:/Users/adamhe/github/clipnet_plotting/plotting/modisco/modisco_quantity_positions.ipynb#X34sZmlsZQ%3D%3D?line=8'>9</a>\u001b[0m ax\u001b[39m.\u001b[39mset_xticklabels([])\n\u001b[1;32m     <a href='vscode-notebook-cell:/Users/adamhe/github/clipnet_plotting/plotting/modisco/modisco_quantity_positions.ipynb#X34sZmlsZQ%3D%3D?line=9'>10</a>\u001b[0m ax\u001b[39m.\u001b[39mset_yticklabels([])\n",
      "\u001b[0;31mNameError\u001b[0m: name 'xticks' is not defined"
     ]
    },
    {
     "data": {
      "image/png": "[encoded data removed]",
      "text/plain": [
       "<Figure size 500x100 with 1 Axes>"
      ]
     },
     "metadata": {},
     "output_type": "display_data"
    }
   ],
   "source": [
    "plt.rcParams[\"figure.figsize\"] = 5,1\n",
    "fig, (ax) = plt.subplots(nrows = 1, sharex = True)\n",
    "\n",
    "# 100\n",
    "i = 50\n",
    "sns.histplot(pos[i], binwidth=10)\n",
    "ax.set_xlim(-250, 250)\n",
    "ax.set_xticks(xticks)\n",
    "ax.set_xticklabels([])\n",
    "ax.set_yticklabels([])\n",
    "ax.set_ylabel(\"\")\n",
    "plt.axvline(np.median(pos[i]), 0, 1, color=colors[0], linestyle=\"--\")\n",
    "#plt.savefig(\"quantity_modisco_position_plots/CA_Inr_hist.pdf\", bbox_inches=\"tight\")"
   ]
  },
  {
   "cell_type": "code",
   "execution_count": null,
   "metadata": {},
   "outputs": [],
   "source": []
  }
 ],
 "metadata": {
  "kernelspec": {
   "display_name": "shap",
   "language": "python",
   "name": "python3"
  },
  "language_info": {
   "codemirror_mode": {
    "name": "ipython",
    "version": 3
   },
   "file_extension": ".py",
   "mimetype": "text/x-python",
   "name": "python",
   "nbconvert_exporter": "python",
   "pygments_lexer": "ipython3",
   "version": "3.12.0"
  },
  "orig_nbformat": 4
 },
 "nbformat": 4,
 "nbformat_minor": 2
}
