{
 "cells": [
  {
   "cell_type": "code",
   "execution_count": 1,
   "metadata": {},
   "outputs": [
    {
     "data": {
      "text/plain": [
       "'\\nThis notebook plots the predicted track for a super core promoter (Fig. 6A).\\n'"
      ]
     },
     "execution_count": 1,
     "metadata": {},
     "output_type": "execute_result"
    }
   ],
   "source": [
    "\"\"\"\n",
    "This notebook plots the predicted track for a super core promoter (Fig. 6A).\n",
    "\"\"\""
   ]
  },
  {
   "cell_type": "code",
   "execution_count": 2,
   "metadata": {},
   "outputs": [],
   "source": [
    "import json\n",
    "import numpy as np\n",
    "import os\n",
    "import h5py\n",
    "import sys\n",
    "sys.path.append(\"../\")\n",
    "from utils import plot_side"
   ]
  },
  {
   "cell_type": "code",
   "execution_count": 3,
   "metadata": {},
   "outputs": [
    {
     "name": "stdout",
     "output_type": "stream",
     "text": [
      "wget https://zenodo.org/records/10597358/files/example_tracks_and_deepshap.tar.gz -P /Users/adamhe/github/scratch\n",
      "tar -xvzf /Users/adamhe/github/scratch/example_tracks_and_deepshap.tar.gz -C /Users/adamhe/github/scratch\n"
     ]
    }
   ],
   "source": [
    "# PRINT COMMANDS TO DOWNLOAD AND EXTRACT DATA\n",
    "\n",
    "# Set SCRATCH to where you want to download data to\n",
    "SCRATCH = \"/Users/adamhe/github/scratch\"\n",
    "\n",
    "URL = \"https://zenodo.org/records/10597358/files\"\n",
    "TAR = \"example_tracks_and_deepshap.tar.gz\"\n",
    "print(f\"wget {URL}/{TAR} -P {SCRATCH}\")\n",
    "print(f\"tar -xvzf {SCRATCH}/{TAR} -C {SCRATCH}\")"
   ]
  },
  {
   "cell_type": "code",
   "execution_count": 4,
   "metadata": {},
   "outputs": [],
   "source": [
    "# Load predictions\n",
    "prediction = h5py.File(os.path.join(SCRATCH, \"example_tracks_and_deepshap/folds_chen_core_promoter_predictions.h5\"))\n",
    "tracks = prediction[\"track\"]\n",
    "quantity = prediction[\"quantity\"]\n",
    "quantity = 10 ** (np.hstack(\n",
    "    [np.log10(quantity[:]), np.ones(quantity.shape[0]).reshape(-1, 1)]\n",
    ") @ np.array([[1.59687745, -0.80203685]]).T)\n",
    "y_norm = tracks / np.array(tracks).sum(axis=1, keepdims=True)\n",
    "y_pred_scaled = y_norm * quantity"
   ]
  },
  {
   "cell_type": "code",
   "execution_count": 5,
   "metadata": {},
   "outputs": [],
   "source": [
    "# Crop to only core promoter sequences\n",
    "\n",
    "with open(\"chen_core_promoter_sequences.json\") as f:\n",
    "    core_promoters = json.load(f)\n",
    "\n",
    "left_padding = [int(np.floor((1000 - len(seq)) / 2)) for seq in core_promoters.values()]\n",
    "right_padding = [int(np.ceil((1000 - len(seq)) / 2)) for seq in core_promoters.values()]"
   ]
  },
  {
   "cell_type": "code",
   "execution_count": 8,
   "metadata": {},
   "outputs": [],
   "source": [
    "plot_side(\n",
    "    y_pred_scaled[0][\n",
    "        np.r_[\n",
    "            left_padding[0] - 250: 750 - right_padding[0],\n",
    "            500 + left_padding[0] - 250: 500 + 750 - right_padding[0]\n",
    "        ]\n",
    "    ],\n",
    "    ylim=[-1, 4],\n",
    "    yticks=[0, 4],\n",
    "    pic_name=\"img/ensemble_scp_pred.pdf\",\n",
    ")"
   ]
  },
  {
   "cell_type": "code",
   "execution_count": null,
   "metadata": {},
   "outputs": [],
   "source": []
  }
 ],
 "metadata": {
  "kernelspec": {
   "display_name": "shap",
   "language": "python",
   "name": "python3"
  },
  "language_info": {
   "codemirror_mode": {
    "name": "ipython",
    "version": 3
   },
   "file_extension": ".py",
   "mimetype": "text/x-python",
   "name": "python",
   "nbconvert_exporter": "python",
   "pygments_lexer": "ipython3",
   "version": "3.13.3"
  }
 },
 "nbformat": 4,
 "nbformat_minor": 2
}
