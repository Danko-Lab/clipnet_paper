{
 "cells": [
  {
   "cell_type": "code",
   "execution_count": 1,
   "metadata": {},
   "outputs": [],
   "source": [
    "import joblib\n",
    "import numpy as np\n",
    "import pandas as pd\n",
    "import matplotlib.pyplot as plt\n",
    "from scipy.stats import pearsonr\n",
    "import pyfastx\n",
    "import os\n",
    "import h5py"
   ]
  },
  {
   "cell_type": "code",
   "execution_count": 2,
   "metadata": {},
   "outputs": [],
   "source": [
    "def plot_side(arr, ylim=[-2, 2.5], xticks=[], yticks=[0, 2], pic_name=None):\n",
    "    assert arr.shape[0] % 2 == 0, \"arr must have even length.\"\n",
    "    midpoint = int(arr.shape[0]/2)\n",
    "    pl = arr[:midpoint]\n",
    "    mn = arr[midpoint:]\n",
    "    plt.bar(range(pl.shape[0]), pl, width=2, color=\"r\",)\n",
    "    plt.bar(range(mn.shape[0]), -mn, width=2, color=\"b\")\n",
    "    axes = plt.gca()\n",
    "    axes.set_ylim(ylim)\n",
    "    axes.set_yticks(yticks)\n",
    "    axes.set_xticks(xticks)\n",
    "    axes.spines[[\"right\", \"top\", \"bottom\"]].set_visible(False)\n",
    "    plt.xlim(-0.5, pl.shape[0]-.5)\n",
    "    \n",
    "    if pic_name is None:\n",
    "        plt.show()\n",
    "    else:\n",
    "        plt.savefig(pic_name, transparent=True)\n",
    "        plt.close()"
   ]
  },
  {
   "cell_type": "code",
   "execution_count": 3,
   "metadata": {},
   "outputs": [],
   "source": [
    "server = \"cbsu\"\n",
    "mnt = \"/home2/ayh8/\"\n",
    "predict_dir = \"predictions/ensemble/examples/\"\n",
    "data_dir = \"data/gse110638/examples/\"\n",
    "fasta_fp = \"concat_sequence.fna.gz\"\n",
    "procap_fp = \"concat_procap.npz\"\n",
    "prediction_fps = [f\"fold_{i}_examples_prediction.h5\" for i in [4, 5, 6]]\n",
    "workdir = \"/Users/adamhe/github/scratch/examples\""
   ]
  },
  {
   "cell_type": "code",
   "execution_count": 4,
   "metadata": {},
   "outputs": [
    {
     "name": "stdout",
     "output_type": "stream",
     "text": [
      "scp cbsu:/home2/ayh8/data/gse110638/examples/concat_sequence.fna.gz /Users/adamhe/github/scratch/examples\n",
      "scp cbsu:/home2/ayh8/data/gse110638/examples/concat_procap.npz /Users/adamhe/github/scratch/examples\n",
      "scp cbsu:/home2/ayh8/predictions/ensemble/examples/fold_4_examples_prediction.h5 /Users/adamhe/github/scratch/examples\n",
      "scp cbsu:/home2/ayh8/predictions/ensemble/examples/fold_5_examples_prediction.h5 /Users/adamhe/github/scratch/examples\n",
      "scp cbsu:/home2/ayh8/predictions/ensemble/examples/fold_6_examples_prediction.h5 /Users/adamhe/github/scratch/examples\n"
     ]
    },
    {
     "data": {
      "text/plain": [
       "[None, None, None]"
      ]
     },
     "execution_count": 4,
     "metadata": {},
     "output_type": "execute_result"
    }
   ],
   "source": [
    "os.makedirs(workdir, exist_ok=True)\n",
    "print(f\"scp {server}:{os.path.join(mnt, data_dir, fasta_fp)} {workdir}\")\n",
    "print(f\"scp {server}:{os.path.join(mnt, data_dir, procap_fp)} {workdir}\")\n",
    "[print(f\"scp {server}:{os.path.join(mnt, predict_dir, prediction_fp)} {workdir}\") for prediction_fp in prediction_fps]"
   ]
  },
  {
   "cell_type": "code",
   "execution_count": 39,
   "metadata": {},
   "outputs": [],
   "source": [
    "fasta = pyfastx.Fasta(os.path.join(workdir, fasta_fp))\n",
    "tracks = h5py.File(os.path.join(workdir, prediction_fps[2]))[\"track\"]\n",
    "quantity = h5py.File(os.path.join(workdir, prediction_fps[2]))[\"quantity\"]\n",
    "y = np.load(os.path.join(workdir, procap_fp))[\"arr_0\"][:, np.r_[250:750, 1250:1750]]\n",
    "seqs = pyfastx.Fasta(os.path.join(workdir, fasta_fp))\n",
    "ids = [rec.name for rec in seqs]"
   ]
  },
  {
   "cell_type": "code",
   "execution_count": 40,
   "metadata": {},
   "outputs": [
    {
     "data": {
      "text/plain": [
       "(3953, 1000)"
      ]
     },
     "execution_count": 40,
     "metadata": {},
     "output_type": "execute_result"
    }
   ],
   "source": [
    "y.shape"
   ]
  },
  {
   "cell_type": "code",
   "execution_count": 41,
   "metadata": {},
   "outputs": [],
   "source": [
    "y_norm = np.array(tracks) / (np.array(tracks).sum(axis=1, keepdims=True) + 1e-3)\n",
    "y_pred_scaled = y_norm * quantity"
   ]
  },
  {
   "cell_type": "code",
   "execution_count": 42,
   "metadata": {},
   "outputs": [],
   "source": [
    "NASP_prom_coord = \"chr1:45583513-45584512\" # fold4\n",
    "EH38E3485200_enh_coord = \"chr22:43187170-43188169\" #fold5\n",
    "rpl10a_prom_coord = \"chr6:391301-392300\" # fold6\n",
    "\n",
    "NASP_prom_ids = [idx.split(\"_\")[-1] == NASP_prom_coord for idx in ids]\n",
    "EH38E3485200_enh_ids = [idx.split(\"_\")[-1] == EH38E3485200_enh_coord for idx in ids]\n",
    "rpl10a_prom_ids = [idx.split(\"_\")[-1] == rpl10a_prom_coord for idx in ids]"
   ]
  },
  {
   "cell_type": "code",
   "execution_count": 43,
   "metadata": {},
   "outputs": [
    {
     "data": {
      "text/plain": [
       "array([[0., 0., 0., ..., 0., 0., 0.],\n",
       "       [0., 0., 0., ..., 0., 0., 0.],\n",
       "       [0., 0., 0., ..., 0., 0., 0.],\n",
       "       ...,\n",
       "       [0., 0., 0., ..., 0., 0., 0.],\n",
       "       [0., 0., 0., ..., 0., 0., 0.],\n",
       "       [0., 0., 0., ..., 0., 0., 0.]], dtype=float32)"
      ]
     },
     "execution_count": 43,
     "metadata": {},
     "output_type": "execute_result"
    }
   ],
   "source": [
    "np.array(tracks)[NASP_prom_ids, :]"
   ]
  },
  {
   "cell_type": "code",
   "execution_count": 44,
   "metadata": {},
   "outputs": [
    {
     "data": {
      "image/png": "[encoded data removed]",
      "text/plain": [
       "<Figure size 432x288 with 1 Axes>"
      ]
     },
     "metadata": {
      "needs_background": "light"
     },
     "output_type": "display_data"
    }
   ],
   "source": [
    "plot_side(np.mean(y[NASP_prom_ids], axis=0), ylim=[-5, 50], yticks=[0, 50])#, pic_name=\"fold4_nasp_prom_expt.pdf\")"
   ]
  },
  {
   "cell_type": "code",
   "execution_count": 45,
   "metadata": {},
   "outputs": [
    {
     "data": {
      "image/png": "[encoded data removed]",
      "text/plain": [
       "<Figure size 432x288 with 1 Axes>"
      ]
     },
     "metadata": {
      "needs_background": "light"
     },
     "output_type": "display_data"
    }
   ],
   "source": [
    "plot_side(np.nanmean(y_pred_scaled[NASP_prom_ids], axis=0), ylim=[-6, 60], yticks=[0, 60])#, pic_name=\"fold4_nasp_prom_pred.pdf\")"
   ]
  },
  {
   "cell_type": "code",
   "execution_count": 46,
   "metadata": {},
   "outputs": [
    {
     "data": {
      "image/png": "[encoded data removed]",
      "text/plain": [
       "<Figure size 432x288 with 1 Axes>"
      ]
     },
     "metadata": {
      "needs_background": "light"
     },
     "output_type": "display_data"
    }
   ],
   "source": [
    "plot_side(np.mean(y[EH38E3485200_enh_ids], axis=0), ylim=[-1.5, 15], yticks=[0, 15])#, pic_name=\"ensemble_EH38E3485200_enh_expt.pdf\")"
   ]
  },
  {
   "cell_type": "code",
   "execution_count": 47,
   "metadata": {},
   "outputs": [
    {
     "data": {
      "image/png": "[encoded data removed]",
      "text/plain": [
       "<Figure size 432x288 with 1 Axes>"
      ]
     },
     "metadata": {
      "needs_background": "light"
     },
     "output_type": "display_data"
    }
   ],
   "source": [
    "plot_side(np.mean(y_pred_scaled[EH38E3485200_enh_ids], axis=0), ylim=[-0.5, 5], yticks=[0, 5])#, pic_name=\"ensemble_EH38E3485200_enh_pred.pdf\")"
   ]
  },
  {
   "cell_type": "code",
   "execution_count": 48,
   "metadata": {},
   "outputs": [
    {
     "data": {
      "image/png": "[encoded data removed]",
      "text/plain": [
       "<Figure size 432x288 with 1 Axes>"
      ]
     },
     "metadata": {
      "needs_background": "light"
     },
     "output_type": "display_data"
    }
   ],
   "source": [
    "plot_side(np.mean(y[rpl10a_prom_ids], axis=0), ylim=[-24, 240], yticks=[0, 240])#, pic_name=\"ensemble_rpl10a_prom_expt.pdf\")"
   ]
  },
  {
   "cell_type": "code",
   "execution_count": 49,
   "metadata": {},
   "outputs": [
    {
     "data": {
      "image/png": "[encoded data removed]",
      "text/plain": [
       "<Figure size 432x288 with 1 Axes>"
      ]
     },
     "metadata": {
      "needs_background": "light"
     },
     "output_type": "display_data"
    }
   ],
   "source": [
    "plot_side(np.mean(y_pred_scaled[rpl10a_prom_ids], axis=0), ylim=[-2, 40], yticks=[0, 40])#, pic_name=\"ensemble_rpl10a_prom_pred.pdf\")"
   ]
  },
  {
   "cell_type": "code",
   "execution_count": 50,
   "metadata": {},
   "outputs": [
    {
     "data": {
      "text/plain": [
       "(0.9874411662848538, 0.0)"
      ]
     },
     "execution_count": 50,
     "metadata": {},
     "output_type": "execute_result"
    }
   ],
   "source": [
    "pearsonr(np.mean(y[rpl10a_prom_ids], axis=0), np.mean(y_pred_scaled[rpl10a_prom_ids], axis=0))"
   ]
  },
  {
   "cell_type": "markdown",
   "metadata": {},
   "source": []
  }
 ],
 "metadata": {
  "kernelspec": {
   "display_name": "tf_dev",
   "language": "python",
   "name": "python3"
  },
  "language_info": {
   "codemirror_mode": {
    "name": "ipython",
    "version": 3
   },
   "file_extension": ".py",
   "mimetype": "text/x-python",
   "name": "python",
   "nbconvert_exporter": "python",
   "pygments_lexer": "ipython3",
   "version": "3.10.9"
  },
  "orig_nbformat": 4,
  "vscode": {
   "interpreter": {
    "hash": "0dc70fb9079410f02c3609bf83a3278b2bbb4ee241371158723a3b8049f030e4"
   }
  }
 },
 "nbformat": 4,
 "nbformat_minor": 2
}
