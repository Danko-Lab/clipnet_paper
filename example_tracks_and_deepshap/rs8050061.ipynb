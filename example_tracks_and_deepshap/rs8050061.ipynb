{
 "cells": [
  {
   "cell_type": "code",
   "execution_count": 1,
   "metadata": {},
   "outputs": [
    {
     "data": {
      "text/plain": [
       "'\\nThis notebook plots predicted and observed tracks for the rs8050061 diQTL (Fig. 3D)\\n'"
      ]
     },
     "execution_count": 1,
     "metadata": {},
     "output_type": "execute_result"
    }
   ],
   "source": [
    "\"\"\"\n",
    "This notebook plots predicted and observed tracks for the rs8050061 diQTL (Fig. 3D)\n",
    "\"\"\""
   ]
  },
  {
   "cell_type": "code",
   "execution_count": 1,
   "id": "836fc0c4-d374-4e2c-a194-8485280761ae",
   "metadata": {},
   "outputs": [],
   "source": [
    "import numpy as np\n",
    "import pyfastx\n",
    "import os\n",
    "import h5py\n",
    "import sys\n",
    "sys.path.append(\"../\")\n",
    "from utils import plot_side"
   ]
  },
  {
   "cell_type": "code",
   "execution_count": 2,
   "id": "c615683a",
   "metadata": {},
   "outputs": [
    {
     "name": "stdout",
     "output_type": "stream",
     "text": [
      "wget https://zenodo.org/records/10597358/files/example_tracks_and_deepshap.tar.gz -P /Users/adamhe/github/scratch\n",
      "tar -cvzf /Users/adamhe/github/scratch/example_tracks_and_deepshap.tar.gz\n"
     ]
    }
   ],
   "source": [
    "# PRINT COMMANDS TO DOWNLOAD AND EXTRACT DATA\n",
    "\n",
    "# Set SCRATCH to where you want to download data to\n",
    "SCRATCH = \"/Users/adamhe/github/scratch\"\n",
    "\n",
    "URL = \"https://zenodo.org/records/10597358/files\"\n",
    "TAR = \"example_tracks_and_deepshap.tar.gz\"\n",
    "print(f\"wget {URL}/{TAR} -P {SCRATCH}\")\n",
    "print(f\"tar -xvzf {SCRATCH}/{TAR}\")"
   ]
  },
  {
   "cell_type": "code",
   "execution_count": 4,
   "id": "cbe5af97",
   "metadata": {},
   "outputs": [],
   "source": [
    "# Load data\n",
    "\n",
    "# Experimental\n",
    "y = np.load(\n",
    "    os.path.join(SCRATCH, \"example_tracks_and_deepshap/concat_procap.npz\")\n",
    ")[\"arr_0\"][:, np.r_[250:750, 1250:1750]]\n",
    "\n",
    "# Predicted\n",
    "prediction = h5py.File(os.path.join(SCRATCH, \"example_tracks_and_deepshap/fold_7_examples_prediction.h5\"))\n",
    "tracks = prediction[\"track\"]\n",
    "quantity = prediction[\"quantity\"]\n",
    "y_norm = tracks / np.array(tracks).sum(axis=1, keepdims=True)\n",
    "y_pred_scaled = y_norm * quantity"
   ]
  },
  {
   "cell_type": "code",
   "execution_count": 10,
   "id": "d13facb7",
   "metadata": {},
   "outputs": [],
   "source": [
    "# Divide individuals by genotype:\n",
    "\n",
    "fasta = pyfastx.Fasta(os.path.join(SCRATCH, \"example_tracks_and_deepshap/concat_sequence.fna.gz\"))\n",
    "seq_coords = [seq.name.split(\"_\")[-1] for seq in fasta]\n",
    "\n",
    "rs8050061_coord = \"chr16:80231439-80232438\"\n",
    "rs8050061_seqs = [i for i in range(len(fasta)) if seq_coords[i] == rs8050061_coord]\n",
    "\n",
    "c_pred = [y_pred_scaled[i, :] for i in rs8050061_seqs if fasta[i].seq[500] == \"C\"]\n",
    "c_expt = [y[i, :] for i in rs8050061_seqs if fasta[i].seq[500] == \"C\"]\n",
    "ct_pred = [y_pred_scaled[i, :] for i in rs8050061_seqs if fasta[i].seq[500] == \"Y\"]\n",
    "ct_expt = [y[i, :] for i in rs8050061_seqs if fasta[i].seq[500] == \"Y\"]\n",
    "t_pred = [y_pred_scaled[i, :] for i in rs8050061_seqs if fasta[i].seq[500] == \"T\"]\n",
    "t_expt = [y[i, :] for i in rs8050061_seqs if fasta[i].seq[500] == \"T\"]\n",
    "\n",
    "# Get mean per genotype\n",
    "\n",
    "c_pred_mean = np.mean(np.array(c_pred), axis=0)\n",
    "c_expt_mean = np.mean(np.array(c_expt), axis=0)\n",
    "ct_pred_mean = np.mean(np.array(ct_pred), axis=0)\n",
    "ct_expt_mean = np.mean(np.array(ct_expt), axis=0)\n",
    "t_pred_mean = np.mean(np.array(t_pred), axis=0)\n",
    "t_expt_mean = np.mean(np.array(t_expt), axis=0)"
   ]
  },
  {
   "cell_type": "code",
   "execution_count": 11,
   "id": "7a58a7b5",
   "metadata": {},
   "outputs": [],
   "source": [
    "plot_side(c_pred_mean, ylim=[-6, 3], yticks=[0, 0.5], pic_name=\"img/model_fold_7_rs8050061C_pred.pdf\")"
   ]
  },
  {
   "cell_type": "code",
   "execution_count": 12,
   "id": "e6e795d0",
   "metadata": {},
   "outputs": [],
   "source": [
    "plot_side(c_expt_mean, ylim=[-0.5, 0.25], yticks=[0, 0.25], pic_name=\"img/model_fold_7_rs8050061C_expt.pdf\")"
   ]
  },
  {
   "cell_type": "code",
   "execution_count": 13,
   "id": "cf5009a2",
   "metadata": {},
   "outputs": [],
   "source": [
    "plot_side(t_pred_mean, ylim=[-6, 3], yticks=[0, 0.5], pic_name=\"img/model_fold_7_rs8050061T_pred.pdf\")"
   ]
  },
  {
   "cell_type": "code",
   "execution_count": 14,
   "metadata": {},
   "outputs": [],
   "source": [
    "plot_side(t_expt_mean, ylim=[-0.5, 0.25], yticks=[0, 0.25], pic_name=\"img/model_fold_7_rs8050061T_expt.pdf\")"
   ]
  },
  {
   "cell_type": "code",
   "execution_count": 15,
   "metadata": {},
   "outputs": [],
   "source": [
    "plot_side(ct_expt_mean, ylim=[-1, 0.5], yticks=[0, 0.5], pic_name=\"img/model_fold_7_rs8050061CT_expt.pdf\")"
   ]
  },
  {
   "cell_type": "code",
   "execution_count": 16,
   "id": "39931a36",
   "metadata": {},
   "outputs": [],
   "source": [
    "plot_side(ct_pred_mean, ylim=[-6, 3], yticks=[0, 0.5], pic_name=\"img/model_fold_7_rs8050061CT_pred.pdf\")"
   ]
  },
  {
   "cell_type": "code",
   "execution_count": null,
   "id": "fde865b1",
   "metadata": {},
   "outputs": [],
   "source": []
  }
 ],
 "metadata": {
  "kernelspec": {
   "display_name": "tf_dev",
   "language": "python",
   "name": "python3"
  },
  "language_info": {
   "codemirror_mode": {
    "name": "ipython",
    "version": 3
   },
   "file_extension": ".py",
   "mimetype": "text/x-python",
   "name": "python",
   "nbconvert_exporter": "python",
   "pygments_lexer": "ipython3",
   "version": "3.12.0"
  },
  "vscode": {
   "interpreter": {
    "hash": "0dc70fb9079410f02c3609bf83a3278b2bbb4ee241371158723a3b8049f030e4"
   }
  }
 },
 "nbformat": 4,
 "nbformat_minor": 5
}
