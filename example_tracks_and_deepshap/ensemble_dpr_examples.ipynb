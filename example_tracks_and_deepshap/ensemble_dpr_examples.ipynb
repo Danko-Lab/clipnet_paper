{
 "cells": [
  {
   "cell_type": "code",
   "execution_count": 111,
   "metadata": {},
   "outputs": [],
   "source": [
    "import joblib\n",
    "import numpy as np\n",
    "import pandas as pd\n",
    "import matplotlib.pyplot as plt\n",
    "from scipy.stats import pearsonr\n",
    "import pyfastx\n",
    "import os\n",
    "import h5py"
   ]
  },
  {
   "cell_type": "code",
   "execution_count": 112,
   "metadata": {},
   "outputs": [],
   "source": [
    "def plot_side(arr, ylim=[-2, 2.5], xticks=[], yticks=[0, 2], pic_name=None):\n",
    "    assert arr.shape[0] % 2 == 0, \"arr must have even length.\"\n",
    "    midpoint = int(arr.shape[0]/2)\n",
    "    pl = arr[:midpoint]\n",
    "    mn = arr[midpoint:]\n",
    "    plt.bar(range(pl.shape[0]), pl, width=2, color=\"r\",)\n",
    "    plt.bar(range(mn.shape[0]), -mn, width=2, color=\"b\")\n",
    "    axes = plt.gca()\n",
    "    axes.set_ylim(ylim)\n",
    "    axes.set_yticks(yticks)\n",
    "    axes.set_xticks(xticks)\n",
    "    axes.spines[[\"right\", \"top\", \"bottom\"]].set_visible(False)\n",
    "    plt.xlim(-0.5, pl.shape[0]-.5)\n",
    "    \n",
    "    if pic_name is None:\n",
    "        plt.show()\n",
    "    else:\n",
    "        plt.savefig(pic_name, transparent=True)\n",
    "        plt.close()"
   ]
  },
  {
   "cell_type": "code",
   "execution_count": 113,
   "metadata": {},
   "outputs": [],
   "source": [
    "procap_fp = \"dpr_windows_procap_mean.csv.gz\"\n",
    "prediction_fp = \"ensemble_dpr_prediction_mean.h5\"\n",
    "scratch = \"/Users/adamhe/github/scratch/\""
   ]
  },
  {
   "cell_type": "code",
   "execution_count": 114,
   "metadata": {},
   "outputs": [],
   "source": [
    "tracks = h5py.File(os.path.join(scratch, prediction_fp))[\"track\"]\n",
    "quantity = h5py.File(os.path.join(scratch, prediction_fp))[\"quantity\"]\n",
    "y_norm = tracks / np.array(tracks).sum(axis=1, keepdims=True)\n",
    "y_pred_scaled = y_norm * quantity\n",
    "\n",
    "y = pd.read_csv(\n",
    "    os.path.join(scratch, procap_fp), header=None, index_col=0\n",
    ").to_numpy()[:, np.r_[250:750, 1250:1750]]\n",
    "\n",
    "dpr_scores = pd.read_csv(\n",
    "    os.path.join(scratch, \"active_dpr_svrh.bed.gz\"), sep=\"\\t\", header=None\n",
    ")\n",
    "dpr_desc = dpr_scores.loc[:,10].sort_values(ascending=False).index"
   ]
  },
  {
   "cell_type": "code",
   "execution_count": 139,
   "metadata": {},
   "outputs": [
    {
     "data": {
      "text/plain": [
       "0                         chr8\n",
       "1                     99893680\n",
       "2                     99893681\n",
       "3                         chr8\n",
       "4                     99893680\n",
       "5                     99893681\n",
       "6     chr8-100905909-m-FI_0.84\n",
       "7                            -\n",
       "8          TTAGTCAGGAAGGACGTTG\n",
       "9                        17.66\n",
       "10                        9.24\n",
       "Name: 2088, dtype: object"
      ]
     },
     "execution_count": 139,
     "metadata": {},
     "output_type": "execute_result"
    }
   ],
   "source": [
    "dpr_scores.iloc[dpr_desc[10]]"
   ]
  },
  {
   "cell_type": "code",
   "execution_count": 117,
   "metadata": {},
   "outputs": [],
   "source": [
    "plot_side(\n",
    "    y[dpr_desc[1]], ylim=[-180, 10], yticks=[0, -180],\n",
    "    pic_name=\"ensemble_irf1_prom.pdf\"\n",
    ")"
   ]
  },
  {
   "cell_type": "code",
   "execution_count": 118,
   "metadata": {},
   "outputs": [],
   "source": [
    "plot_side(\n",
    "    y_pred_scaled[dpr_desc[1]], ylim=[-36, 2], yticks=[0, -36],\n",
    "    pic_name=\"ensemble_irf1_prom_pred.pdf\"\n",
    ")"
   ]
  },
  {
   "cell_type": "code",
   "execution_count": 121,
   "metadata": {},
   "outputs": [],
   "source": [
    "plot_side(\n",
    "    y[dpr_desc[5]], ylim=[-48, 8], yticks=[0, -3],\n",
    "    pic_name=\"ensemble_ivns1abp_prom.pdf\"\n",
    ")"
   ]
  },
  {
   "cell_type": "code",
   "execution_count": 122,
   "metadata": {},
   "outputs": [],
   "source": [
    "plot_side(\n",
    "    y_pred_scaled[dpr_desc[5]], ylim=[-18, 3], yticks=[0, -3],\n",
    "    pic_name=\"ensemble_ivns1abp_prom_pred.pdf\"\n",
    ")"
   ]
  },
  {
   "cell_type": "code",
   "execution_count": 124,
   "metadata": {},
   "outputs": [],
   "source": [
    "plot_side(\n",
    "    y[dpr_desc[6]], ylim=[-3, 24], yticks=[0, 24],\n",
    "    pic_name=\"ensemble_nolc1_prom.pdf\"\n",
    ")"
   ]
  },
  {
   "cell_type": "code",
   "execution_count": 125,
   "metadata": {},
   "outputs": [],
   "source": [
    "plot_side(\n",
    "    y_pred_scaled[dpr_desc[6]], ylim=[-1, 8], yticks=[0, 8],\n",
    "    pic_name=\"ensemble_nolc1_prom_pred.pdf\"\n",
    ")"
   ]
  },
  {
   "cell_type": "code",
   "execution_count": 137,
   "metadata": {},
   "outputs": [],
   "source": [
    "plot_side(\n",
    "    y[dpr_desc[10]], ylim=[-9, 3], yticks=[0, 3],\n",
    "    pic_name=\"ensemble_cox6c_prom.pdf\"\n",
    ")"
   ]
  },
  {
   "cell_type": "code",
   "execution_count": 127,
   "metadata": {},
   "outputs": [],
   "source": [
    "plot_side(\n",
    "    y_pred_scaled[dpr_desc[10]], ylim=[-4.5, 1.5], yticks=[0, 1.5],\n",
    "    pic_name=\"ensemble_cox6c_prom_pred.pdf\"\n",
    ")"
   ]
  }
 ],
 "metadata": {
  "kernelspec": {
   "display_name": "tf_dev",
   "language": "python",
   "name": "python3"
  },
  "language_info": {
   "codemirror_mode": {
    "name": "ipython",
    "version": 3
   },
   "file_extension": ".py",
   "mimetype": "text/x-python",
   "name": "python",
   "nbconvert_exporter": "python",
   "pygments_lexer": "ipython3",
   "version": "3.12.0"
  },
  "orig_nbformat": 4,
  "vscode": {
   "interpreter": {
    "hash": "0dc70fb9079410f02c3609bf83a3278b2bbb4ee241371158723a3b8049f030e4"
   }
  }
 },
 "nbformat": 4,
 "nbformat_minor": 2
}
