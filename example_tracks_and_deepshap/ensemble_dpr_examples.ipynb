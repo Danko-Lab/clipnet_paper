{
 "cells": [
  {
   "cell_type": "code",
   "execution_count": null,
   "metadata": {},
   "outputs": [],
   "source": [
    "\"\"\"\n",
    "This notebook plots predicted and observed tracks for the DPR examples (Fig. 6C-D).\n",
    "\"\"\""
   ]
  },
  {
   "cell_type": "code",
   "execution_count": 5,
   "metadata": {},
   "outputs": [],
   "source": [
    "import numpy as np\n",
    "import pandas as pd\n",
    "import os\n",
    "import h5py\n",
    "import sys\n",
    "sys.path.append(\"../\")\n",
    "from utils import plot_side"
   ]
  },
  {
   "cell_type": "code",
   "execution_count": 4,
   "metadata": {},
   "outputs": [
    {
     "name": "stdout",
     "output_type": "stream",
     "text": [
      "wget https://zenodo.org/records/10597358/files/example_tracks_and_deepshap.tar.gz -P /Users/adamhe/github/scratch\n",
      "tar -cvzf /Users/adamhe/github/scratch/example_tracks_and_deepshap.tar.gz\n"
     ]
    }
   ],
   "source": [
    "# PRINT COMMANDS TO DOWNLOAD AND EXTRACT DATA\n",
    "\n",
    "# Set SCRATCH to where you want to download data to\n",
    "SCRATCH = \"/Users/adamhe/github/scratch\"\n",
    "\n",
    "URL = \"https://zenodo.org/records/10597358/files\"\n",
    "TAR = \"example_tracks_and_deepshap.tar.gz\"\n",
    "print(f\"wget {URL}/{TAR} -P {SCRATCH}\")\n",
    "print(f\"tar -cvzf {SCRATCH}/{TAR} -C {SCRATCH}\")"
   ]
  },
  {
   "cell_type": "code",
   "execution_count": 25,
   "metadata": {},
   "outputs": [],
   "source": [
    "# Load data\n",
    "\n",
    "# Experimental\n",
    "y = pd.read_csv(\n",
    "    os.path.join(SCRATCH, \"example_tracks_and_deepshap/dpr_windows_procap_mean.csv.gz\"), header=None\n",
    ").to_numpy()[:, np.r_[250:750, 1250:1750]]\n",
    "\n",
    "# Predicted\n",
    "prediction = h5py.File(os.path.join(SCRATCH, \"example_tracks_and_deepshap/ensemble_dpr_prediction_mean.h5\"))\n",
    "tracks = prediction[\"track\"]\n",
    "quantity = prediction[\"quantity\"]\n",
    "y_norm = tracks / np.array(tracks).sum(axis=1, keepdims=True)\n",
    "y_pred_scaled = y_norm * quantity\n",
    "\n",
    "# DPR scores (From the HARPE SVR-H model)\n",
    "dpr_scores = pd.read_csv(\n",
    "    os.path.join(SCRATCH, \"example_tracks_and_deepshap/active_dpr_svrh.bed.gz\"), sep=\"\\t\", header=None\n",
    ")\n",
    "dpr_desc = dpr_scores.loc[:,10].sort_values(ascending=False).index"
   ]
  },
  {
   "cell_type": "code",
   "execution_count": 17,
   "metadata": {},
   "outputs": [],
   "source": [
    "plot_side(\n",
    "    y[dpr_desc[1]], ylim=[-180, 10], yticks=[0, -180],\n",
    "    pic_name=\"img/ensemble_irf1_prom.pdf\"\n",
    ")"
   ]
  },
  {
   "cell_type": "code",
   "execution_count": 18,
   "metadata": {},
   "outputs": [],
   "source": [
    "plot_side(\n",
    "    y_pred_scaled[dpr_desc[1]], ylim=[-36, 2], yticks=[0, -36],\n",
    "    pic_name=\"img/ensemble_irf1_prom_pred.pdf\"\n",
    ")"
   ]
  },
  {
   "cell_type": "code",
   "execution_count": 19,
   "metadata": {},
   "outputs": [],
   "source": [
    "plot_side(\n",
    "    y[dpr_desc[5]], ylim=[-48, 8], yticks=[0, -3],\n",
    "    pic_name=\"img/ensemble_ivns1abp_prom.pdf\"\n",
    ")"
   ]
  },
  {
   "cell_type": "code",
   "execution_count": 20,
   "metadata": {},
   "outputs": [],
   "source": [
    "plot_side(\n",
    "    y_pred_scaled[dpr_desc[5]], ylim=[-18, 3], yticks=[0, -3],\n",
    "    pic_name=\"img/ensemble_ivns1abp_prom_pred.pdf\"\n",
    ")"
   ]
  },
  {
   "cell_type": "code",
   "execution_count": 21,
   "metadata": {},
   "outputs": [],
   "source": [
    "plot_side(\n",
    "    y[dpr_desc[6]], ylim=[-3, 24], yticks=[0, 24],\n",
    "    pic_name=\"img/ensemble_nolc1_prom.pdf\"\n",
    ")"
   ]
  },
  {
   "cell_type": "code",
   "execution_count": 22,
   "metadata": {},
   "outputs": [],
   "source": [
    "plot_side(\n",
    "    y_pred_scaled[dpr_desc[6]], ylim=[-1, 8], yticks=[0, 8],\n",
    "    pic_name=\"img/ensemble_nolc1_prom_pred.pdf\"\n",
    ")"
   ]
  },
  {
   "cell_type": "code",
   "execution_count": 23,
   "metadata": {},
   "outputs": [],
   "source": [
    "plot_side(\n",
    "    y[dpr_desc[10]], ylim=[-9, 3], yticks=[0, 3],\n",
    "    pic_name=\"img/ensemble_cox6c_prom.pdf\"\n",
    ")"
   ]
  },
  {
   "cell_type": "code",
   "execution_count": 24,
   "metadata": {},
   "outputs": [],
   "source": [
    "plot_side(\n",
    "    y_pred_scaled[dpr_desc[10]], ylim=[-4.5, 1.5], yticks=[0, 1.5],\n",
    "    pic_name=\"img/ensemble_cox6c_prom_pred.pdf\"\n",
    ")"
   ]
  },
  {
   "cell_type": "code",
   "execution_count": null,
   "metadata": {},
   "outputs": [],
   "source": []
  }
 ],
 "metadata": {
  "kernelspec": {
   "display_name": "tf_dev",
   "language": "python",
   "name": "python3"
  },
  "language_info": {
   "codemirror_mode": {
    "name": "ipython",
    "version": 3
   },
   "file_extension": ".py",
   "mimetype": "text/x-python",
   "name": "python",
   "nbconvert_exporter": "python",
   "pygments_lexer": "ipython3",
   "version": "3.12.0"
  },
  "orig_nbformat": 4,
  "vscode": {
   "interpreter": {
    "hash": "0dc70fb9079410f02c3609bf83a3278b2bbb4ee241371158723a3b8049f030e4"
   }
  }
 },
 "nbformat": 4,
 "nbformat_minor": 2
}
