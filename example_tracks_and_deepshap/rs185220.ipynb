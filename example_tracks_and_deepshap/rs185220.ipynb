{
 "cells": [
  {
   "cell_type": "code",
   "execution_count": 1,
   "metadata": {},
   "outputs": [
    {
     "data": {
      "text/plain": [
       "'\\nThis notebook plots predicted and observed tracks for the rs185220 tiQTL (Fig. 3C)\\n'"
      ]
     },
     "execution_count": 1,
     "metadata": {},
     "output_type": "execute_result"
    }
   ],
   "source": [
    "\"\"\"\n",
    "This notebook plots predicted and observed tracks for the rs185220 tiQTL (Fig. 3C)\n",
    "\"\"\""
   ]
  },
  {
   "cell_type": "code",
   "execution_count": 2,
   "id": "836fc0c4-d374-4e2c-a194-8485280761ae",
   "metadata": {},
   "outputs": [],
   "source": [
    "import numpy as np\n",
    "import pyfastx\n",
    "import os\n",
    "import h5py\n",
    "import sys\n",
    "sys.path.append(\"../\")\n",
    "from utils import plot_side"
   ]
  },
  {
   "cell_type": "code",
   "execution_count": 3,
   "metadata": {},
   "outputs": [
    {
     "name": "stdout",
     "output_type": "stream",
     "text": [
      "wget https://zenodo.org/records/10597358/files/example_tracks_and_deepshap.tar.gz -P /Users/adamhe/github/scratch\n",
      "tar -xvzf /Users/adamhe/github/scratch/example_tracks_and_deepshap.tar.gz -C /Users/adamhe/github/scratch\n"
     ]
    }
   ],
   "source": [
    "# PRINT COMMANDS TO DOWNLOAD AND EXTRACT DATA\n",
    "\n",
    "# Set SCRATCH to where you want to download data to\n",
    "SCRATCH = \"/Users/adamhe/github/scratch\"\n",
    "\n",
    "URL = \"https://zenodo.org/records/10597358/files\"\n",
    "TAR = \"example_tracks_and_deepshap.tar.gz\"\n",
    "print(f\"wget {URL}/{TAR} -P {SCRATCH}\")\n",
    "print(f\"tar -xvzf {SCRATCH}/{TAR} -C {SCRATCH}\")"
   ]
  },
  {
   "cell_type": "code",
   "execution_count": 4,
   "id": "91f51a5c",
   "metadata": {},
   "outputs": [
    {
     "name": "stderr",
     "output_type": "stream",
     "text": [
      "/var/folders/sd/3462tpx12fbfxc_f8swcwyf40000gp/T/ipykernel_99620/3207020389.py:15: RuntimeWarning: invalid value encountered in divide\n",
      "  y_norm = tracks / np.array(tracks).sum(axis=1, keepdims=True)\n"
     ]
    }
   ],
   "source": [
    "# Load data\n",
    "\n",
    "# Experimental\n",
    "y = np.load(\n",
    "    os.path.join(SCRATCH, \"example_tracks_and_deepshap/concat_procap.npz\")\n",
    ")[\"arr_0\"][:, np.r_[250:750, 1250:1750]]\n",
    "\n",
    "# Predicted\n",
    "prediction = h5py.File(os.path.join(SCRATCH, \"example_tracks_and_deepshap/fold_1_examples_prediction.h5\"))\n",
    "tracks = prediction[\"track\"]\n",
    "quantity = prediction[\"quantity\"]\n",
    "quantity = 10 ** (np.hstack(\n",
    "    [np.log10(quantity[:]), np.ones(quantity.shape[0]).reshape(-1, 1)]\n",
    ") @ np.array([[1.59687745, -0.80203685]]).T)\n",
    "y_norm = tracks / np.array(tracks).sum(axis=1, keepdims=True)\n",
    "y_pred_scaled = y_norm * quantity"
   ]
  },
  {
   "cell_type": "code",
   "execution_count": 6,
   "id": "bfd94b8e",
   "metadata": {},
   "outputs": [],
   "source": [
    "# Divide individuals by genotype:\n",
    "\n",
    "fasta = pyfastx.Fasta(os.path.join(SCRATCH, \"example_tracks_and_deepshap/concat_sequence.fna.gz\"))\n",
    "seq_coords = [seq.name.split(\"_\")[-1] for seq in fasta]\n",
    "\n",
    "rs185220_coord = \"chr5:56909030-56910029\"\n",
    "rs185220_seqs = [i for i in range(len(fasta)) if seq_coords[i] == rs185220_coord]\n",
    "\n",
    "a_pred = [y_pred_scaled[i, :] for i in rs185220_seqs if fasta[i].seq[500] == \"A\"]\n",
    "a_expt = [y[i, :] for i in rs185220_seqs if fasta[i].seq[500] == \"A\"]\n",
    "ag_pred = [y_pred_scaled[i, :] for i in rs185220_seqs if fasta[i].seq[500] == \"R\"]\n",
    "ag_expt = [y[i, :] for i in rs185220_seqs if fasta[i].seq[500] == \"R\"]\n",
    "g_pred = [y_pred_scaled[i, :] for i in rs185220_seqs if fasta[i].seq[500] == \"G\"]\n",
    "g_expt = [y[i, :] for i in rs185220_seqs if fasta[i].seq[500] == \"G\"]\n",
    "\n",
    "# Get mean per genotype\n",
    "\n",
    "a_pred_mean = np.mean(np.array(a_pred), axis=0)\n",
    "a_expt_mean = np.mean(np.array(a_expt), axis=0)\n",
    "ag_pred_mean = np.mean(np.array(ag_pred), axis=0)\n",
    "ag_expt_mean = np.mean(np.array(ag_expt), axis=0)\n",
    "g_pred_mean = np.mean(np.array(g_pred), axis=0)\n",
    "g_expt_mean = np.mean(np.array(g_expt), axis=0)"
   ]
  },
  {
   "cell_type": "code",
   "execution_count": 11,
   "id": "7a58a7b5",
   "metadata": {},
   "outputs": [],
   "source": [
    "plot_side(\n",
    "    a_pred_mean, ylim=[-1.5, 3], yticks=[0, 3],\n",
    "    pic_name=\"img/model_fold_1_rs185220A_pred.pdf\"\n",
    ")"
   ]
  },
  {
   "cell_type": "code",
   "execution_count": 12,
   "id": "e6e795d0",
   "metadata": {},
   "outputs": [],
   "source": [
    "plot_side(\n",
    "    a_expt_mean, ylim=[-1.5, 1], yticks=[0, 1],\n",
    "    pic_name=\"img/model_fold_1_rs185220A_expt.pdf\"\n",
    ")"
   ]
  },
  {
   "cell_type": "code",
   "execution_count": 13,
   "id": "cf5009a2",
   "metadata": {},
   "outputs": [],
   "source": [
    "plot_side(\n",
    "    g_pred_mean, ylim=[-1.5, 3], yticks=[0, 3],\n",
    "    pic_name=\"img/model_fold_1_rs185220G_pred.pdf\"\n",
    ")"
   ]
  },
  {
   "cell_type": "code",
   "execution_count": 14,
   "id": "0f9f9aa1",
   "metadata": {},
   "outputs": [],
   "source": [
    "plot_side(\n",
    "    g_expt_mean, ylim=[-1.5, 3], yticks=[0, 3],\n",
    "    pic_name=\"img/model_fold_1_rs185220G_expt.pdf\"\n",
    ")"
   ]
  },
  {
   "cell_type": "code",
   "execution_count": 17,
   "metadata": {},
   "outputs": [],
   "source": [
    "plot_side(\n",
    "    ag_expt_mean, ylim=[-1.5, 3], yticks=[0, 3],\n",
    "    pic_name=\"img/model_fold_1_rs185220AG_expt.pdf\"\n",
    ")"
   ]
  },
  {
   "cell_type": "code",
   "execution_count": 18,
   "metadata": {},
   "outputs": [],
   "source": [
    "plot_side(\n",
    "    ag_pred_mean, ylim=[-1.5, 3], yticks=[0, 3],\n",
    "    pic_name=\"img/model_fold_1_rs185220AG_pred.pdf\"\n",
    ")"
   ]
  },
  {
   "cell_type": "code",
   "execution_count": 6,
   "id": "37905165",
   "metadata": {},
   "outputs": [
    {
     "data": {
      "text/plain": [
       "3.1563125"
      ]
     },
     "execution_count": 6,
     "metadata": {},
     "output_type": "execute_result"
    }
   ],
   "source": [
    "def l2_score(x, y, pseudocount=1e-5):\n",
    "    return np.sqrt(np.sum(np.square(x - y), axis=-1))\n",
    "\n",
    "l2_score(a_pred_mean, g_pred_mean)"
   ]
  },
  {
   "cell_type": "code",
   "execution_count": 8,
   "metadata": {},
   "outputs": [
    {
     "data": {
      "text/plain": [
       "4.29"
      ]
     },
     "execution_count": 8,
     "metadata": {},
     "output_type": "execute_result"
    }
   ],
   "source": [
    "l2_score(a_expt_mean, g_expt_mean)"
   ]
  },
  {
   "cell_type": "code",
   "execution_count": null,
   "metadata": {},
   "outputs": [],
   "source": []
  }
 ],
 "metadata": {
  "kernelspec": {
   "display_name": "tf_dev",
   "language": "python",
   "name": "python3"
  },
  "language_info": {
   "codemirror_mode": {
    "name": "ipython",
    "version": 3
   },
   "file_extension": ".py",
   "mimetype": "text/x-python",
   "name": "python",
   "nbconvert_exporter": "python",
   "pygments_lexer": "ipython3",
   "version": "3.13.3"
  },
  "vscode": {
   "interpreter": {
    "hash": "0dc70fb9079410f02c3609bf83a3278b2bbb4ee241371158723a3b8049f030e4"
   }
  }
 },
 "nbformat": 4,
 "nbformat_minor": 5
}
