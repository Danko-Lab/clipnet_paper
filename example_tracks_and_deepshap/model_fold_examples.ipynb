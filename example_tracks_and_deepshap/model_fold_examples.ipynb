{
 "cells": [
  {
   "cell_type": "code",
   "execution_count": 2,
   "metadata": {},
   "outputs": [],
   "source": [
    "import joblib\n",
    "import numpy as np\n",
    "import pandas as pd\n",
    "import matplotlib.pyplot as plt\n",
    "from scipy.stats import pearsonr\n",
    "import pyfastx\n",
    "import os\n",
    "import h5py"
   ]
  },
  {
   "cell_type": "code",
   "execution_count": 3,
   "metadata": {},
   "outputs": [],
   "source": [
    "def plot_side(arr, ylim=[-2, 2.5], xticks=[], yticks=[0, 2], pic_name=None):\n",
    "    assert arr.shape[0] % 2 == 0, \"arr must have even length.\"\n",
    "    midpoint = int(arr.shape[0]/2)\n",
    "    pl = arr[:midpoint]\n",
    "    mn = arr[midpoint:]\n",
    "    plt.bar(range(pl.shape[0]), pl, width=2, color=\"r\",)\n",
    "    plt.bar(range(mn.shape[0]), -mn, width=2, color=\"b\")\n",
    "    axes = plt.gca()\n",
    "    axes.set_ylim(ylim)\n",
    "    axes.set_yticks(yticks)\n",
    "    axes.set_xticks(xticks)\n",
    "    axes.spines[[\"right\", \"top\", \"bottom\"]].set_visible(False)\n",
    "    plt.xlim(-0.5, pl.shape[0]-.5)\n",
    "    \n",
    "    if pic_name is None:\n",
    "        plt.show()\n",
    "    else:\n",
    "        plt.savefig(pic_name, transparent=True)\n",
    "        plt.close()"
   ]
  },
  {
   "cell_type": "code",
   "execution_count": 4,
   "metadata": {},
   "outputs": [],
   "source": [
    "server = \"cbsu\"\n",
    "mnt = \"/home2/ayh8/\"\n",
    "predict_dir = \"predictions/ensemble/examples/\"\n",
    "data_dir = \"data/gse110638/examples/\"\n",
    "fasta_fp = \"concat_sequence.fna.gz\"\n",
    "procap_fp = \"concat_procap.npz\"\n",
    "prediction_fp = \"ensemble_examples_prediction.h5\"\n",
    "workdir = \"/Users/adamhe/github/scratch/examples\""
   ]
  },
  {
   "cell_type": "code",
   "execution_count": 5,
   "metadata": {},
   "outputs": [
    {
     "name": "stdout",
     "output_type": "stream",
     "text": [
      "scp cbsu:/home2/ayh8/data/gse110638/examples/concat_sequence.fna.gz /Users/adamhe/github/scratch/examples\n",
      "scp cbsu:/home2/ayh8/data/gse110638/examples/concat_procap.npz /Users/adamhe/github/scratch/examples\n",
      "scp cbsu:/home2/ayh8/predictions/ensemble/examples/ensemble_examples_prediction.h5 /Users/adamhe/github/scratch/examples\n"
     ]
    }
   ],
   "source": [
    "os.makedirs(workdir, exist_ok=True)\n",
    "print(f\"scp {server}:{os.path.join(mnt, data_dir, fasta_fp)} {workdir}\")\n",
    "print(f\"scp {server}:{os.path.join(mnt, data_dir, procap_fp)} {workdir}\")\n",
    "print(f\"scp {server}:{os.path.join(mnt, predict_dir, prediction_fp)} {workdir}\")"
   ]
  },
  {
   "cell_type": "code",
   "execution_count": 6,
   "metadata": {},
   "outputs": [],
   "source": [
    "fasta = pyfastx.Fasta(os.path.join(workdir, fasta_fp))\n",
    "tracks = h5py.File(os.path.join(workdir, prediction_fp))[\"track\"]\n",
    "quantity = h5py.File(os.path.join(workdir, prediction_fp))[\"quantity\"]\n",
    "y = np.load(os.path.join(workdir, procap_fp))[\"arr_0\"][:, np.r_[250:750, 1250:1750]]\n",
    "seqs = pyfastx.Fasta(os.path.join(workdir, fasta_fp))\n",
    "ids = [rec.name for rec in seqs]"
   ]
  },
  {
   "cell_type": "code",
   "execution_count": 7,
   "metadata": {},
   "outputs": [],
   "source": [
    "y_norm = tracks / np.array(tracks).sum(axis=1, keepdims=True)\n",
    "y_pred_scaled = y_norm * quantity"
   ]
  },
  {
   "cell_type": "code",
   "execution_count": 9,
   "metadata": {},
   "outputs": [],
   "source": [
    "#mx1_coord = \"chr21:41425651-41426650\"\n",
    "#mx1_ids = [idx.split(\"_\")[-1] == mx1_coord for idx in ids]\n",
    "#plot_side(np.mean(y[mx1_ids], axis=0), ylim=[-40, 50],  yticks=[0, 40], pic_name=\"ensemble_mx1_prom_expt.pdf\")\n",
    "#plot_side(np.mean(y_pred_scaled[mx1_ids], axis=0), ylim=[-4, 5], yticks=[0, 4], pic_name=\"ensemble_mx1_prom_pred.pdf\")\n",
    "\n",
    "ifnar2_coord = \"chr21:33229367-33230366\"\n",
    "ints6_coord = \"chr13:51452691-51453690\"\n",
    "ttll9_enh_coord = \"chr20:31894784-31895783\" # EH38E2106518\n",
    "EH38E2695789_enh_coord = \"chr9:70418561-70419560\" # EH38E2695789, EH38E2695790\n",
    "klf9_enh_coord = \"chr9:70411667-70412666\" # EH38E2695773\n",
    "klf9_dt_enh_coord = \"chr9:70419676-70420675\" # EH38E2695794, EH38E2695793\n",
    "kif3b_enh_coord = \"chr20:32285520-32286519\" # KIF3B, EH38E2106824, EH38E2106825\n",
    "EH38E2107427_enh_coord = \"chr20:32971851-32972850\" # EH38E2107427\n",
    "NASP_prom_coord = \"chr1:45583513-45584512\" # NASP\n",
    "\n",
    "ifnar2_ids = [idx.split(\"_\")[-1] == ifnar2_coord for idx in ids]\n",
    "ints6_ids = [idx.split(\"_\")[-1] == ints6_coord for idx in ids]\n",
    "ttll9_enh_ids = [idx.split(\"_\")[-1] == ttll9_enh_coord for idx in ids]\n",
    "EH38E2695789_enh_ids = [idx.split(\"_\")[-1] == EH38E2695789_enh_coord for idx in ids]\n",
    "klf9_enh_ids = [idx.split(\"_\")[-1] == klf9_enh_coord for idx in ids]\n",
    "klf9_dt_enh_ids = [idx.split(\"_\")[-1] == klf9_dt_enh_coord for idx in ids]\n",
    "kif3b_enh_ids = [idx.split(\"_\")[-1] == kif3b_enh_coord for idx in ids]\n",
    "EH38E2107427_enh_ids = [idx.split(\"_\")[-1] == EH38E2107427_enh_coord for idx in ids]\n",
    "NASP_prom_ids = [idx.split(\"_\")[-1] == NASP_prom_coord for idx in ids]"
   ]
  },
  {
   "cell_type": "code",
   "execution_count": 57,
   "metadata": {},
   "outputs": [],
   "source": [
    "plot_side(np.mean(y[ifnar2_ids], axis=0), ylim=[-1.5, 15], yticks=[0, 15], pic_name=\"ensemble_ifnar2_prom_expt.pdf\")"
   ]
  },
  {
   "cell_type": "code",
   "execution_count": 58,
   "metadata": {},
   "outputs": [],
   "source": [
    "plot_side(np.mean(y_pred_scaled[ifnar2_ids], axis=0), ylim=[-0.3, 3], yticks=[0, 3], pic_name=\"ensemble_ifnar2_prom_pred.pdf\")"
   ]
  },
  {
   "cell_type": "code",
   "execution_count": 37,
   "metadata": {},
   "outputs": [],
   "source": [
    "plot_side(np.mean(y[ints6_ids], axis=0), ylim=[-100, 33], yticks=[-100, 0], pic_name=\"ensemble_ints6_prom_expt.pdf\")"
   ]
  },
  {
   "cell_type": "code",
   "execution_count": 36,
   "metadata": {},
   "outputs": [],
   "source": [
    "plot_side(np.mean(y_pred_scaled[ints6_ids], axis=0), ylim=[-12, 4], yticks=[-12, 0], pic_name=\"ensemble_ints6_prom_pred.pdf\")"
   ]
  },
  {
   "cell_type": "code",
   "execution_count": 66,
   "metadata": {},
   "outputs": [],
   "source": [
    "plot_side(np.mean(y[klf9_dt_enh_ids], axis=0), ylim=[-3, 7], yticks=[0, 7], pic_name=\"ensemble_klf9_dt_enh_expt.pdf\")"
   ]
  },
  {
   "cell_type": "code",
   "execution_count": 67,
   "metadata": {},
   "outputs": [],
   "source": [
    "plot_side(np.mean(y_pred_scaled[klf9_dt_enh_ids], axis=0), ylim=[-0.6, 1.4], yticks=[0, 1.4], pic_name=\"ensemble_klf9_dt_enh_pred.pdf\")"
   ]
  },
  {
   "cell_type": "code",
   "execution_count": 46,
   "metadata": {},
   "outputs": [],
   "source": [
    "plot_side(np.mean(y[EH38E2107427_enh_ids], axis=0), ylim=[-0.8, 0.6], yticks=[0, 0.6], pic_name=\"ensemble_EH38E2107427_enh_expt.pdf\")"
   ]
  },
  {
   "cell_type": "code",
   "execution_count": 47,
   "metadata": {},
   "outputs": [],
   "source": [
    "plot_side(np.mean(y_pred_scaled[EH38E2107427_enh_ids], axis=0), ylim=[-0.6, 0.45], yticks=[0, 0.45], pic_name=\"ensemble_EH38E2107427_enh_pred.pdf\")"
   ]
  },
  {
   "cell_type": "code",
   "execution_count": 17,
   "metadata": {},
   "outputs": [
    {
     "data": {
      "image/png": "[encoded data removed]",
      "text/plain": [
       "<Figure size 432x288 with 1 Axes>"
      ]
     },
     "metadata": {
      "needs_background": "light"
     },
     "output_type": "display_data"
    }
   ],
   "source": [
    "plot_side(np.mean(y[NASP_prom_ids], axis=0), ylim=[-5, 50], yticks=[0, 50])#, pic_name=\"ensemble_EH38E2107427_enh_pred.pdf\")"
   ]
  },
  {
   "cell_type": "code",
   "execution_count": 16,
   "metadata": {},
   "outputs": [
    {
     "data": {
      "image/png": "[encoded data removed]",
      "text/plain": [
       "<Figure size 432x288 with 1 Axes>"
      ]
     },
     "metadata": {
      "needs_background": "light"
     },
     "output_type": "display_data"
    }
   ],
   "source": [
    "plot_side(np.mean(y_pred_scaled[NASP_prom_ids], axis=0), ylim=[-5, 50], yticks=[0, 50])#, pic_name=\"ensemble_EH38E2107427_enh_pred.pdf\")"
   ]
  },
  {
   "cell_type": "code",
   "execution_count": null,
   "metadata": {},
   "outputs": [],
   "source": []
  },
  {
   "cell_type": "code",
   "execution_count": 11,
   "metadata": {},
   "outputs": [
    {
     "data": {
      "text/plain": [
       "(0.9957143170896885, 0.0)"
      ]
     },
     "execution_count": 11,
     "metadata": {},
     "output_type": "execute_result"
    }
   ],
   "source": [
    "pearsonr(np.mean(y[NASP_prom_ids], axis=0), np.mean(y_pred_scaled[NASP_prom_ids], axis=0))"
   ]
  },
  {
   "cell_type": "code",
   "execution_count": 32,
   "metadata": {},
   "outputs": [
    {
     "data": {
      "text/plain": [
       "(0.7705819532242172, 1.897634650716049e-197)"
      ]
     },
     "execution_count": 32,
     "metadata": {},
     "output_type": "execute_result"
    }
   ],
   "source": [
    "pearsonr(np.mean(y[EH38E2107427_enh_ids], axis=0), np.mean(y_pred_scaled[EH38E2107427_enh_ids], axis=0))"
   ]
  },
  {
   "cell_type": "code",
   "execution_count": 29,
   "metadata": {},
   "outputs": [],
   "source": [
    "plot_side(np.mean(y[mx1_enh_ids], axis=0), ylim=[-3.5, 4], yticks=[0, 2], pic_name=\"mx1_enh_expt.svg\")"
   ]
  },
  {
   "cell_type": "code",
   "execution_count": 69,
   "metadata": {},
   "outputs": [],
   "source": [
    "plot_side(np.mean(y_predict_scaled[mx1_enh_ids], axis=0), ylim=[-0.5, 0.6], yticks=[0, 0.5], pic_name=\"mx1_enh_pred.svg\")"
   ]
  },
  {
   "cell_type": "code",
   "execution_count": 42,
   "metadata": {},
   "outputs": [],
   "source": [
    "plot_side(np.mean(y[cd19_ids], axis=0), ylim=[-3.5, 3], yticks=[0, 2], pic_name=\"cd19_expt.svg\")"
   ]
  },
  {
   "cell_type": "code",
   "execution_count": 43,
   "metadata": {},
   "outputs": [],
   "source": [
    "plot_side(np.mean(y_predict_scaled[cd19_ids], axis=0), ylim=[-3.5, 3], yticks=[0, 2], pic_name=\"cd19_pred.svg\")"
   ]
  },
  {
   "cell_type": "code",
   "execution_count": 44,
   "metadata": {},
   "outputs": [],
   "source": [
    "plot_side(np.mean(y[il4r_ids], axis=0), ylim=[-1, 2], yticks=[0, 2], pic_name=\"il4r_expt.svg\")"
   ]
  },
  {
   "cell_type": "code",
   "execution_count": 45,
   "metadata": {},
   "outputs": [],
   "source": [
    "plot_side(np.mean(y_predict_scaled[il4r_ids], axis=0), ylim=[-3.25, 6], yticks=[0, 5], pic_name=\"il4r_pred.svg\")"
   ]
  },
  {
   "cell_type": "code",
   "execution_count": 46,
   "metadata": {},
   "outputs": [],
   "source": [
    "plot_side(np.mean(y[cd79a_ids], axis=0), ylim=[-1, 6.5], yticks=[0, 5], pic_name=\"cd79a_expt.svg\")"
   ]
  },
  {
   "cell_type": "code",
   "execution_count": 47,
   "metadata": {},
   "outputs": [],
   "source": [
    "plot_side(np.mean(y_predict_scaled[cd79a_ids], axis=0), ylim=[-1, 6.5], yticks=[0, 5], pic_name=\"cd79a_pred.svg\")"
   ]
  },
  {
   "cell_type": "code",
   "execution_count": 65,
   "metadata": {},
   "outputs": [],
   "source": [
    "plot_side(np.mean(y[aicda_ids], axis=0), ylim=[-1.6, 0.5], yticks=[-1, 0], pic_name=\"aicda_expt.svg\")"
   ]
  },
  {
   "cell_type": "code",
   "execution_count": 64,
   "metadata": {},
   "outputs": [],
   "source": [
    "plot_side(np.mean(y_predict_scaled[aicda_ids], axis=0), ylim=[-1.6, 0.5], yticks=[0, -1], pic_name=\"aicda_pred.svg\")"
   ]
  },
  {
   "cell_type": "code",
   "execution_count": 50,
   "metadata": {},
   "outputs": [],
   "source": [
    "plot_side(np.mean(y_predict_scaled[ifnar2_ids], axis=0), ylim=[-0.2, 2], yticks=[0, 2], pic_name=\"ifnar2_pred.svg\")"
   ]
  },
  {
   "cell_type": "code",
   "execution_count": 51,
   "metadata": {},
   "outputs": [],
   "source": [
    "plot_side(np.mean(y[ifnar2_ids], axis=0), ylim=[-1.5, 13], yticks=[0, 10], pic_name=\"ifnar2_expt.svg\")"
   ]
  },
  {
   "cell_type": "code",
   "execution_count": 52,
   "metadata": {},
   "outputs": [
    {
     "data": {
      "image/png": "[encoded data removed]",
      "text/plain": [
       "<Figure size 432x288 with 1 Axes>"
      ]
     },
     "metadata": {
      "needs_background": "light"
     },
     "output_type": "display_data"
    }
   ],
   "source": [
    "plot_side(np.mean(y[EH38E1591323_ids], axis=0), ylim=[-0.1, 0.4], yticks=[0, 0.3])"
   ]
  },
  {
   "cell_type": "code",
   "execution_count": 53,
   "metadata": {},
   "outputs": [
    {
     "data": {
      "image/png": "[encoded data removed]",
      "text/plain": [
       "<Figure size 432x288 with 1 Axes>"
      ]
     },
     "metadata": {
      "needs_background": "light"
     },
     "output_type": "display_data"
    }
   ],
   "source": [
    "plot_side(np.mean(y_predict_scaled[EH38E1591323_ids], axis=0), ylim=[-0.6, 0.5], yticks=[0, 0.3])"
   ]
  },
  {
   "cell_type": "code",
   "execution_count": 54,
   "metadata": {},
   "outputs": [
    {
     "data": {
      "image/png": "[encoded data removed]",
      "text/plain": [
       "<Figure size 432x288 with 1 Axes>"
      ]
     },
     "metadata": {
      "needs_background": "light"
     },
     "output_type": "display_data"
    }
   ],
   "source": [
    "plot_side(np.mean(y[EH38E1591322_ids], axis=0), ylim=[-0.1, 0.4], yticks=[0, 0.4])"
   ]
  },
  {
   "cell_type": "code",
   "execution_count": 55,
   "metadata": {},
   "outputs": [
    {
     "data": {
      "image/png": "[encoded data removed]",
      "text/plain": [
       "<Figure size 432x288 with 1 Axes>"
      ]
     },
     "metadata": {
      "needs_background": "light"
     },
     "output_type": "display_data"
    }
   ],
   "source": [
    "plot_side(np.mean(y_predict_scaled[EH38E1591322_ids], axis=0), ylim=[-0.35, 0.4], yticks=[0, 0.4])"
   ]
  },
  {
   "cell_type": "code",
   "execution_count": 56,
   "metadata": {},
   "outputs": [
    {
     "data": {
      "image/png": "[encoded data removed]",
      "text/plain": [
       "<Figure size 432x288 with 1 Axes>"
      ]
     },
     "metadata": {
      "needs_background": "light"
     },
     "output_type": "display_data"
    }
   ],
   "source": [
    "plot_side(np.mean(y[EH38E1591311_ids], axis=0), ylim=[-0.2, 0.8], yticks=[0, 0.5])"
   ]
  },
  {
   "cell_type": "code",
   "execution_count": 62,
   "metadata": {},
   "outputs": [
    {
     "data": {
      "image/png": "[encoded data removed]",
      "text/plain": [
       "<Figure size 432x288 with 1 Axes>"
      ]
     },
     "metadata": {
      "needs_background": "light"
     },
     "output_type": "display_data"
    }
   ],
   "source": [
    "plot_side(np.mean(y_predict_scaled[EH38E1591311_ids], axis=0), ylim=[-1, 0.8], yticks=[0, 0.5])"
   ]
  },
  {
   "cell_type": "code",
   "execution_count": 31,
   "metadata": {},
   "outputs": [
    {
     "data": {
      "image/png": "[encoded data removed]",
      "text/plain": [
       "<Figure size 432x288 with 1 Axes>"
      ]
     },
     "metadata": {
      "needs_background": "light"
     },
     "output_type": "display_data"
    }
   ],
   "source": [
    "plot_side(np.mean(y[aicda_int0_enh_ids], axis=0), ylim=[-0.5, 1.5], yticks=[0, 0.1])"
   ]
  },
  {
   "cell_type": "code",
   "execution_count": 70,
   "metadata": {},
   "outputs": [
    {
     "data": {
      "image/png": "[encoded data removed]",
      "text/plain": [
       "<Figure size 432x288 with 1 Axes>"
      ]
     },
     "metadata": {
      "needs_background": "light"
     },
     "output_type": "display_data"
    }
   ],
   "source": [
    "plot_side(np.mean(y_predict_scaled[aicda_int0_enh_ids], axis=0), ylim=[-1, 3], yticks=[0, 0.1])"
   ]
  },
  {
   "cell_type": "code",
   "execution_count": 75,
   "metadata": {},
   "outputs": [],
   "source": [
    "plot_side(np.mean(y_predict_scaled[bcl2_enh0_ids], axis=0), ylim=[-2, 1], yticks=[0, 0.5], pic_name=\"bcl2_enh0_pred.svg\")"
   ]
  },
  {
   "cell_type": "code",
   "execution_count": 74,
   "metadata": {},
   "outputs": [],
   "source": [
    "plot_side(np.mean(y[bcl2_enh0_ids], axis=0), ylim=[-1.5, 0.8], yticks=[0, 0.5], pic_name=\"bcl2_enh0_expt.svg\")"
   ]
  },
  {
   "cell_type": "code",
   "execution_count": 76,
   "metadata": {},
   "outputs": [],
   "source": [
    "plot_side(np.mean(y[bcl2_enh1_ids], axis=0), ylim=[-0.3, 1.1], yticks=[0, 1], pic_name=\"bcl2_enh1_expt.svg\")"
   ]
  },
  {
   "cell_type": "code",
   "execution_count": 77,
   "metadata": {},
   "outputs": [],
   "source": [
    "plot_side(np.mean(y_predict_scaled[bcl2_enh1_ids], axis=0), ylim=[-2, 4.5], yticks=[0, 4], pic_name=\"bcl2_enh1_pred.svg\")"
   ]
  },
  {
   "cell_type": "code",
   "execution_count": 47,
   "metadata": {},
   "outputs": [],
   "source": [
    "plot_side(np.mean(y[cxcr4_enh_ids], axis=0), ylim=[-2.5, 2], yticks=[0, 1], pic_name=\"cxcr4_enh_expt.svg\")"
   ]
  },
  {
   "cell_type": "markdown",
   "metadata": {},
   "source": []
  },
  {
   "cell_type": "code",
   "execution_count": 82,
   "metadata": {},
   "outputs": [],
   "source": [
    "plot_side(np.mean(y_predict_scaled[cxcr4_enh_ids], axis=0), ylim=[-2, 2], yticks=[0, 1], pic_name=\"cxcr4_enh_pred.svg\")"
   ]
  },
  {
   "cell_type": "code",
   "execution_count": 78,
   "metadata": {},
   "outputs": [],
   "source": [
    "plot_side(np.mean(y[bcl2_enh2_ids], axis=0), ylim=[-1.1, 1.3], yticks=[0, 1], pic_name=\"bcl2_enh2_expt.svg\")"
   ]
  },
  {
   "cell_type": "code",
   "execution_count": 80,
   "metadata": {},
   "outputs": [],
   "source": [
    "plot_side(np.mean(y_predict_scaled[bcl2_enh2_ids], axis=0), ylim=[-1.1, 1.3], yticks=[0, 1], pic_name=\"bcl2_enh2_pred.svg\")"
   ]
  },
  {
   "cell_type": "code",
   "execution_count": 51,
   "metadata": {},
   "outputs": [],
   "source": [
    "plot_side(np.mean(y[bcl2_enh3_ids], axis=0), ylim=[-0.6, 0.35], yticks=[0, 0.3], pic_name=\"bcl2_enh3_expt.svg\")"
   ]
  },
  {
   "cell_type": "code",
   "execution_count": 52,
   "metadata": {},
   "outputs": [],
   "source": [
    "plot_side(np.mean(y_predict_scaled[bcl2_enh3_ids], axis=0), ylim=[-3, 2], yticks=[0, 2], pic_name=\"bcl2_enh3_pred.svg\")"
   ]
  },
  {
   "cell_type": "code",
   "execution_count": 53,
   "metadata": {},
   "outputs": [],
   "source": [
    "plot_side(np.mean(y[bcl2_enh4_ids], axis=0), ylim=[-0.5, 0.6], yticks=[0, 0.5], pic_name=\"bcl2_enh4_expt.svg\")"
   ]
  },
  {
   "cell_type": "code",
   "execution_count": 54,
   "metadata": {},
   "outputs": [],
   "source": [
    "plot_side(np.mean(y_predict_scaled[bcl2_enh4_ids], axis=0), ylim=[-1.5, 3.5], yticks=[0, 3], pic_name=\"bcl2_enh4_pred.svg\")"
   ]
  },
  {
   "cell_type": "code",
   "execution_count": 55,
   "metadata": {},
   "outputs": [
    {
     "data": {
      "text/plain": [
       "(0.8454083052104855, 4.561023134712453e-274)"
      ]
     },
     "execution_count": 55,
     "metadata": {},
     "output_type": "execute_result"
    }
   ],
   "source": [
    "pearsonr(np.mean(y[cd19_ids], axis=0), np.mean(y_predict[cd19_ids], axis=0))"
   ]
  },
  {
   "cell_type": "code",
   "execution_count": 56,
   "metadata": {},
   "outputs": [
    {
     "data": {
      "text/plain": [
       "(0.7623184221000543, 8.66340715406032e-191)"
      ]
     },
     "execution_count": 56,
     "metadata": {},
     "output_type": "execute_result"
    }
   ],
   "source": [
    "pearsonr(np.mean(y[aicda_ids], axis=0), np.mean(y_predict[aicda_ids], axis=0))"
   ]
  },
  {
   "cell_type": "code",
   "execution_count": 57,
   "metadata": {},
   "outputs": [
    {
     "data": {
      "text/plain": [
       "(0.9103581519495697, 0.0)"
      ]
     },
     "execution_count": 57,
     "metadata": {},
     "output_type": "execute_result"
    }
   ],
   "source": [
    "pearsonr(np.mean(y[cxcr4_enh_ids], axis=0), np.mean(y_predict[cxcr4_enh_ids], axis=0))"
   ]
  },
  {
   "cell_type": "code",
   "execution_count": 58,
   "metadata": {},
   "outputs": [
    {
     "data": {
      "text/plain": [
       "(0.7549535384287415, 4.441545627764221e-185)"
      ]
     },
     "execution_count": 58,
     "metadata": {},
     "output_type": "execute_result"
    }
   ],
   "source": [
    "pearsonr(np.mean(y[bcl2_enh2_ids], axis=0), np.mean(y_predict[bcl2_enh2_ids], axis=0))"
   ]
  },
  {
   "cell_type": "code",
   "execution_count": 59,
   "metadata": {},
   "outputs": [
    {
     "data": {
      "text/plain": [
       "(0.9105011851634672, 0.0)"
      ]
     },
     "execution_count": 59,
     "metadata": {},
     "output_type": "execute_result"
    }
   ],
   "source": [
    "pearsonr(np.mean(y[bcl2_enh0_ids], axis=0), np.mean(y_predict[bcl2_enh0_ids], axis=0))"
   ]
  },
  {
   "cell_type": "code",
   "execution_count": 60,
   "metadata": {},
   "outputs": [
    {
     "data": {
      "text/plain": [
       "0.787409589985215"
      ]
     },
     "execution_count": 60,
     "metadata": {},
     "output_type": "execute_result"
    }
   ],
   "source": [
    "pd.DataFrame(y[bcl2_enh0_ids]).corrwith(pd.DataFrame(y_predict[bcl2_enh0_ids]), axis=1).mean()"
   ]
  },
  {
   "cell_type": "code",
   "execution_count": 61,
   "metadata": {},
   "outputs": [
    {
     "data": {
      "text/plain": [
       "0.7027814083887055"
      ]
     },
     "execution_count": 61,
     "metadata": {},
     "output_type": "execute_result"
    }
   ],
   "source": [
    "pd.DataFrame(y[aicda_ids]).corrwith(pd.DataFrame(y_predict[aicda_ids]), axis=1).mean()"
   ]
  },
  {
   "cell_type": "code",
   "execution_count": 62,
   "metadata": {},
   "outputs": [
    {
     "data": {
      "text/plain": [
       "0.7740426122300527"
      ]
     },
     "execution_count": 62,
     "metadata": {},
     "output_type": "execute_result"
    }
   ],
   "source": [
    "pd.DataFrame(y[cd19_ids]).corrwith(pd.DataFrame(y_predict[cd19_ids]), axis=1).mean()"
   ]
  },
  {
   "cell_type": "code",
   "execution_count": null,
   "metadata": {},
   "outputs": [],
   "source": []
  }
 ],
 "metadata": {
  "kernelspec": {
   "display_name": "tf_dev",
   "language": "python",
   "name": "python3"
  },
  "language_info": {
   "codemirror_mode": {
    "name": "ipython",
    "version": 3
   },
   "file_extension": ".py",
   "mimetype": "text/x-python",
   "name": "python",
   "nbconvert_exporter": "python",
   "pygments_lexer": "ipython3",
   "version": "3.10.9"
  },
  "orig_nbformat": 4,
  "vscode": {
   "interpreter": {
    "hash": "0dc70fb9079410f02c3609bf83a3278b2bbb4ee241371158723a3b8049f030e4"
   }
  }
 },
 "nbformat": 4,
 "nbformat_minor": 2
}
