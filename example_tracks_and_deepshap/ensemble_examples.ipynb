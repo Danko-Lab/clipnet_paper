{
 "cells": [
  {
   "cell_type": "code",
   "execution_count": 1,
   "metadata": {},
   "outputs": [],
   "source": [
    "import joblib\n",
    "import numpy as np\n",
    "import pandas as pd\n",
    "import matplotlib.pyplot as plt\n",
    "from scipy.stats import pearsonr\n",
    "import pyfastx\n",
    "import os\n",
    "import h5py"
   ]
  },
  {
   "cell_type": "code",
   "execution_count": 2,
   "metadata": {},
   "outputs": [],
   "source": [
    "def plot_side(arr, ylim=[-2, 2.5], xticks=[], yticks=[0, 2], pic_name=None):\n",
    "    assert arr.shape[0] % 2 == 0, \"arr must have even length.\"\n",
    "    midpoint = int(arr.shape[0]/2)\n",
    "    pl = arr[:midpoint]\n",
    "    mn = arr[midpoint:]\n",
    "    plt.bar(range(pl.shape[0]), pl, width=2, color=\"r\",)\n",
    "    plt.bar(range(mn.shape[0]), -mn, width=2, color=\"b\")\n",
    "    axes = plt.gca()\n",
    "    axes.set_ylim(ylim)\n",
    "    axes.set_yticks(yticks)\n",
    "    axes.set_xticks(xticks)\n",
    "    axes.spines[[\"right\", \"top\", \"bottom\"]].set_visible(False)\n",
    "    plt.xlim(-0.5, pl.shape[0]-.5)\n",
    "    \n",
    "    if pic_name is None:\n",
    "        plt.show()\n",
    "    else:\n",
    "        plt.savefig(pic_name, transparent=True)\n",
    "        plt.close()"
   ]
  },
  {
   "cell_type": "code",
   "execution_count": 3,
   "metadata": {},
   "outputs": [],
   "source": [
    "server = \"cbsu\"\n",
    "mnt = \"/home2/ayh8/\"\n",
    "predict_dir = \"predictions/ensemble/examples/\"\n",
    "data_dir = \"data/gse110638/examples/\"\n",
    "fasta_fp = \"concat_sequence.fna.gz\"\n",
    "procap_fp = \"concat_procap.npz\"\n",
    "prediction_fp = \"ensemble_examples_prediction.h5\"\n",
    "workdir = \"/Users/adamhe/github/scratch/examples\""
   ]
  },
  {
   "cell_type": "code",
   "execution_count": 6,
   "metadata": {},
   "outputs": [
    {
     "name": "stdout",
     "output_type": "stream",
     "text": [
      "scp cbsu:/home2/ayh8/data/gse110638/examples/concat_sequence.fna.gz /Users/adamhe/github/scratch/examples\n",
      "scp cbsu:/home2/ayh8/data/gse110638/examples/concat_procap.npz /Users/adamhe/github/scratch/examples\n",
      "scp cbsu:/home2/ayh8/predictions/ensemble/examples/ensemble_examples_prediction.h5 /Users/adamhe/github/scratch/examples\n"
     ]
    }
   ],
   "source": [
    "os.makedirs(workdir, exist_ok=True)\n",
    "print(f\"scp {server}:{os.path.join(mnt, data_dir, fasta_fp)} {workdir}\")\n",
    "print(f\"scp {server}:{os.path.join(mnt, data_dir, procap_fp)} {workdir}\")\n",
    "print(f\"scp {server}:{os.path.join(mnt, predict_dir, prediction_fp)} {workdir}\")"
   ]
  },
  {
   "cell_type": "code",
   "execution_count": 8,
   "metadata": {},
   "outputs": [],
   "source": [
    "fasta = pyfastx.Fasta(os.path.join(workdir, fasta_fp))\n",
    "tracks = h5py.File(os.path.join(workdir, prediction_fp))[\"track\"]\n",
    "quantity = h5py.File(os.path.join(workdir, prediction_fp))[\"quantity\"]\n",
    "y = np.load(os.path.join(workdir, procap_fp))[\"arr_0\"][:, np.r_[250:750, 1250:1750]]\n",
    "seqs = pyfastx.Fasta(os.path.join(workdir, fasta_fp))\n",
    "ids = [rec.name for rec in seqs]"
   ]
  },
  {
   "cell_type": "code",
   "execution_count": 9,
   "metadata": {},
   "outputs": [],
   "source": [
    "y_norm = tracks / np.array(tracks).sum(axis=1, keepdims=True)\n",
    "y_pred_scaled = y_norm * quantity"
   ]
  },
  {
   "cell_type": "code",
   "execution_count": 10,
   "metadata": {},
   "outputs": [],
   "source": [
    "#mx1_coord = \"chr21:41425651-41426650\"\n",
    "#mx1_ids = [idx.split(\"_\")[-1] == mx1_coord for idx in ids]\n",
    "#plot_side(np.mean(y[mx1_ids], axis=0), ylim=[-40, 50],  yticks=[0, 40], pic_name=\"ensemble_mx1_prom_expt.pdf\")\n",
    "#plot_side(np.mean(y_pred_scaled[mx1_ids], axis=0), ylim=[-4, 5], yticks=[0, 4], pic_name=\"ensemble_mx1_prom_pred.pdf\")\n",
    "\n",
    "ifnar2_coord = \"chr21:33229367-33230366\"\n",
    "ints6_coord = \"chr13:51452691-51453690\"\n",
    "ttll9_enh_coord = \"chr20:31894784-31895783\" # EH38E2106518\n",
    "EH38E2695789_enh_coord = \"chr9:70418561-70419560\" # EH38E2695789, EH38E2695790\n",
    "klf9_enh_coord = \"chr9:70411667-70412666\" # EH38E2695773\n",
    "klf9_dt_enh_coord = \"chr9:70419676-70420675\" # EH38E2695794, EH38E2695793\n",
    "kif3b_enh_coord = \"chr20:32285520-32286519\" # KIF3B, EH38E2106824, EH38E2106825\n",
    "EH38E2107427_enh_coord = \"chr20:32971851-32972850\" # EH38E2107427\n",
    "NASP_prom_coord = \"chr1:45583513-45584512\" # NASP\n",
    "EH38E3485200_enh_coord = \"chr22:43187170-43188169\"\n",
    "irf4_prom_coord = \"chr6:391151-392150\"\n",
    "rpl10a_prom_coord = \"chr6:35467831-35468830\"\n",
    "rpl35_prom_coord = \"chr9:124861481-124862480\"\n",
    "irf1_prom_coord = \"chr5:132490401-132491400\"\n",
    "irf7_prom_coord = \"chr11:615501-616500\"\n",
    "irf8_prom_coord = \"chr16:85898601-85899600\"\n",
    "\n",
    "ifnar2_ids = [idx.split(\"_\")[-1] == ifnar2_coord for idx in ids]\n",
    "ints6_ids = [idx.split(\"_\")[-1] == ints6_coord for idx in ids]\n",
    "ttll9_enh_ids = [idx.split(\"_\")[-1] == ttll9_enh_coord for idx in ids]\n",
    "EH38E2695789_enh_ids = [idx.split(\"_\")[-1] == EH38E2695789_enh_coord for idx in ids]\n",
    "klf9_enh_ids = [idx.split(\"_\")[-1] == klf9_enh_coord for idx in ids]\n",
    "klf9_dt_enh_ids = [idx.split(\"_\")[-1] == klf9_dt_enh_coord for idx in ids]\n",
    "kif3b_enh_ids = [idx.split(\"_\")[-1] == kif3b_enh_coord for idx in ids]\n",
    "EH38E2107427_enh_ids = [idx.split(\"_\")[-1] == EH38E2107427_enh_coord for idx in ids]\n",
    "NASP_prom_ids = [idx.split(\"_\")[-1] == NASP_prom_coord for idx in ids]\n",
    "EH38E3485200_enh_ids = [idx.split(\"_\")[-1] == EH38E3485200_enh_coord for idx in ids]\n",
    "irf4_prom_ids = [idx.split(\"_\")[-1] == rpl10a_prom_coord for idx in ids]\n",
    "rpl10a_prom_ids = [idx.split(\"_\")[-1] == rpl10a_prom_coord for idx in ids]\n",
    "rpl35_prom_ids = [idx.split(\"_\")[-1] == rpl35_prom_coord for idx in ids]\n",
    "irf1_prom_ids = [idx.split(\"_\")[-1] == irf1_prom_coord for idx in ids]\n",
    "irf7_prom_ids = [idx.split(\"_\")[-1] == irf7_prom_coord for idx in ids]\n",
    "irf8_prom_ids = [idx.split(\"_\")[-1] == irf8_prom_coord for idx in ids]"
   ]
  },
  {
   "cell_type": "code",
   "execution_count": 11,
   "metadata": {},
   "outputs": [
    {
     "data": {
      "text/plain": [
       "67"
      ]
     },
     "execution_count": 11,
     "metadata": {},
     "output_type": "execute_result"
    }
   ],
   "source": [
    "sum(irf8_prom_ids)"
   ]
  },
  {
   "cell_type": "code",
   "execution_count": 12,
   "metadata": {},
   "outputs": [],
   "source": [
    "plot_side(np.mean(y[ifnar2_ids], axis=0), ylim=[-1.5, 15], yticks=[0, 15], pic_name=\"ensemble_ifnar2_prom_expt.pdf\")"
   ]
  },
  {
   "cell_type": "code",
   "execution_count": 33,
   "metadata": {},
   "outputs": [],
   "source": [
    "plot_side(np.mean(y_pred_scaled[ifnar2_ids], axis=0), ylim=[-1, 10], yticks=[0, 10], pic_name=\"ensemble_ifnar2_prom_pred.pdf\")"
   ]
  },
  {
   "cell_type": "code",
   "execution_count": 10,
   "metadata": {},
   "outputs": [],
   "source": [
    "plot_side(np.mean(y[ints6_ids], axis=0), ylim=[-100, 16.7], yticks=[-100, 0], pic_name=\"ensemble_ints6_prom_expt.pdf\")"
   ]
  },
  {
   "cell_type": "code",
   "execution_count": 55,
   "metadata": {},
   "outputs": [],
   "source": [
    "plot_side(np.mean(y_pred_scaled[ints6_ids], axis=0), ylim=[-18, 3], yticks=[-18, 0], pic_name=\"ensemble_ints6_prom_pred.pdf\")"
   ]
  },
  {
   "cell_type": "code",
   "execution_count": 50,
   "metadata": {},
   "outputs": [],
   "source": [
    "plot_side(np.mean(y[klf9_dt_enh_ids], axis=0), ylim=[-3.5, 7], yticks=[0, 7], pic_name=\"ensemble_klf9_dt_enh_expt.pdf\")"
   ]
  },
  {
   "cell_type": "code",
   "execution_count": 51,
   "metadata": {},
   "outputs": [],
   "source": [
    "plot_side(np.mean(y_pred_scaled[klf9_dt_enh_ids], axis=0), ylim=[-2.5, 5], yticks=[0, 5], pic_name=\"ensemble_klf9_dt_enh_pred.pdf\")"
   ]
  },
  {
   "cell_type": "code",
   "execution_count": 60,
   "metadata": {},
   "outputs": [],
   "source": [
    "plot_side(np.mean(y[EH38E2107427_enh_ids], axis=0), ylim=[-0.8, 0.6], yticks=[0, 0.6], pic_name=\"ensemble_EH38E2107427_enh_expt.pdf\")"
   ]
  },
  {
   "cell_type": "code",
   "execution_count": 59,
   "metadata": {},
   "outputs": [],
   "source": [
    "plot_side(np.mean(y_pred_scaled[EH38E2107427_enh_ids], axis=0), ylim=[-1.2, 0.9], yticks=[0, 0.9], pic_name=\"ensemble_EH38E2107427_enh_pred.pdf\")"
   ]
  },
  {
   "cell_type": "code",
   "execution_count": 69,
   "metadata": {},
   "outputs": [],
   "source": [
    "plot_side(np.mean(y[NASP_prom_ids], axis=0), ylim=[-5, 50], yticks=[0, 50], pic_name=\"ensemble_nasp_prom_expt.pdf\")"
   ]
  },
  {
   "cell_type": "code",
   "execution_count": 68,
   "metadata": {},
   "outputs": [],
   "source": [
    "plot_side(np.mean(y_pred_scaled[NASP_prom_ids], axis=0), ylim=[-8, 80], yticks=[0, 80], pic_name=\"ensemble_nasp_prom_pred.pdf\")"
   ]
  },
  {
   "cell_type": "code",
   "execution_count": 72,
   "metadata": {},
   "outputs": [],
   "source": [
    "plot_side(np.mean(y[EH38E3485200_enh_ids], axis=0), ylim=[-1.5, 15], yticks=[0, 15], pic_name=\"ensemble_EH38E3485200_enh_expt.pdf\")"
   ]
  },
  {
   "cell_type": "code",
   "execution_count": 73,
   "metadata": {},
   "outputs": [],
   "source": [
    "plot_side(np.mean(y_pred_scaled[EH38E3485200_enh_ids], axis=0), ylim=[-0.5, 5], yticks=[0, 5], pic_name=\"ensemble_EH38E3485200_enh_pred.pdf\")"
   ]
  },
  {
   "cell_type": "code",
   "execution_count": 96,
   "metadata": {},
   "outputs": [],
   "source": [
    "plot_side(np.mean(y[irf4_prom_ids], axis=0), ylim=[-20, 100], yticks=[0, 72], pic_name=\"ensemble_irf4_prom_expt.pdf\")"
   ]
  },
  {
   "cell_type": "code",
   "execution_count": 95,
   "metadata": {},
   "outputs": [],
   "source": [
    "plot_side(np.mean(y_pred_scaled[irf4_prom_ids], axis=0), ylim=[-6, 30], yticks=[0, 30], pic_name=\"ensemble_irf4_prom_pred.pdf\")"
   ]
  },
  {
   "cell_type": "code",
   "execution_count": 99,
   "metadata": {},
   "outputs": [],
   "source": [
    "plot_side(np.mean(y[rpl10a_prom_ids], axis=0), ylim=[-20, 100], yticks=[0, 100], pic_name=\"ensemble_rpl10a_prom_expt.pdf\")"
   ]
  },
  {
   "cell_type": "code",
   "execution_count": 98,
   "metadata": {},
   "outputs": [],
   "source": [
    "plot_side(np.mean(y_pred_scaled[rpl10a_prom_ids], axis=0), ylim=[-6, 30], yticks=[0, 30], pic_name=\"ensemble_rpl10a_prom_pred.pdf\")"
   ]
  },
  {
   "cell_type": "code",
   "execution_count": 85,
   "metadata": {},
   "outputs": [],
   "source": [
    "plot_side(np.mean(y[rpl35_prom_ids], axis=0), ylim=[-24, 16], yticks=[0, -24], pic_name=\"ensemble_rpl35_prom_expt.pdf\")"
   ]
  },
  {
   "cell_type": "code",
   "execution_count": 101,
   "metadata": {},
   "outputs": [],
   "source": [
    "plot_side(np.mean(y_pred_scaled[rpl35_prom_ids], axis=0), ylim=[-6, 4], yticks=[0, -6], pic_name=\"ensemble_rpl35_prom_pred.pdf\")"
   ]
  },
  {
   "cell_type": "code",
   "execution_count": 42,
   "metadata": {},
   "outputs": [],
   "source": [
    "plot_side(np.mean(y[irf1_prom_ids], axis=0), ylim=[-180, 18], yticks=[0, -180], pic_name=\"ensemble_irf1_prom_expt.pdf\")"
   ]
  },
  {
   "cell_type": "code",
   "execution_count": 43,
   "metadata": {},
   "outputs": [],
   "source": [
    "plot_side(np.mean(y_pred_scaled[irf1_prom_ids], axis=0), ylim=[-40, 4], yticks=[0, -40], pic_name=\"ensemble_irf1_prom_pred.pdf\")"
   ]
  },
  {
   "cell_type": "code",
   "execution_count": 40,
   "metadata": {},
   "outputs": [],
   "source": [
    "plot_side(np.mean(y[irf7_prom_ids], axis=0), ylim=[-60, 6], yticks=[0, -60], pic_name=\"ensemble_irf7_prom_expt.pdf\")"
   ]
  },
  {
   "cell_type": "code",
   "execution_count": 41,
   "metadata": {},
   "outputs": [],
   "source": [
    "plot_side(np.mean(y_pred_scaled[irf7_prom_ids], axis=0), ylim=[-20, 2], yticks=[0, -20], pic_name=\"ensemble_irf7_prom_pred.pdf\")"
   ]
  },
  {
   "cell_type": "code",
   "execution_count": 54,
   "metadata": {},
   "outputs": [],
   "source": [
    "plot_side(np.mean(y[irf8_prom_ids], axis=0), ylim=[-10, 15], yticks=[0, 15], pic_name=\"ensemble_irf8_prom_expt.pdf\")"
   ]
  },
  {
   "cell_type": "code",
   "execution_count": 53,
   "metadata": {},
   "outputs": [],
   "source": [
    "plot_side(np.mean(y_pred_scaled[irf8_prom_ids], axis=0), ylim=[-10, 15], yticks=[0, 15], pic_name=\"ensemble_irf8_prom_pred.pdf\")"
   ]
  },
  {
   "cell_type": "code",
   "execution_count": 86,
   "metadata": {},
   "outputs": [
    {
     "data": {
      "text/plain": [
       "(0.8007984875720182, 2.1019227884362822e-224)"
      ]
     },
     "execution_count": 86,
     "metadata": {},
     "output_type": "execute_result"
    }
   ],
   "source": [
    "pearsonr(np.mean(y[rpl35_prom_ids], axis=0), np.mean(y_pred_scaled[rpl35_prom_ids], axis=0))"
   ]
  },
  {
   "cell_type": "code",
   "execution_count": 87,
   "metadata": {},
   "outputs": [
    {
     "data": {
      "text/plain": [
       "(0.7878591308729714, 2.5434027939558296e-212)"
      ]
     },
     "execution_count": 87,
     "metadata": {},
     "output_type": "execute_result"
    }
   ],
   "source": [
    "pearsonr(np.mean(y[EH38E2107427_enh_ids], axis=0), np.mean(y_pred_scaled[EH38E2107427_enh_ids], axis=0))"
   ]
  },
  {
   "cell_type": "code",
   "execution_count": 61,
   "metadata": {},
   "outputs": [
    {
     "data": {
      "text/plain": [
       "699"
      ]
     },
     "execution_count": 61,
     "metadata": {},
     "output_type": "execute_result"
    }
   ],
   "source": [
    "y_pred_scaled[irf7_prom_ids].mean(axis=0).argmax()"
   ]
  },
  {
   "cell_type": "markdown",
   "metadata": {},
   "source": []
  }
 ],
 "metadata": {
  "kernelspec": {
   "display_name": "tf_dev",
   "language": "python",
   "name": "python3"
  },
  "language_info": {
   "codemirror_mode": {
    "name": "ipython",
    "version": 3
   },
   "file_extension": ".py",
   "mimetype": "text/x-python",
   "name": "python",
   "nbconvert_exporter": "python",
   "pygments_lexer": "ipython3",
   "version": "3.10.9"
  },
  "orig_nbformat": 4,
  "vscode": {
   "interpreter": {
    "hash": "0dc70fb9079410f02c3609bf83a3278b2bbb4ee241371158723a3b8049f030e4"
   }
  }
 },
 "nbformat": 4,
 "nbformat_minor": 2
}
