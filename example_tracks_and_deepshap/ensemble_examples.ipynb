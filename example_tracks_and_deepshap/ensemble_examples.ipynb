{
 "cells": [
  {
   "cell_type": "code",
   "execution_count": 34,
   "metadata": {},
   "outputs": [
    {
     "data": {
      "text/plain": [
       "'\\nThis notebook plots example predicted and observed tracks used in Fig. 1F-G, 2A-B, 6C-D, Supp. Fig. 2A-B\\n'"
      ]
     },
     "execution_count": 34,
     "metadata": {},
     "output_type": "execute_result"
    }
   ],
   "source": [
    "\"\"\"\n",
    "This notebook plots example predicted and observed tracks used in Fig. 1F-G, 2A-B, Supp. Fig. 2A-B.\n",
    "\"\"\""
   ]
  },
  {
   "cell_type": "code",
   "execution_count": 1,
   "metadata": {},
   "outputs": [],
   "source": [
    "import numpy as np\n",
    "import pyfastx\n",
    "import os\n",
    "import h5py\n",
    "import sys\n",
    "sys.path.append(\"../\")\n",
    "from utils import plot_side"
   ]
  },
  {
   "cell_type": "code",
   "execution_count": 2,
   "metadata": {},
   "outputs": [
    {
     "name": "stdout",
     "output_type": "stream",
     "text": [
      "wget https://zenodo.org/records/10597358/files/example_tracks_and_deepshap.tar.gz -P /Users/adamhe/github/scratch\n",
      "tar -xvzf /Users/adamhe/github/scratch/example_tracks_and_deepshap.tar.gz -C /Users/adamhe/github/scratch\n"
     ]
    }
   ],
   "source": [
    "# PRINT COMMANDS TO DOWNLOAD AND EXTRACT DATA\n",
    "\n",
    "# Set SCRATCH to where you want to download data to\n",
    "SCRATCH = \"/Users/adamhe/github/scratch\"\n",
    "\n",
    "URL = \"https://zenodo.org/records/10597358/files\"\n",
    "TAR = \"example_tracks_and_deepshap.tar.gz\"\n",
    "print(f\"wget {URL}/{TAR} -P {SCRATCH}\")\n",
    "print(f\"tar -xvzf {SCRATCH}/{TAR} -C {SCRATCH}\")"
   ]
  },
  {
   "cell_type": "code",
   "execution_count": 6,
   "metadata": {},
   "outputs": [],
   "source": [
    "# Load data\n",
    "\n",
    "# Sequence\n",
    "fasta = pyfastx.Fasta(os.path.join(SCRATCH, \"example_tracks_and_deepshap/concat_sequence.fna.gz\"))\n",
    "ids = [rec.name for rec in fasta]\n",
    "\n",
    "# Experimental\n",
    "y = np.load(\n",
    "    os.path.join(SCRATCH, \"example_tracks_and_deepshap/concat_procap.npz\")\n",
    ")[\"arr_0\"][:, np.r_[250:750, 1250:1750]]\n",
    "\n",
    "# Predicted\n",
    "prediction = h5py.File(os.path.join(SCRATCH, \"example_tracks_and_deepshap/ensemble_examples_prediction.h5\"))\n",
    "tracks = prediction[\"track\"]\n",
    "quantity = prediction[\"quantity\"]\n",
    "# Apply affine correction\n",
    "quantity = 10 ** (np.hstack(\n",
    "    [np.log10(quantity[:]), np.ones(quantity.shape[0]).reshape(-1, 1)]\n",
    ") @ np.array([[1.59687745, -0.80203685]]).T)\n",
    "y_norm = tracks / np.array(tracks).sum(axis=1, keepdims=True)\n",
    "y_pred_scaled = y_norm * quantity"
   ]
  },
  {
   "cell_type": "code",
   "execution_count": 7,
   "metadata": {},
   "outputs": [],
   "source": [
    "# Select tracks we want to plot\n",
    "\n",
    "ifnar2_coord = \"chr21:33229367-33230366\"\n",
    "ints6_coord = \"chr13:51452691-51453690\"\n",
    "ttll9_enh_coord = \"chr20:31894784-31895783\" # EH38E2106518\n",
    "EH38E2695789_enh_coord = \"chr9:70418561-70419560\" # EH38E2695789, EH38E2695790\n",
    "klf9_enh_coord = \"chr9:70411667-70412666\" # EH38E2695773\n",
    "klf9_dt_enh_coord = \"chr9:70419676-70420675\" # EH38E2695794, EH38E2695793\n",
    "kif3b_enh_coord = \"chr20:32285520-32286519\" # KIF3B, EH38E2106824, EH38E2106825\n",
    "EH38E2107427_enh_coord = \"chr20:32971851-32972850\" # EH38E2107427\n",
    "NASP_prom_coord = \"chr1:45583513-45584512\" # NASP\n",
    "EH38E3485200_enh_coord = \"chr22:43187170-43188169\"\n",
    "irf4_prom_coord = \"chr6:391151-392150\"\n",
    "rpl10a_prom_coord = \"chr6:35467831-35468830\"\n",
    "rpl35_prom_coord = \"chr9:124861481-124862480\"\n",
    "irf1_prom_coord = \"chr5:132490401-132491400\"\n",
    "irf7_prom_coord = \"chr11:615501-616500\"\n",
    "irf8_prom_coord = \"chr16:85898601-85899600\"\n",
    "\n",
    "ifnar2_ids = [idx.split(\"_\")[-1] == ifnar2_coord for idx in ids]\n",
    "ints6_ids = [idx.split(\"_\")[-1] == ints6_coord for idx in ids]\n",
    "ttll9_enh_ids = [idx.split(\"_\")[-1] == ttll9_enh_coord for idx in ids]\n",
    "EH38E2695789_enh_ids = [idx.split(\"_\")[-1] == EH38E2695789_enh_coord for idx in ids]\n",
    "klf9_enh_ids = [idx.split(\"_\")[-1] == klf9_enh_coord for idx in ids]\n",
    "klf9_dt_enh_ids = [idx.split(\"_\")[-1] == klf9_dt_enh_coord for idx in ids]\n",
    "kif3b_enh_ids = [idx.split(\"_\")[-1] == kif3b_enh_coord for idx in ids]\n",
    "EH38E2107427_enh_ids = [idx.split(\"_\")[-1] == EH38E2107427_enh_coord for idx in ids]\n",
    "NASP_prom_ids = [idx.split(\"_\")[-1] == NASP_prom_coord for idx in ids]\n",
    "EH38E3485200_enh_ids = [idx.split(\"_\")[-1] == EH38E3485200_enh_coord for idx in ids]\n",
    "irf4_prom_ids = [idx.split(\"_\")[-1] == rpl10a_prom_coord for idx in ids]\n",
    "rpl10a_prom_ids = [idx.split(\"_\")[-1] == rpl10a_prom_coord for idx in ids]\n",
    "rpl35_prom_ids = [idx.split(\"_\")[-1] == rpl35_prom_coord for idx in ids]\n",
    "irf1_prom_ids = [idx.split(\"_\")[-1] == irf1_prom_coord for idx in ids]\n",
    "irf7_prom_ids = [idx.split(\"_\")[-1] == irf7_prom_coord for idx in ids]\n",
    "irf8_prom_ids = [idx.split(\"_\")[-1] == irf8_prom_coord for idx in ids]"
   ]
  },
  {
   "cell_type": "code",
   "execution_count": 19,
   "metadata": {},
   "outputs": [
    {
     "name": "stdout",
     "output_type": "stream",
     "text": [
      "2.377\n",
      "1.850098262678154\n"
     ]
    }
   ],
   "source": [
    "# INTS6 is a particularly bad quantity prediction, so we'll plot where it is on\n",
    "# the scatterplot (see ../evaluation_plots.ipynb)\n",
    "print(np.log10(y[ints6_ids].sum(axis=1).mean()))\n",
    "print(np.log10(y_pred_scaled[ints6_ids].sum(axis=1).mean()))"
   ]
  },
  {
   "cell_type": "code",
   "execution_count": 20,
   "metadata": {},
   "outputs": [],
   "source": [
    "plot_side(\n",
    "    np.mean(y[ifnar2_ids], axis=0), \n",
    "    ylim=[-1, 15],\n",
    "    yticks=[0, 15],\n",
    "    pic_name=\"img/ensemble_ifnar2_prom_expt.pdf\"\n",
    ")"
   ]
  },
  {
   "cell_type": "code",
   "execution_count": 103,
   "metadata": {},
   "outputs": [],
   "source": [
    "plot_side(\n",
    "    np.mean(y_pred_scaled[ifnar2_ids], axis=0),\n",
    "    ylim=[-1, 15],\n",
    "    yticks=[0, 15],\n",
    "    pic_name=\"img/ensemble_ifnar2_prom_pred.pdf\"\n",
    ")"
   ]
  },
  {
   "cell_type": "code",
   "execution_count": 101,
   "metadata": {},
   "outputs": [],
   "source": [
    "plot_side(\n",
    "    np.mean(y[ints6_ids], axis=0),\n",
    "    ylim=[-100, 16.7],\n",
    "    yticks=[-100, 0],\n",
    "    pic_name=\"img/ensemble_ints6_prom_expt.pdf\"\n",
    ")"
   ]
  },
  {
   "cell_type": "code",
   "execution_count": 100,
   "metadata": {},
   "outputs": [],
   "source": [
    "plot_side(\n",
    "    np.mean(y_pred_scaled[ints6_ids], axis=0),\n",
    "    ylim=[-30, 5],\n",
    "    yticks=[-30, 0],\n",
    "    pic_name=\"img/ensemble_ints6_prom_pred.pdf\"\n",
    ")"
   ]
  },
  {
   "cell_type": "code",
   "execution_count": 99,
   "metadata": {},
   "outputs": [],
   "source": [
    "plot_side(\n",
    "    np.mean(y[klf9_dt_enh_ids], axis=0),\n",
    "    ylim=[-3.5, 7],\n",
    "    yticks=[0, 7],\n",
    "    pic_name=\"img/ensemble_klf9_dt_enh_expt.pdf\"\n",
    ")"
   ]
  },
  {
   "cell_type": "code",
   "execution_count": 96,
   "metadata": {},
   "outputs": [],
   "source": [
    "plot_side(\n",
    "    np.mean(y_pred_scaled[klf9_dt_enh_ids], axis=0),\n",
    "    ylim=[-3.5, 7],\n",
    "    yticks=[0, 7],\n",
    "    pic_name=\"img/ensemble_klf9_dt_enh_pred.pdf\"\n",
    ")"
   ]
  },
  {
   "cell_type": "code",
   "execution_count": 98,
   "metadata": {},
   "outputs": [],
   "source": [
    "plot_side(\n",
    "    np.mean(y[EH38E2107427_enh_ids], axis=0),\n",
    "    ylim=[-0.8, 0.6],\n",
    "    yticks=[0, 0.6],\n",
    "    pic_name=\"img/ensemble_EH38E2107427_enh_expt.pdf\"\n",
    ")"
   ]
  },
  {
   "cell_type": "code",
   "execution_count": 97,
   "metadata": {},
   "outputs": [],
   "source": [
    "plot_side(\n",
    "    np.mean(y_pred_scaled[EH38E2107427_enh_ids], axis=0),\n",
    "    ylim=[-0.8, 0.6],\n",
    "    yticks=[0, 0.6],\n",
    "    pic_name=\"img/ensemble_EH38E2107427_enh_pred.pdf\"\n",
    ")"
   ]
  },
  {
   "cell_type": "code",
   "execution_count": 94,
   "metadata": {},
   "outputs": [],
   "source": [
    "plot_side(\n",
    "    np.mean(y[NASP_prom_ids], axis=0),\n",
    "    ylim=[-5, 50],\n",
    "    yticks=[0, 50],\n",
    "    pic_name=\"img/ensemble_nasp_prom_expt.pdf\"\n",
    ")"
   ]
  },
  {
   "cell_type": "code",
   "execution_count": 93,
   "metadata": {},
   "outputs": [],
   "source": [
    "plot_side(\n",
    "    np.mean(y_pred_scaled[NASP_prom_ids], axis=0),\n",
    "    ylim=[-12, 120],\n",
    "    yticks=[0, 120],\n",
    "    pic_name=\"img/ensemble_nasp_prom_pred.pdf\"\n",
    ")"
   ]
  },
  {
   "cell_type": "code",
   "execution_count": 91,
   "metadata": {},
   "outputs": [],
   "source": [
    "plot_side(\n",
    "    np.mean(y[EH38E3485200_enh_ids], axis=0),\n",
    "    ylim=[-1.5, 15],\n",
    "    yticks=[0, 15],\n",
    "    pic_name=\"img/ensemble_EH38E3485200_enh_expt.pdf\"\n",
    ")"
   ]
  },
  {
   "cell_type": "code",
   "execution_count": 92,
   "metadata": {},
   "outputs": [],
   "source": [
    "plot_side(\n",
    "    np.mean(y_pred_scaled[EH38E3485200_enh_ids], axis=0),\n",
    "    ylim=[-0.7, 7],\n",
    "    yticks=[0, 7],\n",
    "    pic_name=\"img/ensemble_EH38E3485200_enh_pred.pdf\"\n",
    ")"
   ]
  },
  {
   "cell_type": "code",
   "execution_count": 95,
   "metadata": {},
   "outputs": [],
   "source": [
    "plot_side(\n",
    "    np.mean(y[irf4_prom_ids], axis=0),\n",
    "    ylim=[-20, 100],\n",
    "    yticks=[0, 100],\n",
    "    pic_name=\"img/ensemble_irf4_prom_expt.pdf\"\n",
    ")"
   ]
  },
  {
   "cell_type": "code",
   "execution_count": 88,
   "metadata": {},
   "outputs": [],
   "source": [
    "plot_side(\n",
    "    np.mean(y_pred_scaled[irf4_prom_ids], axis=0),\n",
    "    ylim=[-10, 50],\n",
    "    yticks=[0, 50],\n",
    "    pic_name=\"img/ensemble_irf4_prom_pred.pdf\"\n",
    ")"
   ]
  },
  {
   "cell_type": "code",
   "execution_count": 82,
   "metadata": {},
   "outputs": [],
   "source": [
    "plot_side(\n",
    "    np.mean(y[rpl10a_prom_ids], axis=0),\n",
    "    ylim=[-20, 100],\n",
    "    yticks=[0, 100],\n",
    "    pic_name=\"img/ensemble_rpl10a_prom_expt.pdf\"\n",
    ")"
   ]
  },
  {
   "cell_type": "code",
   "execution_count": 83,
   "metadata": {},
   "outputs": [],
   "source": [
    "plot_side(\n",
    "    np.mean(y_pred_scaled[rpl10a_prom_ids], axis=0),\n",
    "    ylim=[-10, 50],\n",
    "    yticks=[0, 50],\n",
    "    pic_name=\"img/ensemble_rpl10a_prom_pred.pdf\"\n",
    ")"
   ]
  },
  {
   "cell_type": "code",
   "execution_count": 80,
   "metadata": {},
   "outputs": [],
   "source": [
    "plot_side(\n",
    "    np.mean(y[rpl35_prom_ids], axis=0),\n",
    "    ylim=[-24, 16],\n",
    "    yticks=[0, -24],\n",
    "    pic_name=\"img/ensemble_rpl35_prom_expt.pdf\"\n",
    ")"
   ]
  },
  {
   "cell_type": "code",
   "execution_count": 90,
   "metadata": {},
   "outputs": [],
   "source": [
    "plot_side(\n",
    "    np.mean(y_pred_scaled[rpl35_prom_ids], axis=0),\n",
    "    ylim=[-15, 10],\n",
    "    yticks=[0, -15],\n",
    "    pic_name=\"img/ensemble_rpl35_prom_pred.pdf\"\n",
    ")"
   ]
  },
  {
   "cell_type": "code",
   "execution_count": 65,
   "metadata": {},
   "outputs": [],
   "source": [
    "plot_side(\n",
    "    np.mean(y[irf1_prom_ids], axis=0),\n",
    "    ylim=[-180, 18],\n",
    "    yticks=[0, -180],\n",
    "    pic_name=\"img/ensemble_irf1_prom_expt.pdf\"\n",
    ")"
   ]
  },
  {
   "cell_type": "code",
   "execution_count": 66,
   "metadata": {},
   "outputs": [],
   "source": [
    "plot_side(\n",
    "    np.mean(y_pred_scaled[irf1_prom_ids], axis=0),\n",
    "    ylim=[-80, 8],\n",
    "    yticks=[0, -80],\n",
    "    pic_name=\"img/ensemble_irf1_prom_pred.pdf\"\n",
    ")"
   ]
  },
  {
   "cell_type": "code",
   "execution_count": 78,
   "metadata": {},
   "outputs": [],
   "source": [
    "plot_side(\n",
    "    np.mean(y[irf7_prom_ids], axis=0),\n",
    "    ylim=[-60, 6],\n",
    "    yticks=[0, -60],\n",
    "    pic_name=\"img/ensemble_irf7_prom_expt.pdf\"\n",
    ")"
   ]
  },
  {
   "cell_type": "code",
   "execution_count": 79,
   "metadata": {},
   "outputs": [],
   "source": [
    "plot_side(\n",
    "    np.mean(y_pred_scaled[irf7_prom_ids], axis=0),\n",
    "    ylim=[-30, 3],\n",
    "    yticks=[0, -30],\n",
    "    pic_name=\"img/ensemble_irf7_prom_pred.pdf\"\n",
    ")"
   ]
  },
  {
   "cell_type": "code",
   "execution_count": 77,
   "metadata": {},
   "outputs": [],
   "source": [
    "plot_side(\n",
    "    np.mean(y[irf8_prom_ids], axis=0),\n",
    "    ylim=[-10, 15],\n",
    "    yticks=[0, 15],\n",
    "    pic_name=\"img/ensemble_irf8_prom_expt.pdf\"\n",
    ")"
   ]
  },
  {
   "cell_type": "code",
   "execution_count": 76,
   "metadata": {},
   "outputs": [],
   "source": [
    "plot_side(\n",
    "    np.mean(y_pred_scaled[irf8_prom_ids], axis=0),\n",
    "    ylim=[-12, 18],\n",
    "    yticks=[0, 18],\n",
    "    pic_name=\"img/ensemble_irf8_prom_pred.pdf\"\n",
    ")"
   ]
  },
  {
   "cell_type": "code",
   "execution_count": null,
   "metadata": {},
   "outputs": [],
   "source": []
  }
 ],
 "metadata": {
  "kernelspec": {
   "display_name": "tf_dev",
   "language": "python",
   "name": "python3"
  },
  "language_info": {
   "codemirror_mode": {
    "name": "ipython",
    "version": 3
   },
   "file_extension": ".py",
   "mimetype": "text/x-python",
   "name": "python",
   "nbconvert_exporter": "python",
   "pygments_lexer": "ipython3",
   "version": "3.13.3"
  },
  "orig_nbformat": 4,
  "vscode": {
   "interpreter": {
    "hash": "0dc70fb9079410f02c3609bf83a3278b2bbb4ee241371158723a3b8049f030e4"
   }
  }
 },
 "nbformat": 4,
 "nbformat_minor": 2
}
