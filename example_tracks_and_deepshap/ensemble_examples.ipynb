{
 "cells": [
  {
   "cell_type": "code",
   "execution_count": 34,
   "metadata": {},
   "outputs": [
    {
     "data": {
      "text/plain": [
       "'\\nThis notebook plots example predicted and observed tracks used in Fig. 1F-G, 2A-B, 6C-D, Supp. Fig. 2A-B\\n'"
      ]
     },
     "execution_count": 34,
     "metadata": {},
     "output_type": "execute_result"
    }
   ],
   "source": [
    "\"\"\"\n",
    "This notebook plots example predicted and observed tracks used in Fig. 1F-G, 2A-B, 6C-D, Supp. Fig. 2A-B\n",
    "\"\"\""
   ]
  },
  {
   "cell_type": "code",
   "execution_count": 35,
   "metadata": {},
   "outputs": [],
   "source": [
    "import numpy as np\n",
    "import pyfastx\n",
    "import os\n",
    "import h5py\n",
    "from utils import plot_side"
   ]
  },
  {
   "cell_type": "code",
   "execution_count": 36,
   "metadata": {},
   "outputs": [
    {
     "name": "stdout",
     "output_type": "stream",
     "text": [
      "wget https://zenodo.org/records/10597358/files/example_tracks_and_deepshap.tar.gz -P /Users/adamhe/github/scratch\n",
      "tar -cvzf /Users/adamhe/github/scratch/example_tracks_and_deepshap.tar.gz\n"
     ]
    }
   ],
   "source": [
    "# PRINT COMMANDS TO DOWNLOAD AND EXTRACT DATA\n",
    "\n",
    "# Set SCRATCH to where you want to download data to\n",
    "SCRATCH = \"/Users/adamhe/github/scratch\"\n",
    "\n",
    "URL = \"https://zenodo.org/records/10597358/files\"\n",
    "TAR = \"example_tracks_and_deepshap.tar.gz\"\n",
    "print(f\"wget {URL}/{TAR} -P {SCRATCH}\")\n",
    "print(f\"tar -cvzf {SCRATCH}/{TAR}\")"
   ]
  },
  {
   "cell_type": "code",
   "execution_count": 7,
   "metadata": {},
   "outputs": [],
   "source": [
    "# Load data\n",
    "\n",
    "# Sequence\n",
    "fasta = pyfastx.Fasta(os.path.join(SCRATCH, \"example_tracks_and_deepshap/concat_sequence.fna.gz\"))\n",
    "ids = [rec.name for rec in fasta]\n",
    "\n",
    "# Experimental\n",
    "y = np.load(os.path.join(SCRATCH, \"example_tracks_and_deepshap/concat_procap.npz\"))[\"arr_0\"][:, np.r_[250:750, 1250:1750]]\n",
    "\n",
    "# Predicted\n",
    "tracks = h5py.File(os.path.join(SCRATCH, \"example_tracks_and_deepshap/ensemble_examples_prediction.h5\"))[\"track\"]\n",
    "quantity = h5py.File(os.path.join(SCRATCH, \"example_tracks_and_deepshap/ensemble_examples_prediction.h5\"))[\"quantity\"]\n",
    "y_norm = tracks / np.array(tracks).sum(axis=1, keepdims=True)\n",
    "y_pred_scaled = y_norm * quantity"
   ]
  },
  {
   "cell_type": "code",
   "execution_count": 8,
   "metadata": {},
   "outputs": [],
   "source": [
    "# Select tracks we want to plot\n",
    "\n",
    "ifnar2_coord = \"chr21:33229367-33230366\"\n",
    "ints6_coord = \"chr13:51452691-51453690\"\n",
    "ttll9_enh_coord = \"chr20:31894784-31895783\" # EH38E2106518\n",
    "EH38E2695789_enh_coord = \"chr9:70418561-70419560\" # EH38E2695789, EH38E2695790\n",
    "klf9_enh_coord = \"chr9:70411667-70412666\" # EH38E2695773\n",
    "klf9_dt_enh_coord = \"chr9:70419676-70420675\" # EH38E2695794, EH38E2695793\n",
    "kif3b_enh_coord = \"chr20:32285520-32286519\" # KIF3B, EH38E2106824, EH38E2106825\n",
    "EH38E2107427_enh_coord = \"chr20:32971851-32972850\" # EH38E2107427\n",
    "NASP_prom_coord = \"chr1:45583513-45584512\" # NASP\n",
    "EH38E3485200_enh_coord = \"chr22:43187170-43188169\"\n",
    "irf4_prom_coord = \"chr6:391151-392150\"\n",
    "rpl10a_prom_coord = \"chr6:35467831-35468830\"\n",
    "rpl35_prom_coord = \"chr9:124861481-124862480\"\n",
    "irf1_prom_coord = \"chr5:132490401-132491400\"\n",
    "irf7_prom_coord = \"chr11:615501-616500\"\n",
    "irf8_prom_coord = \"chr16:85898601-85899600\"\n",
    "\n",
    "ifnar2_ids = [idx.split(\"_\")[-1] == ifnar2_coord for idx in ids]\n",
    "ints6_ids = [idx.split(\"_\")[-1] == ints6_coord for idx in ids]\n",
    "ttll9_enh_ids = [idx.split(\"_\")[-1] == ttll9_enh_coord for idx in ids]\n",
    "EH38E2695789_enh_ids = [idx.split(\"_\")[-1] == EH38E2695789_enh_coord for idx in ids]\n",
    "klf9_enh_ids = [idx.split(\"_\")[-1] == klf9_enh_coord for idx in ids]\n",
    "klf9_dt_enh_ids = [idx.split(\"_\")[-1] == klf9_dt_enh_coord for idx in ids]\n",
    "kif3b_enh_ids = [idx.split(\"_\")[-1] == kif3b_enh_coord for idx in ids]\n",
    "EH38E2107427_enh_ids = [idx.split(\"_\")[-1] == EH38E2107427_enh_coord for idx in ids]\n",
    "NASP_prom_ids = [idx.split(\"_\")[-1] == NASP_prom_coord for idx in ids]\n",
    "EH38E3485200_enh_ids = [idx.split(\"_\")[-1] == EH38E3485200_enh_coord for idx in ids]\n",
    "irf4_prom_ids = [idx.split(\"_\")[-1] == rpl10a_prom_coord for idx in ids]\n",
    "rpl10a_prom_ids = [idx.split(\"_\")[-1] == rpl10a_prom_coord for idx in ids]\n",
    "rpl35_prom_ids = [idx.split(\"_\")[-1] == rpl35_prom_coord for idx in ids]\n",
    "irf1_prom_ids = [idx.split(\"_\")[-1] == irf1_prom_coord for idx in ids]\n",
    "irf7_prom_ids = [idx.split(\"_\")[-1] == irf7_prom_coord for idx in ids]\n",
    "irf8_prom_ids = [idx.split(\"_\")[-1] == irf8_prom_coord for idx in ids]"
   ]
  },
  {
   "cell_type": "code",
   "execution_count": 10,
   "metadata": {},
   "outputs": [],
   "source": [
    "plot_side(\n",
    "    np.mean(y[ifnar2_ids], axis=0), \n",
    "    ylim=[-1.5, 15],\n",
    "    yticks=[0, 15],\n",
    "    pic_name=\"img/ensemble_ifnar2_prom_expt.pdf\"\n",
    ")"
   ]
  },
  {
   "cell_type": "code",
   "execution_count": 11,
   "metadata": {},
   "outputs": [],
   "source": [
    "plot_side(\n",
    "    np.mean(y_pred_scaled[ifnar2_ids], axis=0),\n",
    "    ylim=[-1, 10],\n",
    "    yticks=[0, 10],\n",
    "    pic_name=\"img/ensemble_ifnar2_prom_pred.pdf\"\n",
    ")"
   ]
  },
  {
   "cell_type": "code",
   "execution_count": 12,
   "metadata": {},
   "outputs": [],
   "source": [
    "plot_side(\n",
    "    np.mean(y[ints6_ids], axis=0),\n",
    "    ylim=[-100, 16.7],\n",
    "    yticks=[-100, 0],\n",
    "    pic_name=\"img/ensemble_ints6_prom_expt.pdf\"\n",
    ")"
   ]
  },
  {
   "cell_type": "code",
   "execution_count": 13,
   "metadata": {},
   "outputs": [],
   "source": [
    "plot_side(\n",
    "    np.mean(y_pred_scaled[ints6_ids], axis=0),\n",
    "    ylim=[-18, 3],\n",
    "    yticks=[-18, 0],\n",
    "    pic_name=\"img/ensemble_ints6_prom_pred.pdf\"\n",
    ")"
   ]
  },
  {
   "cell_type": "code",
   "execution_count": 14,
   "metadata": {},
   "outputs": [],
   "source": [
    "plot_side(\n",
    "    np.mean(y[klf9_dt_enh_ids], axis=0),\n",
    "    ylim=[-3.5, 7],\n",
    "    yticks=[0, 7],\n",
    "    pic_name=\"img/ensemble_klf9_dt_enh_expt.pdf\"\n",
    ")"
   ]
  },
  {
   "cell_type": "code",
   "execution_count": 15,
   "metadata": {},
   "outputs": [],
   "source": [
    "plot_side(\n",
    "    np.mean(y_pred_scaled[klf9_dt_enh_ids], axis=0),\n",
    "    ylim=[-2.5, 5],\n",
    "    yticks=[0, 5],\n",
    "    pic_name=\"img/ensemble_klf9_dt_enh_pred.pdf\"\n",
    ")"
   ]
  },
  {
   "cell_type": "code",
   "execution_count": 16,
   "metadata": {},
   "outputs": [],
   "source": [
    "plot_side(\n",
    "    np.mean(y[EH38E2107427_enh_ids], axis=0),\n",
    "    ylim=[-0.8, 0.6],\n",
    "    yticks=[0, 0.6],\n",
    "    pic_name=\"img/ensemble_EH38E2107427_enh_expt.pdf\"\n",
    ")"
   ]
  },
  {
   "cell_type": "code",
   "execution_count": 17,
   "metadata": {},
   "outputs": [],
   "source": [
    "plot_side(\n",
    "    np.mean(y_pred_scaled[EH38E2107427_enh_ids], axis=0),\n",
    "    ylim=[-1.2, 0.9],\n",
    "    yticks=[0, 0.9],\n",
    "    pic_name=\"img/ensemble_EH38E2107427_enh_pred.pdf\"\n",
    ")"
   ]
  },
  {
   "cell_type": "code",
   "execution_count": 18,
   "metadata": {},
   "outputs": [],
   "source": [
    "plot_side(\n",
    "    np.mean(y[NASP_prom_ids], axis=0),\n",
    "    ylim=[-5, 50],\n",
    "    yticks=[0, 50],\n",
    "    pic_name=\"img/ensemble_nasp_prom_expt.pdf\"\n",
    ")"
   ]
  },
  {
   "cell_type": "code",
   "execution_count": 19,
   "metadata": {},
   "outputs": [],
   "source": [
    "plot_side(\n",
    "    np.mean(y_pred_scaled[NASP_prom_ids], axis=0),\n",
    "    ylim=[-8, 80],\n",
    "    yticks=[0, 80],\n",
    "    pic_name=\"img/ensemble_nasp_prom_pred.pdf\"\n",
    ")"
   ]
  },
  {
   "cell_type": "code",
   "execution_count": 20,
   "metadata": {},
   "outputs": [],
   "source": [
    "plot_side(\n",
    "    np.mean(y[EH38E3485200_enh_ids], axis=0),\n",
    "    ylim=[-1.5, 15],\n",
    "    yticks=[0, 15],\n",
    "    pic_name=\"img/ensemble_EH38E3485200_enh_expt.pdf\"\n",
    ")"
   ]
  },
  {
   "cell_type": "code",
   "execution_count": 21,
   "metadata": {},
   "outputs": [],
   "source": [
    "plot_side(\n",
    "    np.mean(y_pred_scaled[EH38E3485200_enh_ids], axis=0),\n",
    "    ylim=[-0.5, 5],\n",
    "    yticks=[0, 5],\n",
    "    pic_name=\"img/ensemble_EH38E3485200_enh_pred.pdf\"\n",
    ")"
   ]
  },
  {
   "cell_type": "code",
   "execution_count": 22,
   "metadata": {},
   "outputs": [],
   "source": [
    "plot_side(\n",
    "    np.mean(y[irf4_prom_ids], axis=0),\n",
    "    ylim=[-20, 100],\n",
    "    yticks=[0, 72],\n",
    "    pic_name=\"img/ensemble_irf4_prom_expt.pdf\"\n",
    ")"
   ]
  },
  {
   "cell_type": "code",
   "execution_count": 23,
   "metadata": {},
   "outputs": [],
   "source": [
    "plot_side(\n",
    "    np.mean(y_pred_scaled[irf4_prom_ids], axis=0),\n",
    "    ylim=[-6, 30],\n",
    "    yticks=[0, 30],\n",
    "    pic_name=\"img/ensemble_irf4_prom_pred.pdf\"\n",
    ")"
   ]
  },
  {
   "cell_type": "code",
   "execution_count": 24,
   "metadata": {},
   "outputs": [],
   "source": [
    "plot_side(\n",
    "    np.mean(y[rpl10a_prom_ids], axis=0),\n",
    "    ylim=[-20, 100],\n",
    "    yticks=[0, 100],\n",
    "    pic_name=\"img/ensemble_rpl10a_prom_expt.pdf\"\n",
    ")"
   ]
  },
  {
   "cell_type": "code",
   "execution_count": 25,
   "metadata": {},
   "outputs": [],
   "source": [
    "plot_side(\n",
    "    np.mean(y_pred_scaled[rpl10a_prom_ids], axis=0),\n",
    "    ylim=[-6, 30],\n",
    "    yticks=[0, 30],\n",
    "    pic_name=\"img/ensemble_rpl10a_prom_pred.pdf\"\n",
    ")"
   ]
  },
  {
   "cell_type": "code",
   "execution_count": 26,
   "metadata": {},
   "outputs": [],
   "source": [
    "plot_side(\n",
    "    np.mean(y[rpl35_prom_ids], axis=0),\n",
    "    ylim=[-24, 16],\n",
    "    yticks=[0, -24],\n",
    "    pic_name=\"img/ensemble_rpl35_prom_expt.pdf\"\n",
    ")"
   ]
  },
  {
   "cell_type": "code",
   "execution_count": 27,
   "metadata": {},
   "outputs": [],
   "source": [
    "plot_side(\n",
    "    np.mean(y_pred_scaled[rpl35_prom_ids], axis=0),\n",
    "    ylim=[-6, 4],\n",
    "    yticks=[0, -6],\n",
    "    pic_name=\"img/ensemble_rpl35_prom_pred.pdf\"\n",
    ")"
   ]
  },
  {
   "cell_type": "code",
   "execution_count": 28,
   "metadata": {},
   "outputs": [],
   "source": [
    "plot_side(\n",
    "    np.mean(y[irf1_prom_ids], axis=0),\n",
    "    ylim=[-180, 18],\n",
    "    yticks=[0, -180],\n",
    "    pic_name=\"img/ensemble_irf1_prom_expt.pdf\"\n",
    ")"
   ]
  },
  {
   "cell_type": "code",
   "execution_count": 29,
   "metadata": {},
   "outputs": [],
   "source": [
    "plot_side(\n",
    "    np.mean(y_pred_scaled[irf1_prom_ids], axis=0),\n",
    "    ylim=[-40, 4],\n",
    "    yticks=[0, -40],\n",
    "    pic_name=\"img/ensemble_irf1_prom_pred.pdf\"\n",
    ")"
   ]
  },
  {
   "cell_type": "code",
   "execution_count": 30,
   "metadata": {},
   "outputs": [],
   "source": [
    "plot_side(\n",
    "    np.mean(y[irf7_prom_ids], axis=0),\n",
    "    ylim=[-60, 6],\n",
    "    yticks=[0, -60],\n",
    "    pic_name=\"img/ensemble_irf7_prom_expt.pdf\"\n",
    ")"
   ]
  },
  {
   "cell_type": "code",
   "execution_count": 31,
   "metadata": {},
   "outputs": [],
   "source": [
    "plot_side(\n",
    "    np.mean(y_pred_scaled[irf7_prom_ids], axis=0),\n",
    "    ylim=[-20, 2],\n",
    "    yticks=[0, -20],\n",
    "    pic_name=\"img/ensemble_irf7_prom_pred.pdf\"\n",
    ")"
   ]
  },
  {
   "cell_type": "code",
   "execution_count": 32,
   "metadata": {},
   "outputs": [],
   "source": [
    "plot_side(\n",
    "    np.mean(y[irf8_prom_ids], axis=0),\n",
    "    ylim=[-10, 15],\n",
    "    yticks=[0, 15],\n",
    "    pic_name=\"img/ensemble_irf8_prom_expt.pdf\"\n",
    ")"
   ]
  },
  {
   "cell_type": "code",
   "execution_count": 33,
   "metadata": {},
   "outputs": [],
   "source": [
    "plot_side(\n",
    "    np.mean(y_pred_scaled[irf8_prom_ids], axis=0),\n",
    "    ylim=[-10, 15],\n",
    "    yticks=[0, 15],\n",
    "    pic_name=\"img/ensemble_irf8_prom_pred.pdf\"\n",
    ")"
   ]
  }
 ],
 "metadata": {
  "kernelspec": {
   "display_name": "tf_dev",
   "language": "python",
   "name": "python3"
  },
  "language_info": {
   "codemirror_mode": {
    "name": "ipython",
    "version": 3
   },
   "file_extension": ".py",
   "mimetype": "text/x-python",
   "name": "python",
   "nbconvert_exporter": "python",
   "pygments_lexer": "ipython3",
   "version": "3.12.0"
  },
  "orig_nbformat": 4,
  "vscode": {
   "interpreter": {
    "hash": "0dc70fb9079410f02c3609bf83a3278b2bbb4ee241371158723a3b8049f030e4"
   }
  }
 },
 "nbformat": 4,
 "nbformat_minor": 2
}
