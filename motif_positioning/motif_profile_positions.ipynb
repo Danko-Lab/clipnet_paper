{
 "cells": [
  {
   "cell_type": "code",
   "execution_count": 1,
   "metadata": {},
   "outputs": [
    {
     "data": {
      "text/plain": [
       "'\\nThis notebook plots the positions of profile motifs calls relative to the TSS.\\nWe mostly use this to identify the locations of core promoter motifs (Fig. 6B).\\n'"
      ]
     },
     "execution_count": 1,
     "metadata": {},
     "output_type": "execute_result"
    }
   ],
   "source": [
    "\"\"\"\n",
    "This notebook plots the positions of profile motifs calls relative to the TSS.\n",
    "We mostly use this to identify the locations of core promoter motifs (Fig. 6B).\n",
    "\"\"\""
   ]
  },
  {
   "cell_type": "code",
   "execution_count": 2,
   "metadata": {},
   "outputs": [],
   "source": [
    "import numpy as np\n",
    "import pandas as pd\n",
    "import seaborn as sns\n",
    "import matplotlib.pyplot as plt\n",
    "from pathlib import Path\n",
    "import tqdm"
   ]
  },
  {
   "cell_type": "code",
   "execution_count": 3,
   "metadata": {},
   "outputs": [
    {
     "name": "stdout",
     "output_type": "stream",
     "text": [
      "wget https://zenodo.org/records/10597358/files/tfmodisco_results.tar.gz -P /Users/adamhe/github/scratch\n",
      "tar -xvzf /Users/adamhe/github/scratch/tfmodisco_results.tar.gz -C /Users/adamhe/github/scratch\n",
      "wget https://zenodo.org/records/10597358/files/profile_annotated_seqlets_full_cleaned.bed.gz -P /Users/adamhe/github/scratch\n"
     ]
    }
   ],
   "source": [
    "# PRINT COMMANDS TO DOWNLOAD AND EXTRACT DATA\n",
    "\n",
    "# Set scratch to where you want to download data to\n",
    "SCRATCH = \"/Users/adamhe/github/scratch\"\n",
    "\n",
    "# Extract window coordinates & observed PRO-cap tracks from tfmodisco_results.tar.gz\n",
    "URL = \"https://zenodo.org/records/10597358/files\"\n",
    "TAR = \"tfmodisco_results.tar.gz\"\n",
    "print(f\"wget {URL}/{TAR} -P {SCRATCH}\")\n",
    "print(f\"tar -xvzf {SCRATCH}/{TAR} -C {SCRATCH}\")\n",
    "\n",
    "# Download quantity motif calls\n",
    "print(f\"wget {URL}/profile_annotated_seqlets_full_cleaned.bed.gz -P {SCRATCH}\")"
   ]
  },
  {
   "cell_type": "code",
   "execution_count": 4,
   "metadata": {},
   "outputs": [],
   "source": [
    "# LOAD DATA\n",
    "\n",
    "# Read in windows around PRO-cap peaks in LCLs\n",
    "all_bed = pd.read_csv(\n",
    "    Path(SCRATCH, \"tfmodisco_results/merged_windows_all.bed.gz\"), sep=\"\\t\", header=None, names=[\"chrom\", \"start\", \"end\"]\n",
    ")\n",
    "# Load the experimental data:\n",
    "signals = pd.read_csv(\n",
    "    Path(SCRATCH, \"tfmodisco_results/all_tss_windows_procap_mean.csv.gz\"), header=None, index_col=0\n",
    ").to_numpy()\n",
    "signals = signals[:, np.r_[250:750, 1250:1750]]"
   ]
  },
  {
   "cell_type": "code",
   "execution_count": 5,
   "metadata": {},
   "outputs": [
    {
     "data": {
      "text/plain": [
       "{'TBP': 74654,\n",
       " 'NFY': 19756,\n",
       " 'CA': 95428,\n",
       " 'SP/KLF': 31933,\n",
       " 'TA': 23545,\n",
       " 'ETS': 59373,\n",
       " 'DPR': 48096,\n",
       " 'YY1': 32166,\n",
       " 'IRF': 29433,\n",
       " 'NRF1': 19323}"
      ]
     },
     "execution_count": 5,
     "metadata": {},
     "output_type": "execute_result"
    }
   ],
   "source": [
    "# Load the motif calls\n",
    "all_motifs = pd.read_csv(\n",
    "    Path(SCRATCH, \"profile_annotated_seqlets.bed.gz\"),\n",
    "    sep=\"\\t\",\n",
    "    header=None,\n",
    "    names=[\"chrom\", \"start\", \"end\", \"peak_idx\", \"motif\"]\n",
    ")\n",
    "\n",
    "# Print motif counts\n",
    "{\n",
    "    prefix: len(all_motifs[all_motifs.motif.str.startswith(prefix)])\n",
    "    for prefix in [motif.split(\"-\")[0] for motif in all_motifs.motif.unique()]\n",
    "}"
   ]
  },
  {
   "cell_type": "code",
   "execution_count": 6,
   "metadata": {},
   "outputs": [],
   "source": [
    "# Get TSS coordinates\n",
    "\n",
    "tss = signals.argmax(axis=1)\n",
    "is_mn = tss >= 500\n",
    "tss_df = pd.DataFrame(\n",
    "    {\n",
    "        \"tss\": tss,\n",
    "        \"is_mn\": is_mn,\n",
    "    }\n",
    ")\n",
    "# Subtract 500 from tss if is_mn\n",
    "tss_df[\"tss\"] = tss_df[\"tss\"].apply(lambda x: x - 500 if x >= 500 else x) + 250"
   ]
  },
  {
   "cell_type": "code",
   "execution_count": 20,
   "metadata": {},
   "outputs": [
    {
     "name": "stderr",
     "output_type": "stream",
     "text": [
      "32166it [00:01, 23674.86it/s]\n"
     ]
    },
    {
     "data": {
      "image/png": "[encoded data removed]",
      "text/plain": [
       "<Figure size 500x100 with 1 Axes>"
      ]
     },
     "metadata": {},
     "output_type": "display_data"
    }
   ],
   "source": [
    "# Get motif positions\n",
    "motif_name = \"YY1\"\n",
    "hits = all_motifs[all_motifs[\"motif\"].str.startswith(motif_name)]\n",
    "motif_positions = []\n",
    "for i, hit in tqdm.tqdm(hits.iterrows()):\n",
    "    peak_idx = hit[\"peak_idx\"]\n",
    "    tss_coord = tss_df[\"tss\"].iloc[peak_idx] + all_bed.iloc[peak_idx][\"start\"]\n",
    "    motif_center = (hit[\"end\"] + hit[\"start\"]) // 2\n",
    "    tss_strand = tss_df[\"is_mn\"].iloc[peak_idx]\n",
    "    motif_positions.append(tss_coord - motif_center if tss_strand else motif_center - tss_coord)\n",
    "\n",
    "# Set image parameters\n",
    "xticks = [-200, -100, -50, 0, 50, 100, 200]\n",
    "plt.rcParams[\"figure.figsize\"] = 5,1\n",
    "fig, (ax) = plt.subplots(nrows = 1, sharex = True)\n",
    "\n",
    "# Plot\n",
    "#sns.kdeplot(motif_positions, bw_adjust=0.5)\n",
    "sns.histplot(motif_positions, binwidth=5, edgecolor='None')\n",
    "ax.set_xlim(-250, 250)\n",
    "ax.set_xticks(xticks)\n",
    "plt.savefig(f\"img_profile/{motif_name.replace(\"/\", \"\")}_hist.pdf\", bbox_inches=\"tight\")"
   ]
  },
  {
   "cell_type": "code",
   "execution_count": null,
   "metadata": {},
   "outputs": [],
   "source": []
  }
 ],
 "metadata": {
  "kernelspec": {
   "display_name": "shap",
   "language": "python",
   "name": "python3"
  },
  "language_info": {
   "codemirror_mode": {
    "name": "ipython",
    "version": 3
   },
   "file_extension": ".py",
   "mimetype": "text/x-python",
   "name": "python",
   "nbconvert_exporter": "python",
   "pygments_lexer": "ipython3",
   "version": "3.12.0"
  },
  "orig_nbformat": 4
 },
 "nbformat": 4,
 "nbformat_minor": 2
}
