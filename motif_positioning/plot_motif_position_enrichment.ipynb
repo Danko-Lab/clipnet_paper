{
 "cells": [
  {
   "cell_type": "code",
   "execution_count": 31,
   "metadata": {},
   "outputs": [],
   "source": [
    "import pandas as pd\n",
    "import seaborn as sns\n",
    "import matplotlib.pyplot as plt"
   ]
  },
  {
   "cell_type": "code",
   "execution_count": 38,
   "metadata": {},
   "outputs": [],
   "source": [
    "# Values derived using motif_position_enrichment.py\n",
    "\n",
    "data = {\n",
    "    \"(-100, -40)\": {'NRF1': 10000, 'ZNF76': 0, 'THAP': 0, 'NFY': 0, 'CA': 10000, 'IRF': 1, 'TA': 10000, 'TFEC': 0, 'ETS': 0, 'POU': 0, 'SP/KLF': 0, 'TBP': 10000, 'DPR': 10000, 'CTCF': 15, 'CREB': 0, 'NFKB2': 0, 'YY1': 10000, 'ZBTB33': 0},\n",
    "    \"(-30, -20)\": {'NRF1': 10000, 'ZNF76': 6535, 'THAP': 9998, 'NFY': 10000, 'CA': 10000, 'IRF': 10000, 'TA': 214, 'TFEC': 27, 'ETS': 10000, 'POU': 9573, 'SP/KLF': 10000, 'TBP': 0, 'DPR': 10000, 'CTCF': 10000, 'CREB': 0, 'NFKB2': 2146, 'YY1': 10000, 'ZBTB33': 1915},\n",
    "    \"(-5, 5)\": {'SP/KLF': 10000, 'NRF1': 10000, 'IRF': 10000, 'YY1': 0, 'ETS': 10000, 'DPR': 10000, 'TA': 0, 'CA': 0, 'TBP': 7967, 'NFY': 10000},\n",
    "    \"(20, 30)\": {'NRF1': 0, 'ZNF76': 0, 'THAP': 5428, 'NFY': 10000, 'CA': 10000, 'IRF': 10000, 'TA': 10000, 'TFEC': 856, 'ETS': 10000, 'POU': 10000, 'SP/KLF': 10000, 'TBP': 9553, 'DPR': 0, 'CTCF': 0, 'CREB': 10000, 'NFKB2': 9954, 'YY1': 0, 'ZBTB33': 0},\n",
    "    \"(40, 50)\": {'NRF1': 0, 'ZNF76': 4, 'THAP': 7521, 'NFY': 10000, 'CA': 10000, 'IRF': 10000, 'TA': 10000, 'TFEC': 1888, 'ETS': 10000, 'POU': 10000, 'SP/KLF': 10000, 'TBP': 7098, 'DPR': 0, 'CTCF': 0, 'CREB': 10000, 'NFKB2': 10000, 'YY1': 10000, 'ZBTB33': 0},\n",
    "}\n",
    "p = pd.DataFrame(data) / 10000\n",
    "p = p.loc[[\"SP/KLF\", \"IRF\", \"ETS\", \"TBP\", \"CA\", \"DPR\"]]"
   ]
  },
  {
   "cell_type": "code",
   "execution_count": 39,
   "metadata": {},
   "outputs": [
    {
     "data": {
      "text/html": [
       "<div>\n",
       "<style scoped>\n",
       "    .dataframe tbody tr th:only-of-type {\n",
       "        vertical-align: middle;\n",
       "    }\n",
       "\n",
       "    .dataframe tbody tr th {\n",
       "        vertical-align: top;\n",
       "    }\n",
       "\n",
       "    .dataframe thead th {\n",
       "        text-align: right;\n",
       "    }\n",
       "</style>\n",
       "<table border=\"1\" class=\"dataframe\">\n",
       "  <thead>\n",
       "    <tr style=\"text-align: right;\">\n",
       "      <th></th>\n",
       "      <th>(-100, -40)</th>\n",
       "      <th>(-30, -20)</th>\n",
       "      <th>(-5, 5)</th>\n",
       "      <th>(20, 30)</th>\n",
       "      <th>(40, 50)</th>\n",
       "    </tr>\n",
       "  </thead>\n",
       "  <tbody>\n",
       "    <tr>\n",
       "      <th>SP/KLF</th>\n",
       "      <td>0.0000</td>\n",
       "      <td>1.0</td>\n",
       "      <td>1.0000</td>\n",
       "      <td>1.0000</td>\n",
       "      <td>1.0000</td>\n",
       "    </tr>\n",
       "    <tr>\n",
       "      <th>IRF</th>\n",
       "      <td>0.0001</td>\n",
       "      <td>1.0</td>\n",
       "      <td>1.0000</td>\n",
       "      <td>1.0000</td>\n",
       "      <td>1.0000</td>\n",
       "    </tr>\n",
       "    <tr>\n",
       "      <th>ETS</th>\n",
       "      <td>0.0000</td>\n",
       "      <td>1.0</td>\n",
       "      <td>1.0000</td>\n",
       "      <td>1.0000</td>\n",
       "      <td>1.0000</td>\n",
       "    </tr>\n",
       "    <tr>\n",
       "      <th>TBP</th>\n",
       "      <td>1.0000</td>\n",
       "      <td>0.0</td>\n",
       "      <td>0.7967</td>\n",
       "      <td>0.9553</td>\n",
       "      <td>0.7098</td>\n",
       "    </tr>\n",
       "    <tr>\n",
       "      <th>CA</th>\n",
       "      <td>1.0000</td>\n",
       "      <td>1.0</td>\n",
       "      <td>0.0000</td>\n",
       "      <td>1.0000</td>\n",
       "      <td>1.0000</td>\n",
       "    </tr>\n",
       "    <tr>\n",
       "      <th>DPR</th>\n",
       "      <td>1.0000</td>\n",
       "      <td>1.0</td>\n",
       "      <td>1.0000</td>\n",
       "      <td>0.0000</td>\n",
       "      <td>0.0000</td>\n",
       "    </tr>\n",
       "  </tbody>\n",
       "</table>\n",
       "</div>"
      ],
      "text/plain": [
       "        (-100, -40)  (-30, -20)  (-5, 5)  (20, 30)  (40, 50)\n",
       "SP/KLF       0.0000         1.0   1.0000    1.0000    1.0000\n",
       "IRF          0.0001         1.0   1.0000    1.0000    1.0000\n",
       "ETS          0.0000         1.0   1.0000    1.0000    1.0000\n",
       "TBP          1.0000         0.0   0.7967    0.9553    0.7098\n",
       "CA           1.0000         1.0   0.0000    1.0000    1.0000\n",
       "DPR          1.0000         1.0   1.0000    0.0000    0.0000"
      ]
     },
     "execution_count": 39,
     "metadata": {},
     "output_type": "execute_result"
    }
   ],
   "source": [
    "p"
   ]
  },
  {
   "cell_type": "code",
   "execution_count": 34,
   "metadata": {},
   "outputs": [
    {
     "data": {
      "image/png": "[encoded data removed]",
      "text/plain": [
       "<Figure size 640x480 with 2 Axes>"
      ]
     },
     "metadata": {},
     "output_type": "display_data"
    }
   ],
   "source": [
    "sns.heatmap(p, linewidth=1, cmap=\"Greys_r\")\n",
    "plt.yticks(rotation=0)\n",
    "plt.savefig(\"img/motif_position_enrichment.pdf\", bbox_inches=\"tight\")"
   ]
  },
  {
   "cell_type": "code",
   "execution_count": null,
   "metadata": {},
   "outputs": [],
   "source": []
  }
 ],
 "metadata": {
  "kernelspec": {
   "display_name": "plt",
   "language": "python",
   "name": "python3"
  },
  "language_info": {
   "codemirror_mode": {
    "name": "ipython",
    "version": 3
   },
   "file_extension": ".py",
   "mimetype": "text/x-python",
   "name": "python",
   "nbconvert_exporter": "python",
   "pygments_lexer": "ipython3",
   "version": "3.13.3"
  }
 },
 "nbformat": 4,
 "nbformat_minor": 2
}
