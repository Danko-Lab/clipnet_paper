{
 "cells": [
  {
   "cell_type": "code",
   "execution_count": 1,
   "metadata": {},
   "outputs": [
    {
     "data": {
      "text/plain": [
       "'\\nThis notebook plots the positions of quantity motif calls relative to the TSS.\\nWe mostly use this to identify the locations of activator motifs (Fig. 6B).\\n'"
      ]
     },
     "execution_count": 1,
     "metadata": {},
     "output_type": "execute_result"
    }
   ],
   "source": [
    "\"\"\"\n",
    "This notebook plots the positions of quantity motif calls relative to the TSS.\n",
    "We mostly use this to identify the locations of activator motifs (Fig. 6B).\n",
    "\"\"\""
   ]
  },
  {
   "cell_type": "code",
   "execution_count": 2,
   "metadata": {},
   "outputs": [],
   "source": [
    "import numpy as np\n",
    "import pandas as pd\n",
    "import seaborn as sns\n",
    "import matplotlib.pyplot as plt\n",
    "from pathlib import Path\n",
    "import tqdm"
   ]
  },
  {
   "cell_type": "code",
   "execution_count": 3,
   "metadata": {},
   "outputs": [
    {
     "name": "stdout",
     "output_type": "stream",
     "text": [
      "wget https://zenodo.org/records/10597358/files/tfmodisco_results.tar.gz -P /Users/adamhe/github/scratch\n",
      "tar -xvzf /Users/adamhe/github/scratch/tfmodisco_results.tar.gz -C /Users/adamhe/github/scratch\n",
      "wget https://zenodo.org/records/10597358/files/quantity_annotated_seqlets_full_cleaned.bed.gz -P /Users/adamhe/github/scratch\n"
     ]
    }
   ],
   "source": [
    "# PRINT COMMANDS TO DOWNLOAD AND EXTRACT DATA\n",
    "\n",
    "# Set scratch to where you want to download data to\n",
    "SCRATCH = \"/Users/adamhe/github/scratch\"\n",
    "\n",
    "# Extract window coordinates & observed PRO-cap tracks from tfmodisco_results.tar.gz\n",
    "URL = \"https://zenodo.org/records/10597358/files\"\n",
    "TAR = \"tfmodisco_results.tar.gz\"\n",
    "print(f\"wget {URL}/{TAR} -P {SCRATCH}\")\n",
    "print(f\"tar -xvzf {SCRATCH}/{TAR} -C {SCRATCH}\")\n",
    "\n",
    "# Download quantity motif calls\n",
    "print(f\"wget {URL}/quantity_annotated_seqlets_full_cleaned.bed.gz -P {SCRATCH}\")"
   ]
  },
  {
   "cell_type": "code",
   "execution_count": 4,
   "metadata": {},
   "outputs": [],
   "source": [
    "# LOAD DATA\n",
    "\n",
    "# Read in windows around PRO-cap peaks in LCLs\n",
    "all_bed = pd.read_csv(\n",
    "    Path(SCRATCH, \"tfmodisco_results/merged_windows_all.bed.gz\"),\n",
    "    sep=\"\\t\",\n",
    "    header=None,\n",
    "    names=[\"chrom\", \"start\", \"end\"],\n",
    ")\n",
    "# Load the experimental data:\n",
    "signals = pd.read_csv(\n",
    "    Path(SCRATCH, \"tfmodisco_results/all_tss_windows_procap_mean.csv.gz\"),\n",
    "    header=None,\n",
    "    index_col=0,\n",
    ").to_numpy()\n",
    "signals = signals[:, np.r_[250:750, 1250:1750]]"
   ]
  },
  {
   "cell_type": "code",
   "execution_count": 5,
   "metadata": {},
   "outputs": [
    {
     "data": {
      "text/plain": [
       "{'ETS': 178061,\n",
       " 'SP/KLF': 148873,\n",
       " 'NFY': 17793,\n",
       " 'NRF1': 54866,\n",
       " 'YY1': 15891,\n",
       " 'CREB': 20224,\n",
       " 'CA': 29290,\n",
       " 'IRF': 37179,\n",
       " 'CTCF': 20255,\n",
       " 'TFEC': 9279,\n",
       " 'THAP': 8725,\n",
       " 'TBP': 8854,\n",
       " 'ZBTB33': 7738,\n",
       " 'POU': 3811,\n",
       " 'ZNF76': 2696,\n",
       " 'NFKB2': 2039}"
      ]
     },
     "execution_count": 5,
     "metadata": {},
     "output_type": "execute_result"
    }
   ],
   "source": [
    "# Load the motif calls\n",
    "all_motifs = pd.read_csv(\n",
    "    Path(SCRATCH, \"quantity_annotated_seqlets.bed.gz\"),\n",
    "    sep=\"\\t\",\n",
    "    header=None,\n",
    "    names=[\"chrom\", \"start\", \"end\", \"peak_idx\", \"motif\"]\n",
    ")\n",
    "\n",
    "# Print motif counts\n",
    "{\n",
    "    prefix: len(all_motifs[all_motifs.motif.str.startswith(prefix)])\n",
    "    for prefix in [motif.split(\"-\")[0] for motif in all_motifs.motif.unique()]\n",
    "}"
   ]
  },
  {
   "cell_type": "code",
   "execution_count": 6,
   "metadata": {},
   "outputs": [],
   "source": [
    "# Get TSS coordinates\n",
    "tss = signals.argmax(axis=1)\n",
    "is_mn = tss >= 500\n",
    "tss_df = pd.DataFrame(\n",
    "    {\n",
    "        \"tss\": tss,\n",
    "        \"is_mn\": is_mn,\n",
    "    }\n",
    ")\n",
    "# Subtract 500 from tss if is_mn\n",
    "tss_df[\"tss\"] = tss_df[\"tss\"].apply(lambda x: x - 500 if x >= 500 else x) + 250"
   ]
  },
  {
   "cell_type": "code",
   "execution_count": 7,
   "metadata": {},
   "outputs": [
    {
     "name": "stderr",
     "output_type": "stream",
     "text": [
      "565574it [00:26, 21330.92it/s]\n"
     ]
    }
   ],
   "source": [
    "motif_positions = []\n",
    "for i, hit in tqdm.tqdm(all_motifs.iterrows()):\n",
    "    peak_idx = hit[\"peak_idx\"]\n",
    "    tss_coord = tss_df[\"tss\"].iloc[peak_idx] + all_bed.iloc[peak_idx][\"start\"]\n",
    "    motif_center = (hit[\"end\"] + hit[\"start\"]) // 2\n",
    "    tss_strand = tss_df[\"is_mn\"].iloc[peak_idx]\n",
    "    motif_positions.append(\n",
    "        tss_coord - motif_center if tss_strand else motif_center - tss_coord\n",
    "    )\n",
    "\n",
    "all_motifs[\"distance_from_tss\"] = motif_positions"
   ]
  },
  {
   "cell_type": "code",
   "execution_count": 13,
   "metadata": {},
   "outputs": [
    {
     "data": {
      "text/plain": [
       "[<matplotlib.axis.XTick at 0x1517ccc80>,\n",
       " <matplotlib.axis.XTick at 0x1543f66c0>,\n",
       " <matplotlib.axis.XTick at 0x14017b170>,\n",
       " <matplotlib.axis.XTick at 0x140097ec0>,\n",
       " <matplotlib.axis.XTick at 0x1401f64b0>,\n",
       " <matplotlib.axis.XTick at 0x1401f6de0>,\n",
       " <matplotlib.axis.XTick at 0x1401ba8a0>]"
      ]
     },
     "execution_count": 13,
     "metadata": {},
     "output_type": "execute_result"
    },
    {
     "data": {
      "image/png": "[encoded data removed]",
      "text/plain": [
       "<Figure size 500x100 with 1 Axes>"
      ]
     },
     "metadata": {},
     "output_type": "display_data"
    }
   ],
   "source": [
    "# Get motif positions\n",
    "motif_name = \"IRF\"\n",
    "motif_positions = all_motifs[\n",
    "    all_motifs.motif.str.startswith(motif_name)\n",
    "][\"distance_from_tss\"]\n",
    "\n",
    "# Set image parameters\n",
    "xticks = [-200, -100, -50, 0, 50, 100, 200]\n",
    "plt.rcParams[\"figure.figsize\"] = 5,1\n",
    "fig, (ax) = plt.subplots(nrows = 1, sharex = True)\n",
    "\n",
    "# Plot\n",
    "#sns.kdeplot(motif_positions, bw_adjust=0.5)\n",
    "sns.histplot(motif_positions, binwidth=5, edgecolor='None')\n",
    "ax.set_xlim(-250, 250)\n",
    "ax.set_xticks(xticks)\n",
    "#plt.savefig(\n",
    "#    f\"img_quantity/{motif_name.replace(\"/\", \"\")}_hist.pdf\",\n",
    "#    bbox_inches=\"tight\",\n",
    "#)"
   ]
  },
  {
   "cell_type": "code",
   "execution_count": 19,
   "metadata": {},
   "outputs": [
    {
     "data": {
      "text/plain": [
       "<Axes: ylabel='Count'>"
      ]
     },
     "execution_count": 19,
     "metadata": {},
     "output_type": "execute_result"
    },
    {
     "data": {
      "image/png": "[encoded data removed]",
      "text/plain": [
       "<Figure size 500x100 with 1 Axes>"
      ]
     },
     "metadata": {},
     "output_type": "display_data"
    }
   ],
   "source": [
    "irf = all_motifs[\n",
    "    all_motifs.motif.str.startswith(\"IRF\")\n",
    "]\n",
    "sns.histplot((irf.end - irf.start))"
   ]
  },
  {
   "cell_type": "code",
   "execution_count": 20,
   "metadata": {},
   "outputs": [
    {
     "ename": "AttributeError",
     "evalue": "'DataFrame' object has no attribute 'motif_prefix'",
     "output_type": "error",
     "traceback": [
      "\u001b[0;31m---------------------------------------------------------------------------\u001b[0m",
      "\u001b[0;31mAttributeError\u001b[0m                            Traceback (most recent call last)",
      "\u001b[0;32m/var/folders/sd/3462tpx12fbfxc_f8swcwyf40000gp/T/ipykernel_50198/3882917784.py\u001b[0m in \u001b[0;36m?\u001b[0;34m()\u001b[0m\n\u001b[1;32m      1\u001b[0m all_motifs[\n\u001b[1;32m      2\u001b[0m     \u001b[0;34m(\u001b[0m\u001b[0mall_motifs\u001b[0m\u001b[0;34m.\u001b[0m\u001b[0mdistance_from_tss\u001b[0m \u001b[0;34m<=\u001b[0m \u001b[0;34m-\u001b[0m\u001b[0;36m20\u001b[0m\u001b[0;34m)\u001b[0m \u001b[0;34m&\u001b[0m \u001b[0;34m(\u001b[0m\u001b[0mall_motifs\u001b[0m\u001b[0;34m.\u001b[0m\u001b[0mdistance_from_tss\u001b[0m \u001b[0;34m>=\u001b[0m \u001b[0;34m-\u001b[0m\u001b[0;36m30\u001b[0m\u001b[0;34m)\u001b[0m\u001b[0;34m\u001b[0m\u001b[0;34m\u001b[0m\u001b[0m\n\u001b[0;32m----> 3\u001b[0;31m \u001b[0;34m]\u001b[0m\u001b[0;34m.\u001b[0m\u001b[0mmotif_prefix\u001b[0m\u001b[0;34m.\u001b[0m\u001b[0mvalue_counts\u001b[0m\u001b[0;34m(\u001b[0m\u001b[0;34m)\u001b[0m\u001b[0;34m\u001b[0m\u001b[0;34m\u001b[0m\u001b[0m\n\u001b[0m",
      "\u001b[0;32m~/miniforge3/envs/plt/lib/python3.12/site-packages/pandas/core/generic.py\u001b[0m in \u001b[0;36m?\u001b[0;34m(self, name)\u001b[0m\n\u001b[1;32m   6200\u001b[0m             \u001b[0;32mand\u001b[0m \u001b[0mname\u001b[0m \u001b[0;32mnot\u001b[0m \u001b[0;32min\u001b[0m \u001b[0mself\u001b[0m\u001b[0;34m.\u001b[0m\u001b[0m_accessors\u001b[0m\u001b[0;34m\u001b[0m\u001b[0;34m\u001b[0m\u001b[0m\n\u001b[1;32m   6201\u001b[0m             \u001b[0;32mand\u001b[0m \u001b[0mself\u001b[0m\u001b[0;34m.\u001b[0m\u001b[0m_info_axis\u001b[0m\u001b[0;34m.\u001b[0m\u001b[0m_can_hold_identifiers_and_holds_name\u001b[0m\u001b[0;34m(\u001b[0m\u001b[0mname\u001b[0m\u001b[0;34m)\u001b[0m\u001b[0;34m\u001b[0m\u001b[0;34m\u001b[0m\u001b[0m\n\u001b[1;32m   6202\u001b[0m         \u001b[0;34m)\u001b[0m\u001b[0;34m:\u001b[0m\u001b[0;34m\u001b[0m\u001b[0;34m\u001b[0m\u001b[0m\n\u001b[1;32m   6203\u001b[0m             \u001b[0;32mreturn\u001b[0m \u001b[0mself\u001b[0m\u001b[0;34m[\u001b[0m\u001b[0mname\u001b[0m\u001b[0;34m]\u001b[0m\u001b[0;34m\u001b[0m\u001b[0;34m\u001b[0m\u001b[0m\n\u001b[0;32m-> 6204\u001b[0;31m         \u001b[0;32mreturn\u001b[0m \u001b[0mobject\u001b[0m\u001b[0;34m.\u001b[0m\u001b[0m__getattribute__\u001b[0m\u001b[0;34m(\u001b[0m\u001b[0mself\u001b[0m\u001b[0;34m,\u001b[0m \u001b[0mname\u001b[0m\u001b[0;34m)\u001b[0m\u001b[0;34m\u001b[0m\u001b[0;34m\u001b[0m\u001b[0m\n\u001b[0m",
      "\u001b[0;31mAttributeError\u001b[0m: 'DataFrame' object has no attribute 'motif_prefix'"
     ]
    }
   ],
   "source": [
    "all_motifs[\n",
    "    (all_motifs.distance_from_tss <= -20) & (all_motifs.distance_from_tss >= -30)\n",
    "].motif_prefix.value_counts()"
   ]
  },
  {
   "cell_type": "code",
   "execution_count": 11,
   "metadata": {},
   "outputs": [
    {
     "data": {
      "text/plain": [
       "motif\n",
       "CA-Inr-3    5291\n",
       "CA-Inr-5    4036\n",
       "IRF-1       3884\n",
       "ETS-4       3318\n",
       "CA-Inr-1    3171\n",
       "CA-Inr-2    2678\n",
       "CA-Inr-0    2631\n",
       "ETS-0       2198\n",
       "NRF1-0      1773\n",
       "YY1-0       1454\n",
       "ETS-1       1430\n",
       "SP/KLF-1    1295\n",
       "CTCF-1      1274\n",
       "ETS-3        944\n",
       "SP/KLF-0     938\n",
       "IRF          633\n",
       "CREB-1       628\n",
       "CTCF-0       537\n",
       "TFEC-0       419\n",
       "NRF1-2       383\n",
       "ETS-2        359\n",
       "THAP-1       359\n",
       "TBP-2        297\n",
       "ZNF76        281\n",
       "IRF-3        270\n",
       "TBP-3        243\n",
       "ZBTB33       239\n",
       "NRF1-1       235\n",
       "THAP-2       228\n",
       "TBP-1        220\n",
       "NFY          218\n",
       "POU          203\n",
       "CREB         192\n",
       "TFEC-1       114\n",
       "SP/KLF       112\n",
       "YY1-1         83\n",
       "IRF-4         64\n",
       "CA-Inr-4      55\n",
       "TBP-0         54\n",
       "THAP-0        31\n",
       "ZNF76-0       24\n",
       "NFKB2         24\n",
       "Name: count, dtype: int64"
      ]
     },
     "execution_count": 11,
     "metadata": {},
     "output_type": "execute_result"
    }
   ],
   "source": [
    "all_motifs[\n",
    "    (all_motifs.distance_from_tss <= +5) & (all_motifs.distance_from_tss >= -5)\n",
    "].motif.value_counts()"
   ]
  },
  {
   "cell_type": "code",
   "execution_count": null,
   "metadata": {},
   "outputs": [],
   "source": []
  }
 ],
 "metadata": {
  "kernelspec": {
   "display_name": "shap",
   "language": "python",
   "name": "python3"
  },
  "language_info": {
   "codemirror_mode": {
    "name": "ipython",
    "version": 3
   },
   "file_extension": ".py",
   "mimetype": "text/x-python",
   "name": "python",
   "nbconvert_exporter": "python",
   "pygments_lexer": "ipython3",
   "version": "3.12.0"
  },
  "orig_nbformat": 4
 },
 "nbformat": 4,
 "nbformat_minor": 2
}
