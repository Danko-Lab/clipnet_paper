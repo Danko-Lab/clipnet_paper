{
 "cells": [
  {
   "cell_type": "code",
   "execution_count": 1,
   "metadata": {},
   "outputs": [],
   "source": [
    "import numpy as np\n",
    "import pandas as pd\n",
    "import matplotlib.pyplot as plt\n",
    "import gzip\n",
    "from Bio import PDB, Seq\n",
    "from Bio.SeqUtils import seq3\n",
    "from sklearn.metrics.pairwise import euclidean_distances"
   ]
  },
  {
   "cell_type": "code",
   "execution_count": 3,
   "metadata": {},
   "outputs": [
    {
     "name": "stdout",
     "output_type": "stream",
     "text": [
      "['0', '1', '2', '3', '4', '5', '6', '7', '8', '9', 'A', 'B', 'D', 'E', 'F', 'G', 'H', 'I', 'J', 'L', 'O', 'P', 'Q', 'R', 'S', 'T', 'U', 'V', 'X', 'Y', 'c', 'd', 'e', 'f', 'i', 'j', 'k', 'l', 'm', 'o', 'p', 'q', 'r', 's', 't', 'u', 'v', 'w', 'x', 'y', 'z']\n"
     ]
    }
   ],
   "source": [
    "# Read in pdb file and get list of chains\n",
    "\n",
    "pic_fp = \"pdb/7egb.cif.gz\"\n",
    "\n",
    "with gzip.open(pic_fp, 'rt') as f:\n",
    "    parse=PDB.MMCIFParser(QUIET=True)\n",
    "    pic=parse.get_structure(\"pic\", f)\n",
    "    chain_ids = [chain.get_id() for chain in pic[0]]\n",
    "\n",
    "print(chain_ids)"
   ]
  },
  {
   "cell_type": "code",
   "execution_count": 7,
   "metadata": {},
   "outputs": [
    {
     "name": "stdout",
     "output_type": "stream",
     "text": [
      "AAGGGCGCCTATAAAAGGGGGTGGGGGCGCGTTCGTCCTCAGTCGCGATCGAACACTCGAGCCGAGCAG\n"
     ]
    }
   ],
   "source": [
    "template = Seq.Seq(\"CTGCTCGGCTCGAGTGTTCGATCGCGACTGAGGACGAACGCGCCCCCACCCCCTTTTATAGGCGCCCTT\").reverse_complement()\n",
    "print(template)"
   ]
  },
  {
   "cell_type": "code",
   "execution_count": 8,
   "metadata": {},
   "outputs": [],
   "source": [
    "# Extract template and nontemplate strands from pdb file\n",
    "\n",
    "template_structure = pic[0][\"X\"]\n",
    "nontemplate_structure = pic[0][\"Y\"]\n",
    "\n",
    "template_structure_seq = \"\".join(\n",
    "    [res.get_resname()[-1] for res in list(template_structure.get_residues())]\n",
    ")\n",
    "nontemplate_structure_seq = \"\".join(\n",
    "    [res.get_resname()[-1] for res in list(nontemplate_structure.get_residues())]\n",
    ")"
   ]
  },
  {
   "cell_type": "code",
   "execution_count": 9,
   "metadata": {},
   "outputs": [],
   "source": [
    "# Get coordinates of atoms for each residue in template and nontemplate strands\n",
    "\n",
    "template_coords = {}\n",
    "for i in range(len(template_structure_seq)):\n",
    "    residue = list(template_structure.get_residues())[i]\n",
    "    atoms_list = residue.get_atoms()\n",
    "    residue_coords = [atom.get_coord() for atom in atoms_list]\n",
    "    template_coords[i] = (residue.get_resname(), residue_coords)\n",
    "\n",
    "nontemplate_coords = {}\n",
    "for i in range(len(nontemplate_structure_seq)):\n",
    "    residue = list(nontemplate_structure.get_residues())[i]\n",
    "    atoms_list = residue.get_atoms()\n",
    "    residue_coords = [atom.get_coord() for atom in atoms_list]\n",
    "    nontemplate_coords[i] = (residue.get_resname(), residue_coords)"
   ]
  },
  {
   "cell_type": "code",
   "execution_count": 10,
   "metadata": {},
   "outputs": [],
   "source": [
    "# List of aa codes:\n",
    "ExtendedIUPACProtein = \"ACDEFGHIKLMNPQRSTVWYBXZJUO\"\n",
    "aa_3codes = set([seq3(aa).upper() for aa in ExtendedIUPACProtein])\n",
    "\n",
    "# Print residues in each chain:\n",
    "#for chain in pic[0]:\n",
    "#    print(set(res.get_resname() for res in chain.get_residues()))"
   ]
  },
  {
   "cell_type": "code",
   "execution_count": 11,
   "metadata": {},
   "outputs": [
    {
     "name": "stdout",
     "output_type": "stream",
     "text": [
      "Ignoring chain X because it is DNA.\n",
      "Ignoring chain Y because it is DNA.\n"
     ]
    }
   ],
   "source": [
    "# Get coordinates of all atoms in all polypeptide chains\n",
    "chains = [pic[0][chain_ids[i]] for i in range(len(chain_ids))]\n",
    "\n",
    "all_coords = []\n",
    "for chain in chains:\n",
    "    if len(set(res.get_resname() for res in chain.get_residues())) == 4:\n",
    "        print(f\"Ignoring chain {chain.get_id()} because it is DNA.\")\n",
    "        continue\n",
    "    else:\n",
    "        for residue in chain.get_residues():\n",
    "            for atom in residue.get_atoms():\n",
    "                all_coords.append(atom.get_coord())"
   ]
  },
  {
   "cell_type": "code",
   "execution_count": 12,
   "metadata": {},
   "outputs": [],
   "source": [
    "# For each point in template and nontemplate strands,\n",
    "# find the minimum distance to a polypeptide chains\n",
    "def min_euclidean_distance(arr1, arr2):\n",
    "    arr1 = np.array(arr1)\n",
    "    arr2 = np.array(arr2)\n",
    "    distances = euclidean_distances(arr1, arr2)\n",
    "    return np.min(distances)\n",
    "\n",
    "template_distances = [\n",
    "    min_euclidean_distance(template_coords[res][1], all_coords)\n",
    "    for res in template_coords\n",
    "]\n",
    "nontemplate_distances = [\n",
    "    min_euclidean_distance(nontemplate_coords[res][1], all_coords)\n",
    "    for res in nontemplate_coords\n",
    "]"
   ]
  },
  {
   "cell_type": "code",
   "execution_count": 13,
   "metadata": {},
   "outputs": [
    {
     "data": {
      "image/png": "[encoded data removed]",
      "text/plain": [
       "<Figure size 640x480 with 1 Axes>"
      ]
     },
     "metadata": {},
     "output_type": "display_data"
    }
   ],
   "source": [
    "df = pd.DataFrame(\n",
    "    {\n",
    "        \"template\": template_distances,\n",
    "        \"nontemplate\": nontemplate_distances,\n",
    "        \"ds\": np.array([template_distances, nontemplate_distances]).min(axis=0),\n",
    "    }\n",
    ")\n",
    "\n",
    "df.ds.plot(legend=False)\n",
    "#sns.lineplot(x=range(len(template_distances_gapped)), y=template_distances_gapped)\n",
    "plt.plot([9, 9], [0, df.max().iloc[0]], color=\"red\")\n",
    "plt.plot([17, 17], [0, df.max().iloc[0]], color=\"red\")\n",
    "#plt.plot([21, 21], [0, df.max().iloc[0]], color=\"pink\")\n",
    "#plt.plot([26, 26], [0, df.max().iloc[0]], color=\"pink\")\n",
    "plt.plot([38, 38], [0, df.max().iloc[0]], color=\"black\")\n",
    "plt.plot([44, 44], [0, df.max().iloc[0]], color=\"black\")\n",
    "plt.plot([47, 47], [0, df.max().iloc[0]], color=\"green\")\n",
    "plt.plot([73, 73], [0, df.max().iloc[0]], color=\"green\")\n",
    "plt.savefig(\"img/hpic_scp_distances.pdf\")"
   ]
  }
 ],
 "metadata": {
  "kernelspec": {
   "display_name": "plt",
   "language": "python",
   "name": "python3"
  },
  "language_info": {
   "codemirror_mode": {
    "name": "ipython",
    "version": 3
   },
   "file_extension": ".py",
   "mimetype": "text/x-python",
   "name": "python",
   "nbconvert_exporter": "python",
   "pygments_lexer": "ipython3",
   "version": "3.12.0"
  },
  "orig_nbformat": 4
 },
 "nbformat": 4,
 "nbformat_minor": 2
}
