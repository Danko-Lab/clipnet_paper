{
 "cells": [
  {
   "cell_type": "code",
   "execution_count": 1,
   "metadata": {},
   "outputs": [],
   "source": [
    "import seaborn as sns\n",
    "import matplotlib.pyplot as plt\n",
    "import numpy as np\n",
    "import pandas as pd"
   ]
  },
  {
   "cell_type": "code",
   "execution_count": 26,
   "metadata": {},
   "outputs": [],
   "source": [
    "rsq = pd.DataFrame(\n",
    "    {\n",
    "        \"rsq\": [0.665, 0.655, 0.82, 0.833] + [0.702, 0.797, 0.853, 0.886] + [0.704, 0.859, 0.886, 0.934] + [0.619, 0.699, 0.76, 0.799],\n",
    "        \"name\": [\"ifnar2\"] * 4 + [\"ints6\"] * 4 + [\"irf4\"] * 4 + [\"irf7\"] * 4,\n",
    "        \"linearity\": [True, False, True, False] * 4,\n",
    "        \"gpmap\": [\"additive\"] * 4 + [\"additive\"] * 4 + [\"pairwise\"] * 4 + [\"pairwise\"] * 4\n",
    "    }\n",
    ")"
   ]
  },
  {
   "cell_type": "code",
   "execution_count": 35,
   "metadata": {},
   "outputs": [],
   "source": [
    "rsq = pd.DataFrame(\n",
    "    {\n",
    "        \"ifnar2\": [0.665, 0.655, 0.82, 0.833],\n",
    "        \"ints6\": [0.702, 0.797, 0.853, 0.886],\n",
    "        \"irf4\": [0.704, 0.859, 0.886, 0.934],\n",
    "        \"irf7\": [0.619, 0.699, 0.76, 0.799],\n",
    "    }\n",
    ")\n",
    "rsq.index = [\"linear_additive\", \"nonlinear_additive\", \"linear_pairwise\", \"nonlinear_pairwise\"]"
   ]
  },
  {
   "cell_type": "code",
   "execution_count": 36,
   "metadata": {},
   "outputs": [
    {
     "data": {
      "text/html": [
       "<div>\n",
       "<style scoped>\n",
       "    .dataframe tbody tr th:only-of-type {\n",
       "        vertical-align: middle;\n",
       "    }\n",
       "\n",
       "    .dataframe tbody tr th {\n",
       "        vertical-align: top;\n",
       "    }\n",
       "\n",
       "    .dataframe thead th {\n",
       "        text-align: right;\n",
       "    }\n",
       "</style>\n",
       "<table border=\"1\" class=\"dataframe\">\n",
       "  <thead>\n",
       "    <tr style=\"text-align: right;\">\n",
       "      <th></th>\n",
       "      <th>ifnar2</th>\n",
       "      <th>ints6</th>\n",
       "      <th>irf4</th>\n",
       "      <th>irf7</th>\n",
       "    </tr>\n",
       "  </thead>\n",
       "  <tbody>\n",
       "    <tr>\n",
       "      <th>linear_additive</th>\n",
       "      <td>0.665</td>\n",
       "      <td>0.702</td>\n",
       "      <td>0.704</td>\n",
       "      <td>0.619</td>\n",
       "    </tr>\n",
       "    <tr>\n",
       "      <th>nonlinear_additive</th>\n",
       "      <td>0.655</td>\n",
       "      <td>0.797</td>\n",
       "      <td>0.859</td>\n",
       "      <td>0.699</td>\n",
       "    </tr>\n",
       "    <tr>\n",
       "      <th>linear_pairwise</th>\n",
       "      <td>0.820</td>\n",
       "      <td>0.853</td>\n",
       "      <td>0.886</td>\n",
       "      <td>0.760</td>\n",
       "    </tr>\n",
       "    <tr>\n",
       "      <th>nonlinear_pairwise</th>\n",
       "      <td>0.833</td>\n",
       "      <td>0.886</td>\n",
       "      <td>0.934</td>\n",
       "      <td>0.799</td>\n",
       "    </tr>\n",
       "  </tbody>\n",
       "</table>\n",
       "</div>"
      ],
      "text/plain": [
       "                    ifnar2  ints6   irf4   irf7\n",
       "linear_additive      0.665  0.702  0.704  0.619\n",
       "nonlinear_additive   0.655  0.797  0.859  0.699\n",
       "linear_pairwise      0.820  0.853  0.886  0.760\n",
       "nonlinear_pairwise   0.833  0.886  0.934  0.799"
      ]
     },
     "execution_count": 36,
     "metadata": {},
     "output_type": "execute_result"
    }
   ],
   "source": [
    "rsq"
   ]
  },
  {
   "cell_type": "code",
   "execution_count": 34,
   "metadata": {},
   "outputs": [
    {
     "data": {
      "text/plain": [
       "<Axes: xlabel='None', ylabel='ifnar2'>"
      ]
     },
     "execution_count": 34,
     "metadata": {},
     "output_type": "execute_result"
    },
    {
     "data": {
      "image/png": "[encoded data removed]",
      "text/plain": [
       "<Figure size 640x480 with 1 Axes>"
      ]
     },
     "metadata": {},
     "output_type": "display_data"
    }
   ],
   "source": [
    "sns.barplot(x=rsq.index, y=rsq[\"ifnar2\"])"
   ]
  },
  {
   "cell_type": "code",
   "execution_count": null,
   "metadata": {},
   "outputs": [],
   "source": []
  }
 ],
 "metadata": {
  "kernelspec": {
   "display_name": "plt",
   "language": "python",
   "name": "python3"
  },
  "language_info": {
   "codemirror_mode": {
    "name": "ipython",
    "version": 3
   },
   "file_extension": ".py",
   "mimetype": "text/x-python",
   "name": "python",
   "nbconvert_exporter": "python",
   "pygments_lexer": "ipython3",
   "version": "3.13.3"
  }
 },
 "nbformat": 4,
 "nbformat_minor": 2
}
