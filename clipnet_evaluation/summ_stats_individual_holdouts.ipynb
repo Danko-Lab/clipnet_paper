{
 "cells": [
  {
   "cell_type": "code",
   "execution_count": 2,
   "metadata": {},
   "outputs": [
    {
     "data": {
      "text/plain": [
       "'\\nThis notebook generates plots in Supplementary Fig. 1A of the paper.\\n'"
      ]
     },
     "execution_count": 2,
     "metadata": {},
     "output_type": "execute_result"
    }
   ],
   "source": [
    "\"\"\"\n",
    "This notebook generates plots in Supplementary Fig. 1B of the paper.\n",
    "\"\"\""
   ]
  },
  {
   "cell_type": "code",
   "execution_count": 3,
   "metadata": {},
   "outputs": [],
   "source": [
    "import matplotlib.pyplot as plt\n",
    "import pandas as pd\n",
    "import os"
   ]
  },
  {
   "cell_type": "code",
   "execution_count": 4,
   "metadata": {},
   "outputs": [
    {
     "name": "stdout",
     "output_type": "stream",
     "text": [
      "wget https://zenodo.org/records/10597358/files/evaluation_data.tar.gz -P /Users/adamhe/github/scratch\n",
      "tar -cvzf /Users/adamhe/github/scratch/evaluation_data.tar.gz\n"
     ]
    }
   ],
   "source": [
    "# PRINT COMMANDS TO DOWNLOAD AND EXTRACT DATA\n",
    "\n",
    "# Set scratch to where you want to download data to\n",
    "SCRATCH = \"/Users/adamhe/github/scratch\"\n",
    "\n",
    "URL = \"https://zenodo.org/records/10597358/files\"\n",
    "TAR = \"evaluation_data.tar.gz\"\n",
    "print(f\"wget {URL}/{TAR} -P {SCRATCH}\")\n",
    "print(f\"tar -cvzf {SCRATCH}/{TAR}\")"
   ]
  },
  {
   "cell_type": "code",
   "execution_count": 5,
   "metadata": {},
   "outputs": [
    {
     "data": {
      "text/html": [
       "<div>\n",
       "<style scoped>\n",
       "    .dataframe tbody tr th:only-of-type {\n",
       "        vertical-align: middle;\n",
       "    }\n",
       "\n",
       "    .dataframe tbody tr th {\n",
       "        vertical-align: top;\n",
       "    }\n",
       "\n",
       "    .dataframe thead th {\n",
       "        text-align: right;\n",
       "    }\n",
       "</style>\n",
       "<table border=\"1\" class=\"dataframe\">\n",
       "  <thead>\n",
       "    <tr style=\"text-align: right;\">\n",
       "      <th></th>\n",
       "      <th>median_track_pcc</th>\n",
       "      <th>tss_pcc</th>\n",
       "      <th>log_quantity_pcc</th>\n",
       "      <th>test_fold</th>\n",
       "      <th>test_chrom</th>\n",
       "      <th>val_fold</th>\n",
       "      <th>val_chrom</th>\n",
       "    </tr>\n",
       "  </thead>\n",
       "  <tbody>\n",
       "    <tr>\n",
       "      <th>1</th>\n",
       "      <td>0.686</td>\n",
       "      <td>0.760</td>\n",
       "      <td>0.587</td>\n",
       "      <td>1</td>\n",
       "      <td>5,7</td>\n",
       "      <td>2</td>\n",
       "      <td>12,11</td>\n",
       "    </tr>\n",
       "    <tr>\n",
       "      <th>2</th>\n",
       "      <td>0.689</td>\n",
       "      <td>0.760</td>\n",
       "      <td>0.592</td>\n",
       "      <td>2</td>\n",
       "      <td>12,11</td>\n",
       "      <td>3</td>\n",
       "      <td>14,15,18</td>\n",
       "    </tr>\n",
       "    <tr>\n",
       "      <th>3</th>\n",
       "      <td>0.657</td>\n",
       "      <td>0.705</td>\n",
       "      <td>0.585</td>\n",
       "      <td>3</td>\n",
       "      <td>14,15,18</td>\n",
       "      <td>4</td>\n",
       "      <td>1</td>\n",
       "    </tr>\n",
       "    <tr>\n",
       "      <th>4</th>\n",
       "      <td>0.670</td>\n",
       "      <td>0.745</td>\n",
       "      <td>0.576</td>\n",
       "      <td>4</td>\n",
       "      <td>1</td>\n",
       "      <td>5</td>\n",
       "      <td>2,22</td>\n",
       "    </tr>\n",
       "    <tr>\n",
       "      <th>5</th>\n",
       "      <td>0.653</td>\n",
       "      <td>0.736</td>\n",
       "      <td>0.573</td>\n",
       "      <td>5</td>\n",
       "      <td>2,22</td>\n",
       "      <td>6</td>\n",
       "      <td>4,6</td>\n",
       "    </tr>\n",
       "    <tr>\n",
       "      <th>6</th>\n",
       "      <td>0.666</td>\n",
       "      <td>0.710</td>\n",
       "      <td>0.567</td>\n",
       "      <td>6</td>\n",
       "      <td>4,6</td>\n",
       "      <td>7</td>\n",
       "      <td>3,16</td>\n",
       "    </tr>\n",
       "    <tr>\n",
       "      <th>7</th>\n",
       "      <td>0.633</td>\n",
       "      <td>0.744</td>\n",
       "      <td>0.551</td>\n",
       "      <td>7</td>\n",
       "      <td>3,16</td>\n",
       "      <td>8</td>\n",
       "      <td>19,10</td>\n",
       "    </tr>\n",
       "    <tr>\n",
       "      <th>8</th>\n",
       "      <td>0.644</td>\n",
       "      <td>0.705</td>\n",
       "      <td>0.475</td>\n",
       "      <td>8</td>\n",
       "      <td>19,10</td>\n",
       "      <td>9</td>\n",
       "      <td>17,8</td>\n",
       "    </tr>\n",
       "    <tr>\n",
       "      <th>9</th>\n",
       "      <td>0.659</td>\n",
       "      <td>0.751</td>\n",
       "      <td>0.492</td>\n",
       "      <td>9</td>\n",
       "      <td>17,8</td>\n",
       "      <td>1</td>\n",
       "      <td>5,7</td>\n",
       "    </tr>\n",
       "  </tbody>\n",
       "</table>\n",
       "</div>"
      ],
      "text/plain": [
       "  median_track_pcc tss_pcc log_quantity_pcc  test_fold test_chrom  val_fold  \\\n",
       "1            0.686   0.760            0.587          1        5,7         2   \n",
       "2            0.689   0.760            0.592          2      12,11         3   \n",
       "3            0.657   0.705            0.585          3   14,15,18         4   \n",
       "4            0.670   0.745            0.576          4          1         5   \n",
       "5            0.653   0.736            0.573          5       2,22         6   \n",
       "6            0.666   0.710            0.567          6        4,6         7   \n",
       "7            0.633   0.744            0.551          7       3,16         8   \n",
       "8            0.644   0.705            0.475          8      19,10         9   \n",
       "9            0.659   0.751            0.492          9       17,8         1   \n",
       "\n",
       "  val_chrom  \n",
       "1     12,11  \n",
       "2  14,15,18  \n",
       "3         1  \n",
       "4      2,22  \n",
       "5       4,6  \n",
       "6      3,16  \n",
       "7     19,10  \n",
       "8      17,8  \n",
       "9       5,7  "
      ]
     },
     "execution_count": 5,
     "metadata": {},
     "output_type": "execute_result"
    }
   ],
   "source": [
    "# LOAD DATA\n",
    "\n",
    "datafolds = pd.read_csv(os.path.join(SCRATCH, \"evaluation_data/data_fold_assignments.csv.gz\"))\n",
    "chroms = [\n",
    "    \",\".join(fold[1]).replace(\"chr\", \"\") for fold in list(datafolds.groupby(\"fold\").chrom)\n",
    "]\n",
    "\n",
    "summstats = pd.read_csv(\n",
    "    os.path.join(SCRATCH, \"evaluation_data/predictions/individual_test/summ_stats_individual_holdouts.csv.gz\"),\n",
    "    index_col=0,\n",
    ").map(\"{:,.3f}\".format)\n",
    "\n",
    "summstats[\"test_fold\"] = summstats.index\n",
    "summstats[\"test_chrom\"] = chroms[1:]\n",
    "summstats[\"val_fold\"] = list(summstats.index[1:]) + [summstats.index[0]]\n",
    "summstats[\"val_chrom\"] = list(summstats.test_chrom[1:]) + [summstats.test_chrom.iloc[0]]\n",
    "\n",
    "summstats"
   ]
  },
  {
   "cell_type": "code",
   "execution_count": 6,
   "metadata": {},
   "outputs": [
    {
     "data": {
      "image/png": "[encoded data removed]",
      "text/plain": [
       "<Figure size 640x480 with 1 Axes>"
      ]
     },
     "metadata": {},
     "output_type": "display_data"
    }
   ],
   "source": [
    "fix, ax = plt.subplots()\n",
    "ax.axis(\"off\")\n",
    "table = pd.plotting.table(\n",
    "    ax, summstats,\n",
    "    loc=\"center\", cellLoc=\"center\", colWidths=[0.3, 0.13, 0.3, 0.15, 0.2, 0.13, 0.2],\n",
    ")\n",
    "table.auto_set_font_size(False)\n",
    "table.set_fontsize(9)\n",
    "plt.tight_layout() \n",
    "plt.savefig(\"img/summ_stats_individual_holdouts.pdf\")"
   ]
  },
  {
   "cell_type": "code",
   "execution_count": null,
   "metadata": {},
   "outputs": [],
   "source": []
  }
 ],
 "metadata": {
  "kernelspec": {
   "display_name": "plt",
   "language": "python",
   "name": "python3"
  },
  "language_info": {
   "codemirror_mode": {
    "name": "ipython",
    "version": 3
   },
   "file_extension": ".py",
   "mimetype": "text/x-python",
   "name": "python",
   "nbconvert_exporter": "python",
   "pygments_lexer": "ipython3",
   "version": "3.12.0"
  },
  "orig_nbformat": 4
 },
 "nbformat": 4,
 "nbformat_minor": 2
}
