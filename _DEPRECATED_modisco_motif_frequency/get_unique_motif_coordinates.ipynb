{
 "cells": [
  {
   "cell_type": "code",
   "execution_count": 5,
   "metadata": {},
   "outputs": [],
   "source": [
    "import pandas as pd\n",
    "import h5py\n",
    "import tqdm\n",
    "from pathlib import Path"
   ]
  },
  {
   "cell_type": "code",
   "execution_count": 6,
   "metadata": {},
   "outputs": [
    {
     "name": "stdout",
     "output_type": "stream",
     "text": [
      "wget https://zenodo.org/records/10597358/files/tfmodisco_results.tar.gz -P /Users/adamhe/github/scratch\n",
      "tar -xvzf /Users/adamhe/github/scratch/tfmodisco_results.tar.gz -C /Users/adamhe/github/scratch\n"
     ]
    }
   ],
   "source": [
    "# PRINT COMMANDS TO DOWNLOAD AND EXTRACT DATA\n",
    "\n",
    "# Set SCRATCH to where you want to download data to\n",
    "SCRATCH = \"/Users/adamhe/github/scratch\"\n",
    "\n",
    "URL = \"https://zenodo.org/records/10597358/files\"\n",
    "TAR = \"tfmodisco_results.tar.gz\"\n",
    "print(f\"wget {URL}/{TAR} -P {SCRATCH}\")\n",
    "print(f\"tar -xvzf {SCRATCH}/{TAR} -C {SCRATCH}\")"
   ]
  },
  {
   "cell_type": "code",
   "execution_count": 10,
   "metadata": {},
   "outputs": [],
   "source": [
    "output = \"quantity\"\n",
    "modisco = h5py.File(\n",
    "    Path(SCRATCH, f\"tfmodisco_results/mean_across_folds_all_{output}_modisco.h5\")\n",
    ")\n",
    "windows = pd.read_csv(\n",
    "    Path(SCRATCH, \"tfmodisco_results/merged_windows_all.bed.gz\"), sep=\"\\t\", header=None\n",
    ")\n",
    "windows.columns = [\"chrom\", \"start\", \"end\"]"
   ]
  },
  {
   "cell_type": "code",
   "execution_count": 11,
   "metadata": {},
   "outputs": [
    {
     "name": "stderr",
     "output_type": "stream",
     "text": [
      "100%|██████████| 67/67 [00:00<00:00, 578.07it/s]\n",
      "67it [00:00, 1304.77it/s]\n"
     ]
    }
   ],
   "source": [
    "example_idx = []\n",
    "starts = []\n",
    "ends = []\n",
    "is_revcomp = []\n",
    "for i in tqdm.trange(len(modisco[\"pos_patterns\"].keys())):\n",
    "    example_idx.append(modisco[\"pos_patterns\"][f\"pattern_{i}\"][\"seqlets\"][\"example_idx\"][:])\n",
    "    starts.append(modisco[\"pos_patterns\"][f\"pattern_{i}\"][\"seqlets\"][\"start\"][:])\n",
    "    ends.append(modisco[\"pos_patterns\"][f\"pattern_{i}\"][\"seqlets\"][\"end\"][:])\n",
    "    is_revcomp.append(modisco[\"pos_patterns\"][f\"pattern_{i}\"][\"seqlets\"][\"is_revcomp\"][:])\n",
    "\n",
    "pos_pattern_coords = []\n",
    "for i, (idx, start, end, revcomp) in tqdm.tqdm(enumerate(zip(example_idx, starts, ends, is_revcomp))):\n",
    "    windows_idx = windows.iloc[idx]\n",
    "    pos_pattern_coords.append(\n",
    "        pd.DataFrame(\n",
    "            {\n",
    "                \"chrom\": windows_idx[\"chrom\"],\n",
    "                \"start\": windows_idx[\"start\"] + start,\n",
    "                \"end\": windows_idx[\"start\"] + end,\n",
    "                \"revcomp\": revcomp\n",
    "            }\n",
    "        ).drop_duplicates()\n",
    "    )"
   ]
  },
  {
   "cell_type": "code",
   "execution_count": 12,
   "metadata": {},
   "outputs": [
    {
     "name": "stderr",
     "output_type": "stream",
     "text": [
      "67it [00:00, 197.72it/s]\n"
     ]
    }
   ],
   "source": [
    "outdir = Path(SCRATCH, \"uniq_coords\")\n",
    "outdir.mkdir(exist_ok=True)\n",
    "for i, coords in tqdm.tqdm(enumerate(pos_pattern_coords)):\n",
    "    coords.to_csv(\n",
    "        outdir.joinpath(f\"modisco_{output}_pattern_{i}_coords.txt.gz\"), sep=\"\\t\"\n",
    "        )"
   ]
  },
  {
   "cell_type": "code",
   "execution_count": null,
   "metadata": {},
   "outputs": [],
   "source": []
  }
 ],
 "metadata": {
  "kernelspec": {
   "display_name": "plt",
   "language": "python",
   "name": "python3"
  },
  "language_info": {
   "codemirror_mode": {
    "name": "ipython",
    "version": 3
   },
   "file_extension": ".py",
   "mimetype": "text/x-python",
   "name": "python",
   "nbconvert_exporter": "python",
   "pygments_lexer": "ipython3",
   "version": "3.12.0"
  }
 },
 "nbformat": 4,
 "nbformat_minor": 2
}
